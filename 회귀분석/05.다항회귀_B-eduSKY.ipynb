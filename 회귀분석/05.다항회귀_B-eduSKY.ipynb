{
 "cells": [
  {
   "cell_type": "markdown",
   "metadata": {},
   "source": [
    "# 다항회귀"
   ]
  },
  {
   "cell_type": "markdown",
   "metadata": {},
   "source": [
    "## 다항식 특성으로 변환"
   ]
  },
  {
   "cell_type": "code",
   "execution_count": null,
   "metadata": {},
   "outputs": [],
   "source": [
    "# sampel [[0,1][2, 3]] 변환 연습\n",
    "\n"
   ]
  },
  {
   "cell_type": "code",
   "execution_count": null,
   "metadata": {},
   "outputs": [],
   "source": []
  },
  {
   "cell_type": "markdown",
   "metadata": {},
   "source": [
    "## 사이킷런으로 다항 회귀 분석"
   ]
  },
  {
   "cell_type": "code",
   "execution_count": null,
   "metadata": {},
   "outputs": [],
   "source": [
    "#1) 데이터 준비: 데이터를 생성하여 탐색 및 확인"
   ]
  },
  {
   "cell_type": "code",
   "execution_count": 1,
   "metadata": {},
   "outputs": [
    {
     "data": {
      "image/png": "[encoded data removed]",
      "text/plain": [
       "<Figure size 432x288 with 1 Axes>"
      ]
     },
     "metadata": {
      "needs_background": "light"
     },
     "output_type": "display_data"
    }
   ],
   "source": [
    "import numpy as np\n",
    "import matplotlib.pyplot as plt\n",
    "\n",
    "X = 6 * np.random.rand(100,1) - 3\n",
    "y = 0.5 * X ** 2 + X + 2 + np.random.randn(100, 1)\n",
    "\n",
    "plt.scatter(X, y, color='blue')\n",
    "plt.show()"
   ]
  },
  {
   "cell_type": "code",
   "execution_count": 4,
   "metadata": {},
   "outputs": [
    {
     "data": {
      "text/plain": [
       "array([[-3.07661061],\n",
       "       [-2.95148153],\n",
       "       [-2.82635244],\n",
       "       [-2.70122336],\n",
       "       [-2.57609427],\n",
       "       [-2.45096518],\n",
       "       [-2.3258361 ],\n",
       "       [-2.20070701],\n",
       "       [-2.07557793],\n",
       "       [-1.95044884],\n",
       "       [-1.82531976],\n",
       "       [-1.70019067],\n",
       "       [-1.57506158],\n",
       "       [-1.4499325 ],\n",
       "       [-1.32480341],\n",
       "       [-1.19967433],\n",
       "       [-1.07454524],\n",
       "       [-0.94941616],\n",
       "       [-0.82428707],\n",
       "       [-0.69915798],\n",
       "       [-0.5740289 ],\n",
       "       [-0.44889981],\n",
       "       [-0.32377073],\n",
       "       [-0.19864164],\n",
       "       [-0.07351256],\n",
       "       [ 0.05161653],\n",
       "       [ 0.17674561],\n",
       "       [ 0.3018747 ],\n",
       "       [ 0.42700379],\n",
       "       [ 0.55213287],\n",
       "       [ 0.67726196],\n",
       "       [ 0.80239104],\n",
       "       [ 0.92752013],\n",
       "       [ 1.05264921],\n",
       "       [ 1.1777783 ],\n",
       "       [ 1.30290739],\n",
       "       [ 1.42803647],\n",
       "       [ 1.55316556],\n",
       "       [ 1.67829464],\n",
       "       [ 1.80342373],\n",
       "       [ 1.92855281],\n",
       "       [ 2.0536819 ],\n",
       "       [ 2.17881099],\n",
       "       [ 2.30394007],\n",
       "       [ 2.42906916],\n",
       "       [ 2.55419824],\n",
       "       [ 2.67932733],\n",
       "       [ 2.80445641],\n",
       "       [ 2.9295855 ],\n",
       "       [ 3.05471459]])"
      ]
     },
     "execution_count": 4,
     "metadata": {},
     "output_type": "execute_result"
    }
   ],
   "source": [
    "from sklearn.model_selection import train_test_split\n",
    "\n",
    "xx = np.linspace(X.min()-0.1, X.max()+0.1).reshape(-1, 1)\n",
    "xx"
   ]
  },
  {
   "cell_type": "code",
   "execution_count": null,
   "metadata": {},
   "outputs": [],
   "source": [
    "# 2) 단순 선형 회귀 분석 및 시각화 : 비교 목적"
   ]
  },
  {
   "cell_type": "code",
   "execution_count": 10,
   "metadata": {},
   "outputs": [
    {
     "data": {
      "image/png": "[encoded data removed]",
      "text/plain": [
       "<Figure size 432x288 with 1 Axes>"
      ]
     },
     "metadata": {
      "needs_background": "light"
     },
     "output_type": "display_data"
    }
   ],
   "source": [
    "from sklearn.linear_model import LinearRegression\n",
    "\n",
    "X1_train = X\n",
    "y_train = y\n",
    "\n",
    "reg1 = LinearRegression().fit(X1_train, y_train)\n",
    "\n",
    "xx = np.arange(-3, 3, 0.01)[:, np.newaxis]\n",
    "yy = reg1.predict(xx)\n",
    "\n",
    "plt.plot(xx, yy, c='r', ls='--', label='degree=1')\n",
    "plt.legend()\n",
    "plt.scatter(X, y, c='b');\n"
   ]
  },
  {
   "cell_type": "code",
   "execution_count": 13,
   "metadata": {
    "scrolled": true
   },
   "outputs": [
    {
     "data": {
      "text/plain": [
       "array([[-0.58786786],\n",
       "       [-1.03571085],\n",
       "       [ 0.66784006],\n",
       "       [-1.50254806],\n",
       "       [-1.34363986],\n",
       "       [-1.88598276],\n",
       "       [-1.51378598],\n",
       "       [ 1.88963117],\n",
       "       [-1.97304379],\n",
       "       [-1.07252298],\n",
       "       [ 0.04159519],\n",
       "       [-0.21458347],\n",
       "       [-2.51915391],\n",
       "       [-1.97860129],\n",
       "       [-2.93250343],\n",
       "       [-0.90388374],\n",
       "       [-1.79773675],\n",
       "       [ 2.13142751],\n",
       "       [ 1.65706919],\n",
       "       [ 0.25592964],\n",
       "       [ 2.56585633],\n",
       "       [-0.29835729],\n",
       "       [ 1.87336826],\n",
       "       [-2.97661061],\n",
       "       [ 0.68321119],\n",
       "       [-2.41882703],\n",
       "       [-2.06230841],\n",
       "       [ 1.86522745],\n",
       "       [-1.29100818],\n",
       "       [ 2.36587093],\n",
       "       [-1.00512535],\n",
       "       [ 1.26194915],\n",
       "       [-2.48992786],\n",
       "       [ 1.17730292],\n",
       "       [ 0.92999745],\n",
       "       [-2.47251908],\n",
       "       [ 2.37664511],\n",
       "       [-0.68232897],\n",
       "       [-1.76007823],\n",
       "       [ 0.60252604],\n",
       "       [-0.43935127],\n",
       "       [-1.40658006],\n",
       "       [ 1.65786795],\n",
       "       [ 1.64742694],\n",
       "       [ 0.9313791 ],\n",
       "       [-1.69358399],\n",
       "       [ 0.14720949],\n",
       "       [-2.78779195],\n",
       "       [-2.00101785],\n",
       "       [ 0.53175473],\n",
       "       [-1.32620071],\n",
       "       [-0.96201165],\n",
       "       [-2.1236363 ],\n",
       "       [-1.57247119],\n",
       "       [ 1.68327302],\n",
       "       [ 0.7702507 ],\n",
       "       [ 0.06702525],\n",
       "       [ 0.21468292],\n",
       "       [ 0.75405022],\n",
       "       [-2.42166581],\n",
       "       [ 0.36792341],\n",
       "       [ 1.5722174 ],\n",
       "       [-2.57203367],\n",
       "       [ 1.65521614],\n",
       "       [ 2.45176349],\n",
       "       [-1.27914771],\n",
       "       [ 1.83688714],\n",
       "       [-1.13865012],\n",
       "       [-1.73567509],\n",
       "       [ 0.48629084],\n",
       "       [ 0.91318643],\n",
       "       [ 1.49349975],\n",
       "       [-2.86492249],\n",
       "       [ 0.35885089],\n",
       "       [ 0.14692743],\n",
       "       [ 1.70922211],\n",
       "       [-0.4408348 ],\n",
       "       [-1.74071001],\n",
       "       [ 0.69412153],\n",
       "       [-0.50743606],\n",
       "       [ 0.29230231],\n",
       "       [ 2.75503353],\n",
       "       [-0.78633162],\n",
       "       [-0.32924808],\n",
       "       [ 2.68074783],\n",
       "       [-2.43712344],\n",
       "       [-2.06078371],\n",
       "       [ 0.06512124],\n",
       "       [-2.9362857 ],\n",
       "       [ 2.49820471],\n",
       "       [-1.19301386],\n",
       "       [ 1.43355084],\n",
       "       [ 0.69544195],\n",
       "       [-2.18195105],\n",
       "       [ 2.27511783],\n",
       "       [-1.27820655],\n",
       "       [ 2.95471459],\n",
       "       [ 1.68296774],\n",
       "       [ 2.46729568],\n",
       "       [-2.62033236]])"
      ]
     },
     "execution_count": 13,
     "metadata": {},
     "output_type": "execute_result"
    }
   ],
   "source": [
    "X"
   ]
  },
  {
   "cell_type": "code",
   "execution_count": null,
   "metadata": {},
   "outputs": [],
   "source": [
    "# 3) 2차항 형태로 다항 회귀 수행"
   ]
  },
  {
   "cell_type": "code",
   "execution_count": 17,
   "metadata": {},
   "outputs": [
    {
     "data": {
      "image/png": "[encoded data removed]",
      "text/plain": [
       "<Figure size 432x288 with 1 Axes>"
      ]
     },
     "metadata": {
      "needs_background": "light"
     },
     "output_type": "display_data"
    }
   ],
   "source": [
    "from sklearn.linear_model import LinearRegression\n",
    "from sklearn.preprocessing import PolynomialFeatures\n",
    "\n",
    "poly = PolynomialFeatures(degree=2)\n",
    "X2_train = poly.fit_transform(X)\n",
    "y_train = y\n",
    "\n",
    "reg2 = LinearRegression().fit(X2_train, y_train)\n",
    "\n",
    "xx = np.arange(-3, 3, 0.01)[:, np.newaxis]\n",
    "yy = reg2.predict(poly.transform(xx))\n",
    "\n",
    "plt.plot(xx, yy, c='g', ls='--', label='degree=2')\n",
    "plt.scatter(X, y, c='b')\n",
    "plt.legend();"
   ]
  },
  {
   "cell_type": "code",
   "execution_count": null,
   "metadata": {},
   "outputs": [],
   "source": []
  },
  {
   "cell_type": "code",
   "execution_count": 18,
   "metadata": {},
   "outputs": [
    {
     "name": "stdout",
     "output_type": "stream",
     "text": [
      "[[0.         1.03963828 0.46303805]] [2.14937939]\n"
     ]
    }
   ],
   "source": [
    "# 구해진 2차식의 계수 확인\n",
    "print(reg2.coef_, reg2.intercept_)"
   ]
  },
  {
   "cell_type": "code",
   "execution_count": null,
   "metadata": {},
   "outputs": [],
   "source": [
    "# 4) 7차항 형태로 다항회귀 수행"
   ]
  },
  {
   "cell_type": "code",
   "execution_count": 19,
   "metadata": {},
   "outputs": [
    {
     "data": {
      "image/png": "[encoded data removed]",
      "text/plain": [
       "<Figure size 432x288 with 1 Axes>"
      ]
     },
     "metadata": {
      "needs_background": "light"
     },
     "output_type": "display_data"
    }
   ],
   "source": [
    "from sklearn.linear_model import LinearRegression\n",
    "from sklearn.preprocessing import PolynomialFeatures\n",
    "\n",
    "poly = PolynomialFeatures(degree=7)\n",
    "X7_train = poly.fit_transform(X)\n",
    "y_train = y\n",
    "\n",
    "reg7 = LinearRegression().fit(X7_train, y_train)\n",
    "\n",
    "xx = np.arange(-3, 3, 0.01)[:, np.newaxis]\n",
    "yy = reg7.predict(poly.transform(xx))\n",
    "\n",
    "plt.plot(xx, yy, c='m', ls='--', label='degree=7')\n",
    "plt.scatter(X, y, c='b')\n",
    "plt.legend();"
   ]
  },
  {
   "cell_type": "code",
   "execution_count": null,
   "metadata": {},
   "outputs": [],
   "source": []
  },
  {
   "cell_type": "code",
   "execution_count": 20,
   "metadata": {},
   "outputs": [
    {
     "data": {
      "image/png": "[encoded data removed]",
      "text/plain": [
       "<Figure size 432x288 with 1 Axes>"
      ]
     },
     "metadata": {
      "needs_background": "light"
     },
     "output_type": "display_data"
    }
   ],
   "source": [
    "# 각 차수별 그래프와 원본 데이터 비교 시각화\n",
    "from sklearn.linear_model import LinearRegression\n",
    "from sklearn.preprocessing import PolynomialFeatures\n",
    "\n",
    "degree = [1, 2, 7]\n",
    "colors = ['red', 'green', 'magenta']\n",
    "\n",
    "plt.scatter(X, y, color='b', alpha=0.2)\n",
    "for i, d in enumerate(degree): \n",
    "    poly = PolynomialFeatures(degree=d)\n",
    "    X_train = poly.fit_transform(X)\n",
    "    y_train = y\n",
    "\n",
    "    reg = LinearRegression().fit(X_train, y_train)\n",
    "    xx = np.arange(-3, 3, 0.01)\n",
    "    yy = reg.predict(poly.transform(xx[:, np.newaxis]))\n",
    "\n",
    "    plt.plot(xx, yy, color=colors[i], linestyle='--',\\\n",
    "             label='degree={}'.format(d))\n",
    "    plt.legend()\n",
    "plt.show()  "
   ]
  },
  {
   "cell_type": "markdown",
   "metadata": {},
   "source": [
    "# pipeline 응용"
   ]
  },
  {
   "cell_type": "code",
   "execution_count": null,
   "metadata": {},
   "outputs": [],
   "source": [
    "# 데이터 변환과정과 머신러닝을 연결해줌"
   ]
  },
  {
   "cell_type": "code",
   "execution_count": null,
   "metadata": {},
   "outputs": [],
   "source": [
    "# 1) degree=2인 모델\n",
    "from sklearn.pipeline import make_pipeline\n",
    "\n",
    "reg = make_pipeline(PolynomialFeatures(degree=2), LinearRegression()).fit(X, y)\n",
    "xx = np.arange(-3, 3, 0.01)\n",
    "yy = reg.predict(xx[:, np.newaxis])\n",
    "\n",
    "plt.plot(xx, yy, color='r', linestyle='--', label='degree=2')\n",
    "plt.scatter(X, y, color='b', alpha=0.2)\n",
    "plt.legend()\n",
    "plt.show()"
   ]
  },
  {
   "cell_type": "code",
   "execution_count": null,
   "metadata": {},
   "outputs": [],
   "source": [
    "# 2) degree = [1, 3, 7]인 모델을 파이프라인으로 변환- 추정 통합\n",
    "\n",
    "from sklearn.linear_model import LinearRegression\n",
    "from sklearn.preprocessing import PolynomialFeatures\n",
    "\n",
    "degree = [1, 3, 7]\n",
    "colors = ['magenta', 'green', 'red']\n",
    "\n",
    "plt.scatter(X, y, color='b', alpha=0.2)\n",
    "for i, d in enumerate(degree): \n",
    "    reg = make_pipeline(PolynomialFeatures(degree=d), LinearRegression()).fit(X, y)\n",
    "    xx = np.arange(-3, 3, 0.01)\n",
    "    yy = reg.predict(xx[:, np.newaxis])\n",
    "\n",
    "    plt.plot(xx, yy, color=colors[i], linestyle='--', label='degree={}'.format(d))\n",
    "    plt.legend()\n",
    "plt.show()  "
   ]
  },
  {
   "cell_type": "raw",
   "metadata": {},
   "source": [
    "\"\"\"r2_scores =[]\n",
    "fig = plt.figure(figsize=(12, 10))\n",
    "for i, degree in enumerate([1, 3, 5, 10], start=1):\n",
    "    ax = fig.add_subplot(2, 2, i)\n",
    "    ax.scatter(X.ravel(), y, s=15)\n",
    "    y_pred = make_pipeline(PolynomialFeatures(degree), LinearRegression()).fit(X, y).predict(X_test)\n",
    "    #r2_score = r2_score(y, y_pred ) \n",
    "    ax.plot(X_test.ravel(), y_pred, label='degree={}'.format(degree))\n",
    "    ax.set_xlim(-0.1, 1)\n",
    "    ax.set_ylim(-2, 12)\n",
    "    ax.legend(loc='best')\"\"\""
   ]
  },
  {
   "cell_type": "code",
   "execution_count": null,
   "metadata": {
    "scrolled": true
   },
   "outputs": [],
   "source": [
    "# 1, 2, 3, 7 나란히 그리기\n",
    "from sklearn.linear_model import LinearRegression\n",
    "from sklearn.preprocessing import PolynomialFeatures\n",
    "\n",
    "degree = [1, 3, 7, 9]\n",
    "colors = ['magenta', 'green', 'red', 'lime']\n",
    "\n",
    "\n",
    "fig, ax = plt.subplots(2, 2, figsize=(16, 5))\n",
    "\n",
    "for i, d in enumerate(degree): \n",
    "    #ax = fig.add_subplots(2, 2, i)\n",
    "    \n",
    "    reg = make_pipeline(PolynomialFeatures(degree=d), LinearRegression()).fit(X, y)\n",
    "    xx = np.arange(-3, 3, 0.01)\n",
    "    yy = reg.predict(xx[:, np.newaxis])\n",
    "    ax[i].scatter(X, y, color='b', alpha=0.2)\n",
    "    ax[i].plot(xx, yy, color=colors[i], linestyle='--', label='degree={}'.format(d))\n",
    "    ax[i].legend()\n",
    "plt.show()  "
   ]
  },
  {
   "cell_type": "markdown",
   "metadata": {},
   "source": [
    "# pipeline 실습"
   ]
  },
  {
   "cell_type": "code",
   "execution_count": null,
   "metadata": {},
   "outputs": [],
   "source": [
    "#################\n",
    "##파이프라인 연습\n",
    "####################\n",
    "#다항식으로 데이터를 변환시키고 학습을 연결시키는 파이프라인 \n",
    "from sklearn.linear_model import LinearRegression\n",
    "from sklearn.pipeline import make_pipeline\n",
    "\n",
    "from sklearn.model_selection import train_test_split\n",
    "## 학습용, 검증용 데이터 분할\n",
    "\n",
    "X_train, X_test, y_train, y_test = train_test_split(X, y, test_size=0.3, random_state=1)\n",
    "# 시각화를 위한 xx 좌표계 미리 준비\n",
    "# y축 좌표계는 각 모델마다 만듦\n",
    "#xx = np.linspace(X.min()-0.1, X.max()+0.1).reshape(-1, 1)\n",
    "xx = np.arange(-3, 3, 0.01).reshape(-1, 1)\n",
    "degree=[1, 3, 5, 10]\n",
    "\n",
    "for d in degree:\n",
    "    reg = make_pipeline(PolynomialFeatures(degree=d), LinearRegression())\n",
    "    reg.fit(X_train, y_train)\n",
    "    y_pred = reg.predict(X_test)\n",
    "    yy = reg.predict(xx)\n",
    "    r2 = r2_score(y_test, y_pred)\n",
    "    plt.figure(figsize=(5,5))\n",
    "    plt.plot(xx, yy, label='degree={}'.format(d))\n",
    "    plt.scatter(X, y, s=5)\n",
    "    plt.legend()\n",
    "    \n",
    "    # 주석 표시 - 텍스트\n",
    "    plt.annotate('r2_score: {:.3f} '.format(r2),  #텍스트 입력\n",
    "                 xycoords= 'axes pixels',\n",
    "                 xy=(10, 230),            #텍스트 위치 기준점\n",
    "                 )\n",
    "    "
   ]
  },
  {
   "cell_type": "code",
   "execution_count": null,
   "metadata": {},
   "outputs": [],
   "source": []
  },
  {
   "cell_type": "markdown",
   "metadata": {},
   "source": [
    "# [실습 ]: 보스턴 집값 데이터셋을 활용한 다항회귀 실습 - 방의 갯수 VS 가격"
   ]
  },
  {
   "cell_type": "markdown",
   "metadata": {},
   "source": [
    "### 필요한 모듈 import"
   ]
  },
  {
   "cell_type": "code",
   "execution_count": 40,
   "metadata": {},
   "outputs": [],
   "source": [
    "from sklearn.datasets import load_boston\n",
    "from sklearn.preprocessing import PolynomialFeatures\n",
    "from sklearn.linear_model import LinearRegression\n",
    "from sklearn.model_selection import train_test_split\n",
    "from sklearn.metrics import r2_score, mean_squared_error\n",
    "import matplotlib.pyplot as plt\n",
    "import pandas as pd\n",
    "import numpy as np\n",
    "%matplotlib inline"
   ]
  },
  {
   "cell_type": "markdown",
   "metadata": {},
   "source": [
    "#### 데이터 수집"
   ]
  },
  {
   "cell_type": "code",
   "execution_count": 41,
   "metadata": {},
   "outputs": [
    {
     "name": "stderr",
     "output_type": "stream",
     "text": [
      "/opt/homebrew/Caskroom/miniforge/base/envs/tf/lib/python3.9/site-packages/sklearn/utils/deprecation.py:87: FutureWarning: Function load_boston is deprecated; `load_boston` is deprecated in 1.0 and will be removed in 1.2.\n",
      "\n",
      "    The Boston housing prices dataset has an ethical problem. You can refer to\n",
      "    the documentation of this function for further details.\n",
      "\n",
      "    The scikit-learn maintainers therefore strongly discourage the use of this\n",
      "    dataset unless the purpose of the code is to study and educate about\n",
      "    ethical issues in data science and machine learning.\n",
      "\n",
      "    In this special case, you can fetch the dataset from the original\n",
      "    source::\n",
      "\n",
      "        import pandas as pd\n",
      "        import numpy as np\n",
      "\n",
      "\n",
      "        data_url = \"http://lib.stat.cmu.edu/datasets/boston\"\n",
      "        raw_df = pd.read_csv(data_url, sep=\"\\s+\", skiprows=22, header=None)\n",
      "        data = np.hstack([raw_df.values[::2, :], raw_df.values[1::2, :2]])\n",
      "        target = raw_df.values[1::2, 2]\n",
      "\n",
      "    Alternative datasets include the California housing dataset (i.e.\n",
      "    :func:`~sklearn.datasets.fetch_california_housing`) and the Ames housing\n",
      "    dataset. You can load the datasets as follows::\n",
      "\n",
      "        from sklearn.datasets import fetch_california_housing\n",
      "        housing = fetch_california_housing()\n",
      "\n",
      "    for the California housing dataset and::\n",
      "\n",
      "        from sklearn.datasets import fetch_openml\n",
      "        housing = fetch_openml(name=\"house_prices\", as_frame=True)\n",
      "\n",
      "    for the Ames housing dataset.\n",
      "    \n",
      "  warnings.warn(msg, category=FutureWarning)\n"
     ]
    }
   ],
   "source": [
    "boston = load_boston()"
   ]
  },
  {
   "cell_type": "markdown",
   "metadata": {},
   "source": [
    "#### 데이터 이해"
   ]
  },
  {
   "cell_type": "code",
   "execution_count": 42,
   "metadata": {},
   "outputs": [
    {
     "name": "stdout",
     "output_type": "stream",
     "text": [
      "['CRIM' 'ZN' 'INDUS' 'CHAS' 'NOX' 'RM' 'AGE' 'DIS' 'RAD' 'TAX' 'PTRATIO'\n",
      " 'B' 'LSTAT']\n"
     ]
    }
   ],
   "source": [
    "#boston.DESCR\n",
    "print(boston.feature_names)"
   ]
  },
  {
   "cell_type": "markdown",
   "metadata": {},
   "source": [
    "#### 데이터 준비"
   ]
  },
  {
   "cell_type": "code",
   "execution_count": 43,
   "metadata": {},
   "outputs": [],
   "source": [
    "# 독립변수, 종속변수를 데이터프레임으로 정리"
   ]
  },
  {
   "cell_type": "code",
   "execution_count": 44,
   "metadata": {},
   "outputs": [
    {
     "data": {
      "text/plain": [
       "array([[  0.00632,  18.     ,   2.31   , ...,  15.3    , 396.9    ,\n",
       "          4.98   ],\n",
       "       [  0.02731,   0.     ,   7.07   , ...,  17.8    , 396.9    ,\n",
       "          9.14   ],\n",
       "       [  0.02729,   0.     ,   7.07   , ...,  17.8    , 392.83   ,\n",
       "          4.03   ],\n",
       "       ...,\n",
       "       [  0.06076,   0.     ,  11.93   , ...,  21.     , 396.9    ,\n",
       "          5.64   ],\n",
       "       [  0.10959,   0.     ,  11.93   , ...,  21.     , 393.45   ,\n",
       "          6.48   ],\n",
       "       [  0.04741,   0.     ,  11.93   , ...,  21.     , 396.9    ,\n",
       "          7.88   ]])"
      ]
     },
     "execution_count": 44,
     "metadata": {},
     "output_type": "execute_result"
    }
   ],
   "source": [
    "boston.data"
   ]
  },
  {
   "cell_type": "code",
   "execution_count": 45,
   "metadata": {},
   "outputs": [
    {
     "data": {
      "text/plain": [
       "array([[  0.00632,  18.     ,   2.31   ,   0.     ,   0.538  ,   6.575  ,\n",
       "         65.2    ,   4.09   ,   1.     , 296.     ,  15.3    , 396.9    ,\n",
       "          4.98   ],\n",
       "       [  0.02731,   0.     ,   7.07   ,   0.     ,   0.469  ,   6.421  ,\n",
       "         78.9    ,   4.9671 ,   2.     , 242.     ,  17.8    , 396.9    ,\n",
       "          9.14   ],\n",
       "       [  0.02729,   0.     ,   7.07   ,   0.     ,   0.469  ,   7.185  ,\n",
       "         61.1    ,   4.9671 ,   2.     , 242.     ,  17.8    , 392.83   ,\n",
       "          4.03   ],\n",
       "       [  0.03237,   0.     ,   2.18   ,   0.     ,   0.458  ,   6.998  ,\n",
       "         45.8    ,   6.0622 ,   3.     , 222.     ,  18.7    , 394.63   ,\n",
       "          2.94   ],\n",
       "       [  0.06905,   0.     ,   2.18   ,   0.     ,   0.458  ,   7.147  ,\n",
       "         54.2    ,   6.0622 ,   3.     , 222.     ,  18.7    , 396.9    ,\n",
       "          5.33   ]])"
      ]
     },
     "execution_count": 45,
     "metadata": {},
     "output_type": "execute_result"
    }
   ],
   "source": [
    "np.set_printoptions(suppress=True)\n",
    "boston.data[:5]"
   ]
  },
  {
   "cell_type": "code",
   "execution_count": 46,
   "metadata": {},
   "outputs": [],
   "source": [
    "X = pd.DataFrame(boston.data, columns=boston.feature_names)['RM'].to_frame()\n",
    "y = boston.target"
   ]
  },
  {
   "cell_type": "code",
   "execution_count": 47,
   "metadata": {},
   "outputs": [
    {
     "name": "stdout",
     "output_type": "stream",
     "text": [
      "        RM\n",
      "0    6.575\n",
      "1    6.421\n",
      "2    7.185\n",
      "3    6.998\n",
      "4    7.147\n",
      "..     ...\n",
      "501  6.593\n",
      "502  6.120\n",
      "503  6.976\n",
      "504  6.794\n",
      "505  6.030\n",
      "\n",
      "[506 rows x 1 columns]\n",
      "[[6.575]\n",
      " [6.421]\n",
      " [7.185]\n",
      " [6.998]\n",
      " [7.147]\n",
      " [6.43 ]\n",
      " [6.012]\n",
      " [6.172]\n",
      " [5.631]\n",
      " [6.004]\n",
      " [6.377]\n",
      " [6.009]\n",
      " [5.889]\n",
      " [5.949]\n",
      " [6.096]\n",
      " [5.834]\n",
      " [5.935]\n",
      " [5.99 ]\n",
      " [5.456]\n",
      " [5.727]\n",
      " [5.57 ]\n",
      " [5.965]\n",
      " [6.142]\n",
      " [5.813]\n",
      " [5.924]\n",
      " [5.599]\n",
      " [5.813]\n",
      " [6.047]\n",
      " [6.495]\n",
      " [6.674]\n",
      " [5.713]\n",
      " [6.072]\n",
      " [5.95 ]\n",
      " [5.701]\n",
      " [6.096]\n",
      " [5.933]\n",
      " [5.841]\n",
      " [5.85 ]\n",
      " [5.966]\n",
      " [6.595]\n",
      " [7.024]\n",
      " [6.77 ]\n",
      " [6.169]\n",
      " [6.211]\n",
      " [6.069]\n",
      " [5.682]\n",
      " [5.786]\n",
      " [6.03 ]\n",
      " [5.399]\n",
      " [5.602]\n",
      " [5.963]\n",
      " [6.115]\n",
      " [6.511]\n",
      " [5.998]\n",
      " [5.888]\n",
      " [7.249]\n",
      " [6.383]\n",
      " [6.816]\n",
      " [6.145]\n",
      " [5.927]\n",
      " [5.741]\n",
      " [5.966]\n",
      " [6.456]\n",
      " [6.762]\n",
      " [7.104]\n",
      " [6.29 ]\n",
      " [5.787]\n",
      " [5.878]\n",
      " [5.594]\n",
      " [5.885]\n",
      " [6.417]\n",
      " [5.961]\n",
      " [6.065]\n",
      " [6.245]\n",
      " [6.273]\n",
      " [6.286]\n",
      " [6.279]\n",
      " [6.14 ]\n",
      " [6.232]\n",
      " [5.874]\n",
      " [6.727]\n",
      " [6.619]\n",
      " [6.302]\n",
      " [6.167]\n",
      " [6.389]\n",
      " [6.63 ]\n",
      " [6.015]\n",
      " [6.121]\n",
      " [7.007]\n",
      " [7.079]\n",
      " [6.417]\n",
      " [6.405]\n",
      " [6.442]\n",
      " [6.211]\n",
      " [6.249]\n",
      " [6.625]\n",
      " [6.163]\n",
      " [8.069]\n",
      " [7.82 ]\n",
      " [7.416]\n",
      " [6.727]\n",
      " [6.781]\n",
      " [6.405]\n",
      " [6.137]\n",
      " [6.167]\n",
      " [5.851]\n",
      " [5.836]\n",
      " [6.127]\n",
      " [6.474]\n",
      " [6.229]\n",
      " [6.195]\n",
      " [6.715]\n",
      " [5.913]\n",
      " [6.092]\n",
      " [6.254]\n",
      " [5.928]\n",
      " [6.176]\n",
      " [6.021]\n",
      " [5.872]\n",
      " [5.731]\n",
      " [5.87 ]\n",
      " [6.004]\n",
      " [5.961]\n",
      " [5.856]\n",
      " [5.879]\n",
      " [5.986]\n",
      " [5.613]\n",
      " [5.693]\n",
      " [6.431]\n",
      " [5.637]\n",
      " [6.458]\n",
      " [6.326]\n",
      " [6.372]\n",
      " [5.822]\n",
      " [5.757]\n",
      " [6.335]\n",
      " [5.942]\n",
      " [6.454]\n",
      " [5.857]\n",
      " [6.151]\n",
      " [6.174]\n",
      " [5.019]\n",
      " [5.403]\n",
      " [5.468]\n",
      " [4.903]\n",
      " [6.13 ]\n",
      " [5.628]\n",
      " [4.926]\n",
      " [5.186]\n",
      " [5.597]\n",
      " [6.122]\n",
      " [5.404]\n",
      " [5.012]\n",
      " [5.709]\n",
      " [6.129]\n",
      " [6.152]\n",
      " [5.272]\n",
      " [6.943]\n",
      " [6.066]\n",
      " [6.51 ]\n",
      " [6.25 ]\n",
      " [7.489]\n",
      " [7.802]\n",
      " [8.375]\n",
      " [5.854]\n",
      " [6.101]\n",
      " [7.929]\n",
      " [5.877]\n",
      " [6.319]\n",
      " [6.402]\n",
      " [5.875]\n",
      " [5.88 ]\n",
      " [5.572]\n",
      " [6.416]\n",
      " [5.859]\n",
      " [6.546]\n",
      " [6.02 ]\n",
      " [6.315]\n",
      " [6.86 ]\n",
      " [6.98 ]\n",
      " [7.765]\n",
      " [6.144]\n",
      " [7.155]\n",
      " [6.563]\n",
      " [5.604]\n",
      " [6.153]\n",
      " [7.831]\n",
      " [6.782]\n",
      " [6.556]\n",
      " [7.185]\n",
      " [6.951]\n",
      " [6.739]\n",
      " [7.178]\n",
      " [6.8  ]\n",
      " [6.604]\n",
      " [7.875]\n",
      " [7.287]\n",
      " [7.107]\n",
      " [7.274]\n",
      " [6.975]\n",
      " [7.135]\n",
      " [6.162]\n",
      " [7.61 ]\n",
      " [7.853]\n",
      " [8.034]\n",
      " [5.891]\n",
      " [6.326]\n",
      " [5.783]\n",
      " [6.064]\n",
      " [5.344]\n",
      " [5.96 ]\n",
      " [5.404]\n",
      " [5.807]\n",
      " [6.375]\n",
      " [5.412]\n",
      " [6.182]\n",
      " [5.888]\n",
      " [6.642]\n",
      " [5.951]\n",
      " [6.373]\n",
      " [6.951]\n",
      " [6.164]\n",
      " [6.879]\n",
      " [6.618]\n",
      " [8.266]\n",
      " [8.725]\n",
      " [8.04 ]\n",
      " [7.163]\n",
      " [7.686]\n",
      " [6.552]\n",
      " [5.981]\n",
      " [7.412]\n",
      " [8.337]\n",
      " [8.247]\n",
      " [6.726]\n",
      " [6.086]\n",
      " [6.631]\n",
      " [7.358]\n",
      " [6.481]\n",
      " [6.606]\n",
      " [6.897]\n",
      " [6.095]\n",
      " [6.358]\n",
      " [6.393]\n",
      " [5.593]\n",
      " [5.605]\n",
      " [6.108]\n",
      " [6.226]\n",
      " [6.433]\n",
      " [6.718]\n",
      " [6.487]\n",
      " [6.438]\n",
      " [6.957]\n",
      " [8.259]\n",
      " [6.108]\n",
      " [5.876]\n",
      " [7.454]\n",
      " [8.704]\n",
      " [7.333]\n",
      " [6.842]\n",
      " [7.203]\n",
      " [7.52 ]\n",
      " [8.398]\n",
      " [7.327]\n",
      " [7.206]\n",
      " [5.56 ]\n",
      " [7.014]\n",
      " [8.297]\n",
      " [7.47 ]\n",
      " [5.92 ]\n",
      " [5.856]\n",
      " [6.24 ]\n",
      " [6.538]\n",
      " [7.691]\n",
      " [6.758]\n",
      " [6.854]\n",
      " [7.267]\n",
      " [6.826]\n",
      " [6.482]\n",
      " [6.812]\n",
      " [7.82 ]\n",
      " [6.968]\n",
      " [7.645]\n",
      " [7.923]\n",
      " [7.088]\n",
      " [6.453]\n",
      " [6.23 ]\n",
      " [6.209]\n",
      " [6.315]\n",
      " [6.565]\n",
      " [6.861]\n",
      " [7.148]\n",
      " [6.63 ]\n",
      " [6.127]\n",
      " [6.009]\n",
      " [6.678]\n",
      " [6.549]\n",
      " [5.79 ]\n",
      " [6.345]\n",
      " [7.041]\n",
      " [6.871]\n",
      " [6.59 ]\n",
      " [6.495]\n",
      " [6.982]\n",
      " [7.236]\n",
      " [6.616]\n",
      " [7.42 ]\n",
      " [6.849]\n",
      " [6.635]\n",
      " [5.972]\n",
      " [4.973]\n",
      " [6.122]\n",
      " [6.023]\n",
      " [6.266]\n",
      " [6.567]\n",
      " [5.705]\n",
      " [5.914]\n",
      " [5.782]\n",
      " [6.382]\n",
      " [6.113]\n",
      " [6.426]\n",
      " [6.376]\n",
      " [6.041]\n",
      " [5.708]\n",
      " [6.415]\n",
      " [6.431]\n",
      " [6.312]\n",
      " [6.083]\n",
      " [5.868]\n",
      " [6.333]\n",
      " [6.144]\n",
      " [5.706]\n",
      " [6.031]\n",
      " [6.316]\n",
      " [6.31 ]\n",
      " [6.037]\n",
      " [5.869]\n",
      " [5.895]\n",
      " [6.059]\n",
      " [5.985]\n",
      " [5.968]\n",
      " [7.241]\n",
      " [6.54 ]\n",
      " [6.696]\n",
      " [6.874]\n",
      " [6.014]\n",
      " [5.898]\n",
      " [6.516]\n",
      " [6.635]\n",
      " [6.939]\n",
      " [6.49 ]\n",
      " [6.579]\n",
      " [5.884]\n",
      " [6.728]\n",
      " [5.663]\n",
      " [5.936]\n",
      " [6.212]\n",
      " [6.395]\n",
      " [6.127]\n",
      " [6.112]\n",
      " [6.398]\n",
      " [6.251]\n",
      " [5.362]\n",
      " [5.803]\n",
      " [8.78 ]\n",
      " [3.561]\n",
      " [4.963]\n",
      " [3.863]\n",
      " [4.97 ]\n",
      " [6.683]\n",
      " [7.016]\n",
      " [6.216]\n",
      " [5.875]\n",
      " [4.906]\n",
      " [4.138]\n",
      " [7.313]\n",
      " [6.649]\n",
      " [6.794]\n",
      " [6.38 ]\n",
      " [6.223]\n",
      " [6.968]\n",
      " [6.545]\n",
      " [5.536]\n",
      " [5.52 ]\n",
      " [4.368]\n",
      " [5.277]\n",
      " [4.652]\n",
      " [5.   ]\n",
      " [4.88 ]\n",
      " [5.39 ]\n",
      " [5.713]\n",
      " [6.051]\n",
      " [5.036]\n",
      " [6.193]\n",
      " [5.887]\n",
      " [6.471]\n",
      " [6.405]\n",
      " [5.747]\n",
      " [5.453]\n",
      " [5.852]\n",
      " [5.987]\n",
      " [6.343]\n",
      " [6.404]\n",
      " [5.349]\n",
      " [5.531]\n",
      " [5.683]\n",
      " [4.138]\n",
      " [5.608]\n",
      " [5.617]\n",
      " [6.852]\n",
      " [5.757]\n",
      " [6.657]\n",
      " [4.628]\n",
      " [5.155]\n",
      " [4.519]\n",
      " [6.434]\n",
      " [6.782]\n",
      " [5.304]\n",
      " [5.957]\n",
      " [6.824]\n",
      " [6.411]\n",
      " [6.006]\n",
      " [5.648]\n",
      " [6.103]\n",
      " [5.565]\n",
      " [5.896]\n",
      " [5.837]\n",
      " [6.202]\n",
      " [6.193]\n",
      " [6.38 ]\n",
      " [6.348]\n",
      " [6.833]\n",
      " [6.425]\n",
      " [6.436]\n",
      " [6.208]\n",
      " [6.629]\n",
      " [6.461]\n",
      " [6.152]\n",
      " [5.935]\n",
      " [5.627]\n",
      " [5.818]\n",
      " [6.406]\n",
      " [6.219]\n",
      " [6.485]\n",
      " [5.854]\n",
      " [6.459]\n",
      " [6.341]\n",
      " [6.251]\n",
      " [6.185]\n",
      " [6.417]\n",
      " [6.749]\n",
      " [6.655]\n",
      " [6.297]\n",
      " [7.393]\n",
      " [6.728]\n",
      " [6.525]\n",
      " [5.976]\n",
      " [5.936]\n",
      " [6.301]\n",
      " [6.081]\n",
      " [6.701]\n",
      " [6.376]\n",
      " [6.317]\n",
      " [6.513]\n",
      " [6.209]\n",
      " [5.759]\n",
      " [5.952]\n",
      " [6.003]\n",
      " [5.926]\n",
      " [5.713]\n",
      " [6.167]\n",
      " [6.229]\n",
      " [6.437]\n",
      " [6.98 ]\n",
      " [5.427]\n",
      " [6.162]\n",
      " [6.484]\n",
      " [5.304]\n",
      " [6.185]\n",
      " [6.229]\n",
      " [6.242]\n",
      " [6.75 ]\n",
      " [7.061]\n",
      " [5.762]\n",
      " [5.871]\n",
      " [6.312]\n",
      " [6.114]\n",
      " [5.905]\n",
      " [5.454]\n",
      " [5.414]\n",
      " [5.093]\n",
      " [5.983]\n",
      " [5.983]\n",
      " [5.707]\n",
      " [5.926]\n",
      " [5.67 ]\n",
      " [5.39 ]\n",
      " [5.794]\n",
      " [6.019]\n",
      " [5.569]\n",
      " [6.027]\n",
      " [6.593]\n",
      " [6.12 ]\n",
      " [6.976]\n",
      " [6.794]\n",
      " [6.03 ]]\n"
     ]
    }
   ],
   "source": [
    "# 데이터프레임 확인\n",
    "print(X)\n",
    "print(X.values)"
   ]
  },
  {
   "cell_type": "code",
   "execution_count": 48,
   "metadata": {},
   "outputs": [],
   "source": [
    "# 학습용, 검증용 데이터 분할\n",
    "# test_size=0.3, random_state=1\n",
    "X_train, X_test, y_train, y_test = train_test_split(X, y, test_size=0.3, random_state=1)"
   ]
  },
  {
   "cell_type": "markdown",
   "metadata": {},
   "source": [
    "#### 모델 구축"
   ]
  },
  {
   "cell_type": "code",
   "execution_count": 55,
   "metadata": {
    "collapsed": true
   },
   "outputs": [
    {
     "data": {
      "text/plain": [
       "array([[2.561     ],\n",
       "       [2.70832653],\n",
       "       [2.85565306],\n",
       "       [3.00297959],\n",
       "       [3.15030612],\n",
       "       [3.29763265],\n",
       "       [3.44495918],\n",
       "       [3.59228571],\n",
       "       [3.73961224],\n",
       "       [3.88693878],\n",
       "       [4.03426531],\n",
       "       [4.18159184],\n",
       "       [4.32891837],\n",
       "       [4.4762449 ],\n",
       "       [4.62357143],\n",
       "       [4.77089796],\n",
       "       [4.91822449],\n",
       "       [5.06555102],\n",
       "       [5.21287755],\n",
       "       [5.36020408],\n",
       "       [5.50753061],\n",
       "       [5.65485714],\n",
       "       [5.80218367],\n",
       "       [5.9495102 ],\n",
       "       [6.09683673],\n",
       "       [6.24416327],\n",
       "       [6.3914898 ],\n",
       "       [6.53881633],\n",
       "       [6.68614286],\n",
       "       [6.83346939],\n",
       "       [6.98079592],\n",
       "       [7.12812245],\n",
       "       [7.27544898],\n",
       "       [7.42277551],\n",
       "       [7.57010204],\n",
       "       [7.71742857],\n",
       "       [7.8647551 ],\n",
       "       [8.01208163],\n",
       "       [8.15940816],\n",
       "       [8.30673469],\n",
       "       [8.45406122],\n",
       "       [8.60138776],\n",
       "       [8.74871429],\n",
       "       [8.89604082],\n",
       "       [9.04336735],\n",
       "       [9.19069388],\n",
       "       [9.33802041],\n",
       "       [9.48534694],\n",
       "       [9.63267347],\n",
       "       [9.78      ]])"
      ]
     },
     "execution_count": 55,
     "metadata": {},
     "output_type": "execute_result"
    }
   ],
   "source": [
    "# 시각화를 위한 xx 좌표계 미리 준비\n",
    "# y축 좌표계는 각 모델마다 만듦\n",
    "xx = np.linspace(X.min()-1, X.max()+1)  # 방의 갯수 최대값, 최소값\n",
    "xx"
   ]
  },
  {
   "cell_type": "code",
   "execution_count": 56,
   "metadata": {},
   "outputs": [
    {
     "name": "stdout",
     "output_type": "stream",
     "text": [
      "[8.46109164] -30.571032410898336\n"
     ]
    },
    {
     "name": "stderr",
     "output_type": "stream",
     "text": [
      "/opt/homebrew/Caskroom/miniforge/base/envs/tf/lib/python3.9/site-packages/sklearn/base.py:450: UserWarning: X does not have valid feature names, but LinearRegression was fitted with feature names\n",
      "  warnings.warn(\n"
     ]
    }
   ],
   "source": [
    "# 단순 선형회귀\n",
    "\n",
    "reg1 = LinearRegression().fit(X_train, y_train)\n",
    "y_pred1 = reg1.predict(X_test)\n",
    "\n",
    "print(reg1.coef_, reg1.intercept_)\n",
    "\n",
    "yy1 = reg1.predict(xx)"
   ]
  },
  {
   "cell_type": "code",
   "execution_count": null,
   "metadata": {},
   "outputs": [],
   "source": []
  },
  {
   "cell_type": "code",
   "execution_count": 61,
   "metadata": {},
   "outputs": [
    {
     "name": "stdout",
     "output_type": "stream",
     "text": [
      "[  0.         -23.79086549   2.54284549] 70.45880734716546\n"
     ]
    }
   ],
   "source": [
    "# 2차식의 다항회귀\n",
    "from sklearn.preprocessing import PolynomialFeatures\n",
    "\n",
    "poly = PolynomialFeatures(degree=2)\n",
    "X2_train = poly.fit_transform(X_train)\n",
    "X2_test = poly.transform(X_test)\n",
    "\n",
    "reg2 = LinearRegression().fit(X2_train, y_train)\n",
    "y_pred2 = reg2.predict(X2_test)\n",
    "print(reg2.coef_, reg2.intercept_)\n",
    "\n",
    "xx2 = PolynomialFeatures(degree=2).fit_transform(xx)\n",
    "yy2 = reg2.predict(xx2)"
   ]
  },
  {
   "cell_type": "code",
   "execution_count": 65,
   "metadata": {},
   "outputs": [
    {
     "name": "stdout",
     "output_type": "stream",
     "text": [
      "[   0.         -121.27686495   18.59069233   -0.86283235] 263.6623044802063\n"
     ]
    }
   ],
   "source": [
    "# 3차식의 다항회귀\n",
    "from sklearn.preprocessing import PolynomialFeatures\n",
    "\n",
    "poly = PolynomialFeatures(degree=3)\n",
    "X3_train = poly.fit_transform(X_train)\n",
    "X3_test = poly.transform(X_test)\n",
    "\n",
    "reg3 = LinearRegression().fit(X3_train, y_train)\n",
    "y_pred3 = reg3.predict(X3_test)\n",
    "print(reg3.coef_, reg3.intercept_)\n",
    "\n",
    "xx3 = PolynomialFeatures(degree=3).fit_transform(xx)\n",
    "yy3 = reg3.predict(xx3)"
   ]
  },
  {
   "cell_type": "code",
   "execution_count": 66,
   "metadata": {},
   "outputs": [
    {
     "data": {
      "text/plain": [
       "<matplotlib.legend.Legend at 0x16b4794c0>"
      ]
     },
     "execution_count": 66,
     "metadata": {},
     "output_type": "execute_result"
    },
    {
     "data": {
      "image/png": "[encoded data removed]",
      "text/plain": [
       "<Figure size 432x288 with 1 Axes>"
      ]
     },
     "metadata": {
      "needs_background": "light"
     },
     "output_type": "display_data"
    }
   ],
   "source": [
    "# 데이터 시각화\n",
    "plt.scatter(X, y,alpha=0.2, label='data')\n",
    "plt.plot(xx, yy1, c='r', ls='--', label='linear')\n",
    "plt.plot(xx, yy2, c='g', label='quad')\n",
    "plt.plot(xx, yy3, c='m', ls=':', label='cubic')\n",
    "\n",
    "plt.xlabel('<# of rooms>', fontsize=13)\n",
    "plt.legend(loc='lower right')"
   ]
  },
  {
   "cell_type": "markdown",
   "metadata": {},
   "source": [
    "#### 모델 성능 평가"
   ]
  },
  {
   "cell_type": "code",
   "execution_count": 67,
   "metadata": {},
   "outputs": [
    {
     "data": {
      "text/plain": [
       "1    0.601577\n",
       "2    0.667063\n",
       "3    0.666776\n",
       "dtype: float64"
      ]
     },
     "execution_count": 67,
     "metadata": {},
     "output_type": "execute_result"
    }
   ],
   "source": [
    "# 차수에 따른 r2(결정계수)를 시리즈로 만들어보자\n",
    "# 차수에 따른 r2(결정계수)를 시리즈로 만들어보자\n",
    "data = { 1 : r2_score(y_test, y_pred1),\n",
    "         2 : r2_score(y_test, y_pred2),\n",
    "         3 : r2_score(y_test, y_pred3) }\n",
    "       \n",
    "pd.Series(data)\n"
   ]
  },
  {
   "cell_type": "code",
   "execution_count": null,
   "metadata": {},
   "outputs": [],
   "source": []
  },
  {
   "cell_type": "markdown",
   "metadata": {},
   "source": [
    "#  당뇨병 데이터로 다항 회귀 실습"
   ]
  },
  {
   "cell_type": "markdown",
   "metadata": {},
   "source": [
    "- hint:\n",
    "- 1) 데이터셋:load_diabetes\n",
    "- 2) 체질량지수(bmi)를 가지고 단순 선형회귀, 2차, 3차 다항회귀를 수행하고, 가장 적합한 모델을 찾으시오\n",
    "- 3) 데이터 분할 비율: 0.3, random_state=1\n",
    "- 4) 차수별 시각화\n",
    "- 5) 차수별 결정계수 비교"
   ]
  },
  {
   "cell_type": "code",
   "execution_count": null,
   "metadata": {},
   "outputs": [],
   "source": []
  },
  {
   "cell_type": "code",
   "execution_count": null,
   "metadata": {},
   "outputs": [],
   "source": []
  },
  {
   "cell_type": "code",
   "execution_count": 17,
   "metadata": {},
   "outputs": [],
   "source": [
    "# 1) 데이터프레임으로 만들기\n"
   ]
  },
  {
   "cell_type": "code",
   "execution_count": null,
   "metadata": {},
   "outputs": [],
   "source": [
    "# 선형 모델 객체 생성\n"
   ]
  },
  {
   "cell_type": "code",
   "execution_count": null,
   "metadata": {},
   "outputs": [],
   "source": [
    "# 시각화를 위한 xx 좌표축 범위 확정\n",
    "\n"
   ]
  },
  {
   "cell_type": "code",
   "execution_count": 18,
   "metadata": {},
   "outputs": [],
   "source": [
    "# 차수별 모형 구축\n",
    "\n"
   ]
  },
  {
   "cell_type": "code",
   "execution_count": null,
   "metadata": {},
   "outputs": [],
   "source": [
    "# 차수별 시각화"
   ]
  },
  {
   "cell_type": "code",
   "execution_count": null,
   "metadata": {},
   "outputs": [],
   "source": [
    "# 차수에 따른 r2(결정계수)를 시리즈로 만들어보자\n"
   ]
  },
  {
   "cell_type": "code",
   "execution_count": null,
   "metadata": {},
   "outputs": [],
   "source": []
  },
  {
   "cell_type": "markdown",
   "metadata": {},
   "source": [
    "# 농어의 길이, 두께, 넓이 데이터를 활용하여 농어의 무게를 예측하는 선형회귀식을 완성하라\n"
   ]
  },
  {
   "cell_type": "markdown",
   "metadata": {},
   "source": [
    "* 1) 데이터셋: 입력변수(perch_full.csv), 종속변수(perch_weight)\n",
    "* 2) 단순선형회귀, 2차 다항회귀, 3차 다항회귀를 각각 수행하고, 가장 r2가 높은 모델을 찾으시오\n",
    "* 3) 데이터 분할 비율: 0.2, random_state=22"
   ]
  },
  {
   "cell_type": "code",
   "execution_count": null,
   "metadata": {},
   "outputs": [],
   "source": [
    "import pandas as pd\n",
    "df = pd.read_csv('./data/perch_full.csv')\n",
    "perch_weight = np.array([5.9, 32.0, 40.0, 51.5, 70.0, 100.0, 78.0, 80.0, 85.0, 85.0, 110.0,\n",
    "       115.0, 125.0, 130.0, 120.0, 120.0, 130.0, 135.0, 110.0, 130.0,\n",
    "       150.0, 145.0, 150.0, 170.0, 225.0, 145.0, 188.0, 180.0, 197.0,\n",
    "       218.0, 300.0, 260.0, 265.0, 250.0, 250.0, 300.0, 320.0, 514.0,\n",
    "       556.0, 840.0, 685.0, 700.0, 700.0, 690.0, 900.0, 650.0, 820.0,\n",
    "       850.0, 900.0, 1015.0, 820.0, 1100.0, 1000.0, 1100.0, 1000.0,\n",
    "       1000.0])"
   ]
  },
  {
   "cell_type": "code",
   "execution_count": null,
   "metadata": {},
   "outputs": [],
   "source": [
    "# X, y 데이터셋 준비"
   ]
  },
  {
   "cell_type": "code",
   "execution_count": null,
   "metadata": {},
   "outputs": [],
   "source": []
  },
  {
   "cell_type": "code",
   "execution_count": null,
   "metadata": {},
   "outputs": [],
   "source": []
  },
  {
   "cell_type": "code",
   "execution_count": null,
   "metadata": {},
   "outputs": [],
   "source": [
    "#데이터 분할"
   ]
  },
  {
   "cell_type": "code",
   "execution_count": null,
   "metadata": {},
   "outputs": [],
   "source": []
  },
  {
   "cell_type": "code",
   "execution_count": null,
   "metadata": {},
   "outputs": [],
   "source": [
    "# 단순 선형회귀"
   ]
  },
  {
   "cell_type": "code",
   "execution_count": null,
   "metadata": {},
   "outputs": [],
   "source": []
  },
  {
   "cell_type": "code",
   "execution_count": null,
   "metadata": {},
   "outputs": [],
   "source": [
    "#2차 다항회귀"
   ]
  },
  {
   "cell_type": "code",
   "execution_count": null,
   "metadata": {},
   "outputs": [],
   "source": [
    "# 2차 다항회귀를 파이프라인으로 구현\n",
    "\n",
    "# 3차 다항회귀\n",
    "\n",
    "# 5차 다항회귀"
   ]
  },
  {
   "cell_type": "code",
   "execution_count": null,
   "metadata": {},
   "outputs": [],
   "source": [
    "# 5차 다항회귀 Pipeline with make_pipeline\n",
    "from sklearn.pipeline import make_pipeline\n",
    "reg5_mp = make_pipeline(PolynomialFeatures(degree=5), \\\n",
    "                      LinearRegression())\n",
    "reg5_mp.fit(X_train, y_train)\n",
    "y_pred5_mp = reg5_mp.predict(X_test)\n",
    "print(reg5_mp[1].coef_, reg5_mp[1].intercept_)\n",
    "r2_score(y_test, y_pred5_mp)\n",
    "8:35\n",
    "# 5차 다항회귀 with Pipeline\n",
    "from sklearn.pipeline import Pipeline\n",
    "reg5_p = Pipeline([('poly', PolynomialFeatures()), \\\n",
    "                    ('lr', LinearRegression())])\n",
    "# parameter 설정, ('poly', PolynomialFeatures(degree=5)와 동일\n",
    "reg5_p.set_params(poly__degree=5)\n",
    "8:35\n",
    "reg5_p.fit(X_train, y_train)\n",
    "y_pred5_p = reg5_p.predict(X_test)\n",
    "#print(reg5.coef_, reg5.intercept_)\n",
    "r2_score(y_test, y_pred5_p)"
   ]
  },
  {
   "cell_type": "markdown",
   "metadata": {},
   "source": [
    "############## 여기까지 ##############"
   ]
  },
  {
   "cell_type": "code",
   "execution_count": null,
   "metadata": {},
   "outputs": [],
   "source": []
  }
 ],
 "metadata": {
  "kernelspec": {
   "display_name": "Python 3 (ipykernel)",
   "language": "python",
   "name": "python3"
  },
  "language_info": {
   "codemirror_mode": {
    "name": "ipython",
    "version": 3
   },
   "file_extension": ".py",
   "mimetype": "text/x-python",
   "name": "python",
   "nbconvert_exporter": "python",
   "pygments_lexer": "ipython3",
   "version": "3.8.5"
  }
 },
 "nbformat": 4,
 "nbformat_minor": 4
}
