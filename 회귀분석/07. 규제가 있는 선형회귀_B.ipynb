{
 "cells": [
  {
   "cell_type": "markdown",
   "metadata": {},
   "source": [
    "# 규제가 있는 선형회귀 - 릿지, 라쏘, 엘라스틱넷 회귀"
   ]
  },
  {
   "cell_type": "markdown",
   "metadata": {},
   "source": [
    "#### 규제가 있는 모델 구축 - 당뇨병 데이터세트\n",
    "#### 1. 데이터 전처리\n",
    "#### 2. Ridge, Lasso, Elasticnet regression 구축: 회귀 계수 확인, 하이퍼 파라미터 탐색\n",
    "#### 3. 교차 검증으로 최적의 하이퍼파라미터 탐색: LassoCV()"
   ]
  },
  {
   "cell_type": "code",
   "execution_count": 1,
   "metadata": {},
   "outputs": [],
   "source": [
    "# 관련 라이브러리 및 모듈 Import\n",
    "import pandas as pd\n",
    "import numpy as np\n",
    "import matplotlib.pyplot as plt"
   ]
  },
  {
   "cell_type": "code",
   "execution_count": 2,
   "metadata": {},
   "outputs": [],
   "source": [
    "import warnings\n",
    "warnings.filterwarnings(action='ignore')"
   ]
  },
  {
   "cell_type": "code",
   "execution_count": null,
   "metadata": {},
   "outputs": [],
   "source": []
  },
  {
   "cell_type": "markdown",
   "metadata": {},
   "source": [
    "# 0. 데이터 수집, 탐색, 준비"
   ]
  },
  {
   "cell_type": "code",
   "execution_count": 3,
   "metadata": {},
   "outputs": [],
   "source": [
    "from sklearn.datasets import load_diabetes\n",
    "\n",
    "from sklearn.linear_model import LinearRegression\n",
    "from sklearn.linear_model import Ridge\n",
    "from sklearn.linear_model import Lasso\n",
    "from sklearn.linear_model import ElasticNet\n",
    "from sklearn.linear_model import RidgeCV\n",
    "from sklearn.linear_model import LassoCV\n",
    "\n",
    "from sklearn.metrics import mean_squared_error, mean_absolute_error, r2_score\n",
    "\n"
   ]
  },
  {
   "cell_type": "code",
   "execution_count": 4,
   "metadata": {},
   "outputs": [],
   "source": [
    "diab = load_diabetes()"
   ]
  },
  {
   "cell_type": "markdown",
   "metadata": {},
   "source": [
    "####  데이터셋에 대한 설명 및 정보 확인"
   ]
  },
  {
   "cell_type": "code",
   "execution_count": null,
   "metadata": {},
   "outputs": [],
   "source": [
    "# 데이터셋 정보확인\n",
    "#  #이미 스케일링 되어 있음을 확인할 것(Lm 모델에서)"
   ]
  },
  {
   "cell_type": "code",
   "execution_count": 5,
   "metadata": {},
   "outputs": [
    {
     "name": "stdout",
     "output_type": "stream",
     "text": [
      ".. _diabetes_dataset:\n",
      "\n",
      "Diabetes dataset\n",
      "----------------\n",
      "\n",
      "Ten baseline variables, age, sex, body mass index, average blood\n",
      "pressure, and six blood serum measurements were obtained for each of n =\n",
      "442 diabetes patients, as well as the response of interest, a\n",
      "quantitative measure of disease progression one year after baseline.\n",
      "\n",
      "**Data Set Characteristics:**\n",
      "\n",
      "  :Number of Instances: 442\n",
      "\n",
      "  :Number of Attributes: First 10 columns are numeric predictive values\n",
      "\n",
      "  :Target: Column 11 is a quantitative measure of disease progression one year after baseline\n",
      "\n",
      "  :Attribute Information:\n",
      "      - age     age in years\n",
      "      - sex\n",
      "      - bmi     body mass index\n",
      "      - bp      average blood pressure\n",
      "      - s1      tc, T-Cells (a type of white blood cells)\n",
      "      - s2      ldl, low-density lipoproteins\n",
      "      - s3      hdl, high-density lipoproteins\n",
      "      - s4      tch, thyroid stimulating hormone\n",
      "      - s5      ltg, lamotrigine\n",
      "      - s6      glu, blood sugar level\n",
      "\n",
      "Note: Each of these 10 feature variables have been mean centered and scaled by the standard deviation times `n_samples` (i.e. the sum of squares of each column totals 1).\n",
      "\n",
      "Source URL:\n",
      "https://www4.stat.ncsu.edu/~boos/var.select/diabetes.html\n",
      "\n",
      "For more information see:\n",
      "Bradley Efron, Trevor Hastie, Iain Johnstone and Robert Tibshirani (2004) \"Least Angle Regression,\" Annals of Statistics (with discussion), 407-499.\n",
      "(https://web.stanford.edu/~hastie/Papers/LARS/LeastAngle_2002.pdf)\n"
     ]
    }
   ],
   "source": [
    "print(diab.DESCR)"
   ]
  },
  {
   "cell_type": "code",
   "execution_count": 6,
   "metadata": {},
   "outputs": [
    {
     "data": {
      "text/plain": [
       "dict_keys(['data', 'target', 'frame', 'DESCR', 'feature_names', 'data_filename', 'target_filename'])"
      ]
     },
     "execution_count": 6,
     "metadata": {},
     "output_type": "execute_result"
    }
   ],
   "source": [
    "diab.keys()"
   ]
  },
  {
   "cell_type": "code",
   "execution_count": 8,
   "metadata": {},
   "outputs": [
    {
     "data": {
      "text/plain": [
       "array([[ 0.03807591,  0.05068012,  0.06169621, ..., -0.00259226,\n",
       "         0.01990842, -0.01764613],\n",
       "       [-0.00188202, -0.04464164, -0.05147406, ..., -0.03949338,\n",
       "        -0.06832974, -0.09220405],\n",
       "       [ 0.08529891,  0.05068012,  0.04445121, ..., -0.00259226,\n",
       "         0.00286377, -0.02593034],\n",
       "       ...,\n",
       "       [ 0.04170844,  0.05068012, -0.01590626, ..., -0.01107952,\n",
       "        -0.04687948,  0.01549073],\n",
       "       [-0.04547248, -0.04464164,  0.03906215, ...,  0.02655962,\n",
       "         0.04452837, -0.02593034],\n",
       "       [-0.04547248, -0.04464164, -0.0730303 , ..., -0.03949338,\n",
       "        -0.00421986,  0.00306441]])"
      ]
     },
     "execution_count": 8,
     "metadata": {},
     "output_type": "execute_result"
    }
   ],
   "source": [
    "diab.data"
   ]
  },
  {
   "cell_type": "markdown",
   "metadata": {},
   "source": [
    "#### 데이터프레임 변환"
   ]
  },
  {
   "cell_type": "code",
   "execution_count": null,
   "metadata": {},
   "outputs": [],
   "source": [
    "# 독립변수(피처)와 종속변수를 DataFrame자료형으로 변환"
   ]
  },
  {
   "cell_type": "code",
   "execution_count": 11,
   "metadata": {},
   "outputs": [
    {
     "data": {
      "text/html": [
       "<div>\n",
       "<style scoped>\n",
       "    .dataframe tbody tr th:only-of-type {\n",
       "        vertical-align: middle;\n",
       "    }\n",
       "\n",
       "    .dataframe tbody tr th {\n",
       "        vertical-align: top;\n",
       "    }\n",
       "\n",
       "    .dataframe thead th {\n",
       "        text-align: right;\n",
       "    }\n",
       "</style>\n",
       "<table border=\"1\" class=\"dataframe\">\n",
       "  <thead>\n",
       "    <tr style=\"text-align: right;\">\n",
       "      <th></th>\n",
       "      <th>age</th>\n",
       "      <th>sex</th>\n",
       "      <th>bmi</th>\n",
       "      <th>bp</th>\n",
       "      <th>s1</th>\n",
       "      <th>s2</th>\n",
       "      <th>s3</th>\n",
       "      <th>s4</th>\n",
       "      <th>s5</th>\n",
       "      <th>s6</th>\n",
       "    </tr>\n",
       "  </thead>\n",
       "  <tbody>\n",
       "    <tr>\n",
       "      <th>0</th>\n",
       "      <td>0.038076</td>\n",
       "      <td>0.050680</td>\n",
       "      <td>0.061696</td>\n",
       "      <td>0.021872</td>\n",
       "      <td>-0.044223</td>\n",
       "      <td>-0.034821</td>\n",
       "      <td>-0.043401</td>\n",
       "      <td>-0.002592</td>\n",
       "      <td>0.019908</td>\n",
       "      <td>-0.017646</td>\n",
       "    </tr>\n",
       "    <tr>\n",
       "      <th>1</th>\n",
       "      <td>-0.001882</td>\n",
       "      <td>-0.044642</td>\n",
       "      <td>-0.051474</td>\n",
       "      <td>-0.026328</td>\n",
       "      <td>-0.008449</td>\n",
       "      <td>-0.019163</td>\n",
       "      <td>0.074412</td>\n",
       "      <td>-0.039493</td>\n",
       "      <td>-0.068330</td>\n",
       "      <td>-0.092204</td>\n",
       "    </tr>\n",
       "    <tr>\n",
       "      <th>2</th>\n",
       "      <td>0.085299</td>\n",
       "      <td>0.050680</td>\n",
       "      <td>0.044451</td>\n",
       "      <td>-0.005671</td>\n",
       "      <td>-0.045599</td>\n",
       "      <td>-0.034194</td>\n",
       "      <td>-0.032356</td>\n",
       "      <td>-0.002592</td>\n",
       "      <td>0.002864</td>\n",
       "      <td>-0.025930</td>\n",
       "    </tr>\n",
       "    <tr>\n",
       "      <th>3</th>\n",
       "      <td>-0.089063</td>\n",
       "      <td>-0.044642</td>\n",
       "      <td>-0.011595</td>\n",
       "      <td>-0.036656</td>\n",
       "      <td>0.012191</td>\n",
       "      <td>0.024991</td>\n",
       "      <td>-0.036038</td>\n",
       "      <td>0.034309</td>\n",
       "      <td>0.022692</td>\n",
       "      <td>-0.009362</td>\n",
       "    </tr>\n",
       "    <tr>\n",
       "      <th>4</th>\n",
       "      <td>0.005383</td>\n",
       "      <td>-0.044642</td>\n",
       "      <td>-0.036385</td>\n",
       "      <td>0.021872</td>\n",
       "      <td>0.003935</td>\n",
       "      <td>0.015596</td>\n",
       "      <td>0.008142</td>\n",
       "      <td>-0.002592</td>\n",
       "      <td>-0.031991</td>\n",
       "      <td>-0.046641</td>\n",
       "    </tr>\n",
       "  </tbody>\n",
       "</table>\n",
       "</div>"
      ],
      "text/plain": [
       "        age       sex       bmi        bp        s1        s2        s3  \\\n",
       "0  0.038076  0.050680  0.061696  0.021872 -0.044223 -0.034821 -0.043401   \n",
       "1 -0.001882 -0.044642 -0.051474 -0.026328 -0.008449 -0.019163  0.074412   \n",
       "2  0.085299  0.050680  0.044451 -0.005671 -0.045599 -0.034194 -0.032356   \n",
       "3 -0.089063 -0.044642 -0.011595 -0.036656  0.012191  0.024991 -0.036038   \n",
       "4  0.005383 -0.044642 -0.036385  0.021872  0.003935  0.015596  0.008142   \n",
       "\n",
       "         s4        s5        s6  \n",
       "0 -0.002592  0.019908 -0.017646  \n",
       "1 -0.039493 -0.068330 -0.092204  \n",
       "2 -0.002592  0.002864 -0.025930  \n",
       "3  0.034309  0.022692 -0.009362  \n",
       "4 -0.002592 -0.031991 -0.046641  "
      ]
     },
     "execution_count": 11,
     "metadata": {},
     "output_type": "execute_result"
    }
   ],
   "source": [
    "# 데이터셋 객체의 data 배열, 즉, 독립변수 X가되는 피처(특성)들을 DataFrame자료형으로 변환하여\n",
    "# diab_df생성\n",
    "# diab_df.head() 데이터 5개 확인\n",
    "diab_df = pd.DataFrame(data=diab.data,columns=diab.feature_names)\n",
    "diab_df.head()"
   ]
  },
  {
   "cell_type": "code",
   "execution_count": 12,
   "metadata": {},
   "outputs": [
    {
     "data": {
      "text/plain": [
       "(442, 10)"
      ]
     },
     "execution_count": 12,
     "metadata": {},
     "output_type": "execute_result"
    }
   ],
   "source": [
    "diab_df.shape"
   ]
  },
  {
   "cell_type": "code",
   "execution_count": null,
   "metadata": {},
   "outputs": [],
   "source": [
    "# 누락치 확인,  data type 확인 ->  isnull().sum(), target에 결측값이 있으면 해당 관측치 제거"
   ]
  },
  {
   "cell_type": "code",
   "execution_count": 13,
   "metadata": {},
   "outputs": [
    {
     "name": "stdout",
     "output_type": "stream",
     "text": [
      "<class 'pandas.core.frame.DataFrame'>\n",
      "RangeIndex: 442 entries, 0 to 441\n",
      "Data columns (total 10 columns):\n",
      " #   Column  Non-Null Count  Dtype  \n",
      "---  ------  --------------  -----  \n",
      " 0   age     442 non-null    float64\n",
      " 1   sex     442 non-null    float64\n",
      " 2   bmi     442 non-null    float64\n",
      " 3   bp      442 non-null    float64\n",
      " 4   s1      442 non-null    float64\n",
      " 5   s2      442 non-null    float64\n",
      " 6   s3      442 non-null    float64\n",
      " 7   s4      442 non-null    float64\n",
      " 8   s5      442 non-null    float64\n",
      " 9   s6      442 non-null    float64\n",
      "dtypes: float64(10)\n",
      "memory usage: 34.7 KB\n"
     ]
    }
   ],
   "source": [
    "diab_df.info()"
   ]
  },
  {
   "cell_type": "code",
   "execution_count": 14,
   "metadata": {},
   "outputs": [],
   "source": [
    "pd.options.display.float_format='{:.5f}'.format\n",
    "#pd.reset_options('display.float_format')"
   ]
  },
  {
   "cell_type": "code",
   "execution_count": 15,
   "metadata": {},
   "outputs": [
    {
     "data": {
      "text/html": [
       "<div>\n",
       "<style scoped>\n",
       "    .dataframe tbody tr th:only-of-type {\n",
       "        vertical-align: middle;\n",
       "    }\n",
       "\n",
       "    .dataframe tbody tr th {\n",
       "        vertical-align: top;\n",
       "    }\n",
       "\n",
       "    .dataframe thead th {\n",
       "        text-align: right;\n",
       "    }\n",
       "</style>\n",
       "<table border=\"1\" class=\"dataframe\">\n",
       "  <thead>\n",
       "    <tr style=\"text-align: right;\">\n",
       "      <th></th>\n",
       "      <th>age</th>\n",
       "      <th>sex</th>\n",
       "      <th>bmi</th>\n",
       "      <th>bp</th>\n",
       "      <th>s1</th>\n",
       "      <th>s2</th>\n",
       "      <th>s3</th>\n",
       "      <th>s4</th>\n",
       "      <th>s5</th>\n",
       "      <th>s6</th>\n",
       "    </tr>\n",
       "  </thead>\n",
       "  <tbody>\n",
       "    <tr>\n",
       "      <th>count</th>\n",
       "      <td>442.00000</td>\n",
       "      <td>442.00000</td>\n",
       "      <td>442.00000</td>\n",
       "      <td>442.00000</td>\n",
       "      <td>442.00000</td>\n",
       "      <td>442.00000</td>\n",
       "      <td>442.00000</td>\n",
       "      <td>442.00000</td>\n",
       "      <td>442.00000</td>\n",
       "      <td>442.00000</td>\n",
       "    </tr>\n",
       "    <tr>\n",
       "      <th>mean</th>\n",
       "      <td>-0.00000</td>\n",
       "      <td>0.00000</td>\n",
       "      <td>-0.00000</td>\n",
       "      <td>0.00000</td>\n",
       "      <td>-0.00000</td>\n",
       "      <td>0.00000</td>\n",
       "      <td>-0.00000</td>\n",
       "      <td>0.00000</td>\n",
       "      <td>-0.00000</td>\n",
       "      <td>-0.00000</td>\n",
       "    </tr>\n",
       "    <tr>\n",
       "      <th>std</th>\n",
       "      <td>0.04762</td>\n",
       "      <td>0.04762</td>\n",
       "      <td>0.04762</td>\n",
       "      <td>0.04762</td>\n",
       "      <td>0.04762</td>\n",
       "      <td>0.04762</td>\n",
       "      <td>0.04762</td>\n",
       "      <td>0.04762</td>\n",
       "      <td>0.04762</td>\n",
       "      <td>0.04762</td>\n",
       "    </tr>\n",
       "    <tr>\n",
       "      <th>min</th>\n",
       "      <td>-0.10723</td>\n",
       "      <td>-0.04464</td>\n",
       "      <td>-0.09028</td>\n",
       "      <td>-0.11240</td>\n",
       "      <td>-0.12678</td>\n",
       "      <td>-0.11561</td>\n",
       "      <td>-0.10231</td>\n",
       "      <td>-0.07639</td>\n",
       "      <td>-0.12610</td>\n",
       "      <td>-0.13777</td>\n",
       "    </tr>\n",
       "    <tr>\n",
       "      <th>25%</th>\n",
       "      <td>-0.03730</td>\n",
       "      <td>-0.04464</td>\n",
       "      <td>-0.03423</td>\n",
       "      <td>-0.03666</td>\n",
       "      <td>-0.03425</td>\n",
       "      <td>-0.03036</td>\n",
       "      <td>-0.03512</td>\n",
       "      <td>-0.03949</td>\n",
       "      <td>-0.03325</td>\n",
       "      <td>-0.03318</td>\n",
       "    </tr>\n",
       "    <tr>\n",
       "      <th>50%</th>\n",
       "      <td>0.00538</td>\n",
       "      <td>-0.04464</td>\n",
       "      <td>-0.00728</td>\n",
       "      <td>-0.00567</td>\n",
       "      <td>-0.00432</td>\n",
       "      <td>-0.00382</td>\n",
       "      <td>-0.00658</td>\n",
       "      <td>-0.00259</td>\n",
       "      <td>-0.00195</td>\n",
       "      <td>-0.00108</td>\n",
       "    </tr>\n",
       "    <tr>\n",
       "      <th>75%</th>\n",
       "      <td>0.03808</td>\n",
       "      <td>0.05068</td>\n",
       "      <td>0.03125</td>\n",
       "      <td>0.03564</td>\n",
       "      <td>0.02836</td>\n",
       "      <td>0.02984</td>\n",
       "      <td>0.02931</td>\n",
       "      <td>0.03431</td>\n",
       "      <td>0.03243</td>\n",
       "      <td>0.02792</td>\n",
       "    </tr>\n",
       "    <tr>\n",
       "      <th>max</th>\n",
       "      <td>0.11073</td>\n",
       "      <td>0.05068</td>\n",
       "      <td>0.17056</td>\n",
       "      <td>0.13204</td>\n",
       "      <td>0.15391</td>\n",
       "      <td>0.19879</td>\n",
       "      <td>0.18118</td>\n",
       "      <td>0.18523</td>\n",
       "      <td>0.13360</td>\n",
       "      <td>0.13561</td>\n",
       "    </tr>\n",
       "  </tbody>\n",
       "</table>\n",
       "</div>"
      ],
      "text/plain": [
       "            age       sex       bmi        bp        s1        s2        s3  \\\n",
       "count 442.00000 442.00000 442.00000 442.00000 442.00000 442.00000 442.00000   \n",
       "mean   -0.00000   0.00000  -0.00000   0.00000  -0.00000   0.00000  -0.00000   \n",
       "std     0.04762   0.04762   0.04762   0.04762   0.04762   0.04762   0.04762   \n",
       "min    -0.10723  -0.04464  -0.09028  -0.11240  -0.12678  -0.11561  -0.10231   \n",
       "25%    -0.03730  -0.04464  -0.03423  -0.03666  -0.03425  -0.03036  -0.03512   \n",
       "50%     0.00538  -0.04464  -0.00728  -0.00567  -0.00432  -0.00382  -0.00658   \n",
       "75%     0.03808   0.05068   0.03125   0.03564   0.02836   0.02984   0.02931   \n",
       "max     0.11073   0.05068   0.17056   0.13204   0.15391   0.19879   0.18118   \n",
       "\n",
       "             s4        s5        s6  \n",
       "count 442.00000 442.00000 442.00000  \n",
       "mean    0.00000  -0.00000  -0.00000  \n",
       "std     0.04762   0.04762   0.04762  \n",
       "min    -0.07639  -0.12610  -0.13777  \n",
       "25%    -0.03949  -0.03325  -0.03318  \n",
       "50%    -0.00259  -0.00195  -0.00108  \n",
       "75%     0.03431   0.03243   0.02792  \n",
       "max     0.18523   0.13360   0.13561  "
      ]
     },
     "execution_count": 15,
     "metadata": {},
     "output_type": "execute_result"
    }
   ],
   "source": [
    "diab_df.describe()\n"
   ]
  },
  {
   "cell_type": "code",
   "execution_count": 16,
   "metadata": {},
   "outputs": [],
   "source": [
    "#   타겟 데이터를 데이터프레임 열에 추가\n",
    "diab_df['progress'] = diab.target"
   ]
  },
  {
   "cell_type": "code",
   "execution_count": 17,
   "metadata": {},
   "outputs": [
    {
     "data": {
      "text/plain": [
       "<AxesSubplot:xlabel='progress', ylabel='Density'>"
      ]
     },
     "execution_count": 17,
     "metadata": {},
     "output_type": "execute_result"
    },
    {
     "data": {
      "image/png": "[encoded data removed]",
      "text/plain": [
       "<Figure size 432x288 with 1 Axes>"
      ]
     },
     "metadata": {
      "needs_background": "light"
     },
     "output_type": "display_data"
    }
   ],
   "source": [
    "#타겟의 분포 확인 :회귀 모델은 특성과 타겟이 정규분포일때 잘 예측함\n",
    "import seaborn as sns\n",
    "\n",
    "sns.distplot(diab_df['progress'])"
   ]
  },
  {
   "cell_type": "code",
   "execution_count": 40,
   "metadata": {},
   "outputs": [],
   "source": [
    "# X(독립변수), Y(종속변수) 분할\n",
    "# 방법1\n",
    "X = diab.data\n",
    "\n",
    "# 방법2\n",
    "X = diab_df.drop(['progress'],axis=1).values\n",
    "y = np.array(diab_df['progress'])\n",
    "# diab.target\n",
    "# diab_df.progress.values()\n",
    "\n",
    "# y = np.array(diab_df['measure'])\n",
    "\n"
   ]
  },
  {
   "cell_type": "code",
   "execution_count": 41,
   "metadata": {},
   "outputs": [],
   "source": [
    "# 학습용, 평가용 데이터 분리\n",
    "from sklearn.model_selection import train_test_split\n",
    "X_train,X_test,y_train,y_test=train_test_split(X,y,test_size=0.3, random_state=42)"
   ]
  },
  {
   "cell_type": "code",
   "execution_count": null,
   "metadata": {},
   "outputs": [],
   "source": []
  },
  {
   "cell_type": "markdown",
   "metadata": {},
   "source": [
    "# 모델별 계수변화, 알파별 계수 비교 데이터프레임(comp_df)"
   ]
  },
  {
   "cell_type": "code",
   "execution_count": 42,
   "metadata": {},
   "outputs": [
    {
     "data": {
      "text/html": [
       "<div>\n",
       "<style scoped>\n",
       "    .dataframe tbody tr th:only-of-type {\n",
       "        vertical-align: middle;\n",
       "    }\n",
       "\n",
       "    .dataframe tbody tr th {\n",
       "        vertical-align: top;\n",
       "    }\n",
       "\n",
       "    .dataframe thead th {\n",
       "        text-align: right;\n",
       "    }\n",
       "</style>\n",
       "<table border=\"1\" class=\"dataframe\">\n",
       "  <thead>\n",
       "    <tr style=\"text-align: right;\">\n",
       "      <th></th>\n",
       "    </tr>\n",
       "  </thead>\n",
       "  <tbody>\n",
       "    <tr>\n",
       "      <th>age</th>\n",
       "    </tr>\n",
       "    <tr>\n",
       "      <th>sex</th>\n",
       "    </tr>\n",
       "    <tr>\n",
       "      <th>bmi</th>\n",
       "    </tr>\n",
       "    <tr>\n",
       "      <th>bp</th>\n",
       "    </tr>\n",
       "    <tr>\n",
       "      <th>s1</th>\n",
       "    </tr>\n",
       "    <tr>\n",
       "      <th>s2</th>\n",
       "    </tr>\n",
       "    <tr>\n",
       "      <th>s3</th>\n",
       "    </tr>\n",
       "    <tr>\n",
       "      <th>s4</th>\n",
       "    </tr>\n",
       "    <tr>\n",
       "      <th>s5</th>\n",
       "    </tr>\n",
       "    <tr>\n",
       "      <th>s6</th>\n",
       "    </tr>\n",
       "    <tr>\n",
       "      <th>R2 score</th>\n",
       "    </tr>\n",
       "  </tbody>\n",
       "</table>\n",
       "</div>"
      ],
      "text/plain": [
       "Empty DataFrame\n",
       "Columns: []\n",
       "Index: [age, sex, bmi, bp, s1, s2, s3, s4, s5, s6, R2 score]"
      ]
     },
     "execution_count": 42,
     "metadata": {},
     "output_type": "execute_result"
    }
   ],
   "source": [
    "#각 모델별 계수로 이루어진 데이터프레임 준비\n",
    "comp_df = pd.DataFrame(index=(diab.feature_names) + ['R2 score'])\n",
    "\n",
    "comp_df"
   ]
  },
  {
   "cell_type": "code",
   "execution_count": null,
   "metadata": {},
   "outputs": [],
   "source": []
  },
  {
   "cell_type": "code",
   "execution_count": 43,
   "metadata": {},
   "outputs": [],
   "source": [
    "#각 모델별, 규제강도별 평가지표 저장\n"
   ]
  },
  {
   "cell_type": "code",
   "execution_count": null,
   "metadata": {},
   "outputs": [],
   "source": []
  },
  {
   "cell_type": "markdown",
   "metadata": {},
   "source": [
    "# 1. 규제가 없는 선형모델"
   ]
  },
  {
   "cell_type": "code",
   "execution_count": 44,
   "metadata": {},
   "outputs": [],
   "source": [
    "# 당뇨병 데이터를 활용하여 규제가 없는 다중선형회귀를 수행하고 결정계수와 bmi 계수를 출력하라"
   ]
  },
  {
   "cell_type": "code",
   "execution_count": 45,
   "metadata": {},
   "outputs": [
    {
     "name": "stdout",
     "output_type": "stream",
     "text": [
      "0.477292017415733 546.2973726341081\n"
     ]
    }
   ],
   "source": [
    "#모델 구축 및 학습 - LinearRegression\n",
    "model_LR = LinearRegression()\n",
    "model_LR.fit(X_train,y_train)\n",
    "#모델 평가\n",
    "y_pred=model_LR.predict(X_test)\n",
    "r2 = r2_score(y_test,y_pred)\n",
    "# 회귀 계수 확인\n",
    "LR_coef = pd.Series(model_LR.coef_, index=diab.feature_names)\n",
    "print(r2, LR_coef['bmi'])"
   ]
  },
  {
   "cell_type": "markdown",
   "metadata": {},
   "source": [
    "- 계수값 시각화"
   ]
  },
  {
   "cell_type": "code",
   "execution_count": 46,
   "metadata": {},
   "outputs": [
    {
     "data": {
      "text/plain": [
       "<BarContainer object of 10 artists>"
      ]
     },
     "execution_count": 46,
     "metadata": {},
     "output_type": "execute_result"
    },
    {
     "data": {
      "image/png": "[encoded data removed]",
      "text/plain": [
       "<Figure size 720x216 with 1 Axes>"
      ]
     },
     "metadata": {
      "needs_background": "light"
     },
     "output_type": "display_data"
    }
   ],
   "source": [
    "coef = pd.Series(np.abs(model_LR.coef_), index=diab.feature_names).sort_values(ascending=False)\n",
    "# 시각화\n",
    "plt.figure(figsize=(10,3))\n",
    "plt.bar(coef.index, coef.values)"
   ]
  },
  {
   "cell_type": "code",
   "execution_count": null,
   "metadata": {},
   "outputs": [],
   "source": []
  },
  {
   "cell_type": "code",
   "execution_count": 47,
   "metadata": {},
   "outputs": [
    {
     "data": {
      "text/html": [
       "<div>\n",
       "<style scoped>\n",
       "    .dataframe tbody tr th:only-of-type {\n",
       "        vertical-align: middle;\n",
       "    }\n",
       "\n",
       "    .dataframe tbody tr th {\n",
       "        vertical-align: top;\n",
       "    }\n",
       "\n",
       "    .dataframe thead th {\n",
       "        text-align: right;\n",
       "    }\n",
       "</style>\n",
       "<table border=\"1\" class=\"dataframe\">\n",
       "  <thead>\n",
       "    <tr style=\"text-align: right;\">\n",
       "      <th></th>\n",
       "      <th>LR</th>\n",
       "    </tr>\n",
       "  </thead>\n",
       "  <tbody>\n",
       "    <tr>\n",
       "      <th>age</th>\n",
       "      <td>29.25035</td>\n",
       "    </tr>\n",
       "    <tr>\n",
       "      <th>sex</th>\n",
       "      <td>-261.70768</td>\n",
       "    </tr>\n",
       "    <tr>\n",
       "      <th>bmi</th>\n",
       "      <td>546.29737</td>\n",
       "    </tr>\n",
       "    <tr>\n",
       "      <th>bp</th>\n",
       "      <td>388.40077</td>\n",
       "    </tr>\n",
       "    <tr>\n",
       "      <th>s1</th>\n",
       "      <td>-901.95339</td>\n",
       "    </tr>\n",
       "    <tr>\n",
       "      <th>s2</th>\n",
       "      <td>506.76115</td>\n",
       "    </tr>\n",
       "    <tr>\n",
       "      <th>s3</th>\n",
       "      <td>121.14846</td>\n",
       "    </tr>\n",
       "    <tr>\n",
       "      <th>s4</th>\n",
       "      <td>288.02932</td>\n",
       "    </tr>\n",
       "    <tr>\n",
       "      <th>s5</th>\n",
       "      <td>659.27134</td>\n",
       "    </tr>\n",
       "    <tr>\n",
       "      <th>s6</th>\n",
       "      <td>41.37537</td>\n",
       "    </tr>\n",
       "    <tr>\n",
       "      <th>R2 score</th>\n",
       "      <td>0.47729</td>\n",
       "    </tr>\n",
       "  </tbody>\n",
       "</table>\n",
       "</div>"
      ],
      "text/plain": [
       "                 LR\n",
       "age        29.25035\n",
       "sex      -261.70768\n",
       "bmi       546.29737\n",
       "bp        388.40077\n",
       "s1       -901.95339\n",
       "s2        506.76115\n",
       "s3        121.14846\n",
       "s4        288.02932\n",
       "s5        659.27134\n",
       "s6         41.37537\n",
       "R2 score    0.47729"
      ]
     },
     "execution_count": 47,
     "metadata": {},
     "output_type": "execute_result"
    }
   ],
   "source": [
    "# 모델별 비교 데이터프레임 열 추가\n",
    "comp_df['LR'] = np.append(model_LR.coef_,r2)\n",
    "comp_df"
   ]
  },
  {
   "cell_type": "markdown",
   "metadata": {},
   "source": [
    "# 1. 릿지 모델"
   ]
  },
  {
   "cell_type": "code",
   "execution_count": 48,
   "metadata": {},
   "outputs": [
    {
     "data": {
      "text/plain": [
       "Ridge(alpha=1)"
      ]
     },
     "execution_count": 48,
     "metadata": {},
     "output_type": "execute_result"
    }
   ],
   "source": [
    "from sklearn.linear_model import Ridge\n",
    "\n",
    "# alpha=1인 경우 (default)\n",
    "model_Ridge1 = Ridge(alpha=1)\n",
    "model_Ridge1.fit(X_train,y_train)"
   ]
  },
  {
   "cell_type": "code",
   "execution_count": 53,
   "metadata": {},
   "outputs": [
    {
     "name": "stdout",
     "output_type": "stream",
     "text": [
      "R2:0.423 \n",
      "\n",
      "age     45.05377\n",
      "sex    -71.94755\n",
      "bmi    280.71588\n",
      "bp     195.21370\n",
      "s1      -2.22943\n",
      "s2     -17.54116\n",
      "s3    -148.68899\n",
      "s4     120.46709\n",
      "s5     198.61486\n",
      "s6     106.93453\n",
      "dtype: float64\n"
     ]
    }
   ],
   "source": [
    "# 릿지 선형회귀 모델 평가: model_Ridge1, alpha=1\n",
    "y_pred=model_Ridge1.predict(X_test)\n",
    "r2=r2_score(y_test,y_pred)\n",
    "# a=1일때 회귀 계수 확인\n",
    "coef=pd.Series(model_Ridge1.coef_,index=diab.feature_names)\n",
    "print('R2:{:.3f} \\n'.format(r2))\n",
    "print(coef)"
   ]
  },
  {
   "cell_type": "code",
   "execution_count": null,
   "metadata": {},
   "outputs": [],
   "source": []
  },
  {
   "cell_type": "markdown",
   "metadata": {},
   "source": [
    "- 계수값 시각화"
   ]
  },
  {
   "cell_type": "code",
   "execution_count": 54,
   "metadata": {},
   "outputs": [
    {
     "data": {
      "image/png": "[encoded data removed]",
      "text/plain": [
       "<Figure size 720x216 with 1 Axes>"
      ]
     },
     "metadata": {
      "needs_background": "light"
     },
     "output_type": "display_data"
    }
   ],
   "source": [
    "# 시각화\n",
    "coef = pd.Series(np.abs(model_Ridge1.coef_), index=diab.feature_names).sort_values(ascending=False)\n",
    "\n",
    "# 시각화\n",
    "plt.figure(figsize=(10, 3))\n",
    "plt.title(\"<Feature importance of coeffiencts with Ridge(alpha=1)>\", fontsize=15)\n",
    "plt.bar(coef.index, coef.values, align='center' )\n",
    "plt.xticks(coef.index, rotation=30, fontsize=11)\n",
    "plt.show()"
   ]
  },
  {
   "cell_type": "code",
   "execution_count": 56,
   "metadata": {},
   "outputs": [
    {
     "data": {
      "text/html": [
       "<div>\n",
       "<style scoped>\n",
       "    .dataframe tbody tr th:only-of-type {\n",
       "        vertical-align: middle;\n",
       "    }\n",
       "\n",
       "    .dataframe tbody tr th {\n",
       "        vertical-align: top;\n",
       "    }\n",
       "\n",
       "    .dataframe thead th {\n",
       "        text-align: right;\n",
       "    }\n",
       "</style>\n",
       "<table border=\"1\" class=\"dataframe\">\n",
       "  <thead>\n",
       "    <tr style=\"text-align: right;\">\n",
       "      <th></th>\n",
       "      <th>LR</th>\n",
       "      <th>Ridge(alpha=0.01)</th>\n",
       "      <th>Ridge(alpha=1.00)</th>\n",
       "      <th>Ridge(alpha=10.00)</th>\n",
       "      <th>Ridge(alpha=100.00)</th>\n",
       "    </tr>\n",
       "  </thead>\n",
       "  <tbody>\n",
       "    <tr>\n",
       "      <th>age</th>\n",
       "      <td>29.25035</td>\n",
       "      <td>34.16460</td>\n",
       "      <td>45.05377</td>\n",
       "      <td>16.23087</td>\n",
       "      <td>2.07285</td>\n",
       "    </tr>\n",
       "    <tr>\n",
       "      <th>sex</th>\n",
       "      <td>-261.70768</td>\n",
       "      <td>-254.04432</td>\n",
       "      <td>-71.94755</td>\n",
       "      <td>-2.96137</td>\n",
       "      <td>-0.00381</td>\n",
       "    </tr>\n",
       "    <tr>\n",
       "      <th>bmi</th>\n",
       "      <td>546.29737</td>\n",
       "      <td>550.84240</td>\n",
       "      <td>280.71588</td>\n",
       "      <td>59.52415</td>\n",
       "      <td>6.89991</td>\n",
       "    </tr>\n",
       "    <tr>\n",
       "      <th>bp</th>\n",
       "      <td>388.40077</td>\n",
       "      <td>379.13025</td>\n",
       "      <td>195.21370</td>\n",
       "      <td>43.42150</td>\n",
       "      <td>5.08512</td>\n",
       "    </tr>\n",
       "    <tr>\n",
       "      <th>s1</th>\n",
       "      <td>-901.95339</td>\n",
       "      <td>-404.24680</td>\n",
       "      <td>-2.22943</td>\n",
       "      <td>13.87507</td>\n",
       "      <td>2.06966</td>\n",
       "    </tr>\n",
       "    <tr>\n",
       "      <th>s2</th>\n",
       "      <td>506.76115</td>\n",
       "      <td>123.02427</td>\n",
       "      <td>-17.54116</td>\n",
       "      <td>10.86525</td>\n",
       "      <td>1.74375</td>\n",
       "    </tr>\n",
       "    <tr>\n",
       "      <th>s3</th>\n",
       "      <td>121.14846</td>\n",
       "      <td>-99.04672</td>\n",
       "      <td>-148.68899</td>\n",
       "      <td>-37.49585</td>\n",
       "      <td>-4.50888</td>\n",
       "    </tr>\n",
       "    <tr>\n",
       "      <th>s4</th>\n",
       "      <td>288.02932</td>\n",
       "      <td>215.02921</td>\n",
       "      <td>120.46709</td>\n",
       "      <td>38.72853</td>\n",
       "      <td>4.90242</td>\n",
       "    </tr>\n",
       "    <tr>\n",
       "      <th>s5</th>\n",
       "      <td>659.27134</td>\n",
       "      <td>463.84322</td>\n",
       "      <td>198.61486</td>\n",
       "      <td>49.22477</td>\n",
       "      <td>5.92650</td>\n",
       "    </tr>\n",
       "    <tr>\n",
       "      <th>s6</th>\n",
       "      <td>41.37537</td>\n",
       "      <td>50.35055</td>\n",
       "      <td>106.93453</td>\n",
       "      <td>34.73798</td>\n",
       "      <td>4.32870</td>\n",
       "    </tr>\n",
       "    <tr>\n",
       "      <th>R2 score</th>\n",
       "      <td>0.47729</td>\n",
       "      <td>0.47767</td>\n",
       "      <td>0.42334</td>\n",
       "      <td>0.15157</td>\n",
       "      <td>0.01477</td>\n",
       "    </tr>\n",
       "  </tbody>\n",
       "</table>\n",
       "</div>"
      ],
      "text/plain": [
       "                 LR  Ridge(alpha=0.01)  Ridge(alpha=1.00)  Ridge(alpha=10.00)  \\\n",
       "age        29.25035           34.16460           45.05377            16.23087   \n",
       "sex      -261.70768         -254.04432          -71.94755            -2.96137   \n",
       "bmi       546.29737          550.84240          280.71588            59.52415   \n",
       "bp        388.40077          379.13025          195.21370            43.42150   \n",
       "s1       -901.95339         -404.24680           -2.22943            13.87507   \n",
       "s2        506.76115          123.02427          -17.54116            10.86525   \n",
       "s3        121.14846          -99.04672         -148.68899           -37.49585   \n",
       "s4        288.02932          215.02921          120.46709            38.72853   \n",
       "s5        659.27134          463.84322          198.61486            49.22477   \n",
       "s6         41.37537           50.35055          106.93453            34.73798   \n",
       "R2 score    0.47729            0.47767            0.42334             0.15157   \n",
       "\n",
       "          Ridge(alpha=100.00)  \n",
       "age                   2.07285  \n",
       "sex                  -0.00381  \n",
       "bmi                   6.89991  \n",
       "bp                    5.08512  \n",
       "s1                    2.06966  \n",
       "s2                    1.74375  \n",
       "s3                   -4.50888  \n",
       "s4                    4.90242  \n",
       "s5                    5.92650  \n",
       "s6                    4.32870  \n",
       "R2 score              0.01477  "
      ]
     },
     "execution_count": 56,
     "metadata": {},
     "output_type": "execute_result"
    }
   ],
   "source": [
    "# alpha_list=[0.01, 1, 10, 100]인 경우\n",
    "alpha_list=[0.01,1,10,100]\n",
    "\n",
    "for alpha in alpha_list:\n",
    "    model_Ridge=Ridge(alpha=alpha)\n",
    "    model_Ridge.fit(X_train,y_train)\n",
    "    y_pred=model_Ridge.predict(X_test)\n",
    "    r2=r2_score(y_test,y_pred)\n",
    "    \n",
    "    col_name='Ridge(alpha={:.2f})'.format(alpha)\n",
    "    comp_df[col_name]=np.append(model_Ridge.coef_,r2)\n",
    "    \n",
    "comp_df"
   ]
  },
  {
   "cell_type": "code",
   "execution_count": null,
   "metadata": {},
   "outputs": [],
   "source": []
  },
  {
   "cell_type": "markdown",
   "metadata": {},
   "source": [
    "# 2. 라쏘 모델"
   ]
  },
  {
   "cell_type": "code",
   "execution_count": 57,
   "metadata": {},
   "outputs": [
    {
     "data": {
      "text/plain": [
       "Lasso(alpha=1)"
      ]
     },
     "execution_count": 57,
     "metadata": {},
     "output_type": "execute_result"
    }
   ],
   "source": [
    "from sklearn.linear_model import Lasso\n",
    "\n",
    "# alpha = 1\n",
    "model_Lasso1 = Lasso(alpha=1)\n",
    "model_Lasso1.fit(X_train,y_train)"
   ]
  },
  {
   "cell_type": "code",
   "execution_count": 59,
   "metadata": {},
   "outputs": [
    {
     "name": "stdout",
     "output_type": "stream",
     "text": [
      "R2 : 0.362 \n",
      "\n",
      "age     0.00000\n",
      "sex    -0.00000\n",
      "bmi   443.70216\n",
      "bp     51.60340\n",
      "s1      0.00000\n",
      "s2      0.00000\n",
      "s3     -0.00000\n",
      "s4      0.00000\n",
      "s5    201.96713\n",
      "s6      0.00000\n",
      "dtype: float64\n"
     ]
    }
   ],
   "source": [
    "# 라쏘 선형회귀 모델 평가(alpha=1)\n",
    "y_pred = model_Lasso1.predict(X_test)\n",
    "r2=r2_score(y_test,y_pred)\n",
    "\n",
    "# 선형 모델 평가\n",
    "\n",
    "#a = 1 라쏘 모델 회귀 계수\n",
    "coef=pd.Series(model_Lasso1.coef_,index=diab.feature_names)\n",
    "\n",
    "print('R2 : {:.3f} \\n'.format(r2))\n",
    "print(coef)"
   ]
  },
  {
   "cell_type": "markdown",
   "metadata": {},
   "source": [
    "- 계수 시각화"
   ]
  },
  {
   "cell_type": "code",
   "execution_count": 61,
   "metadata": {},
   "outputs": [
    {
     "data": {
      "image/png": "[encoded data removed]",
      "text/plain": [
       "<Figure size 720x216 with 1 Axes>"
      ]
     },
     "metadata": {
      "needs_background": "light"
     },
     "output_type": "display_data"
    }
   ],
   "source": [
    "# 시각화\n",
    "coef = pd.Series(np.abs(model_Lasso1.coef_), index=diab.feature_names).sort_values(ascending=False)\n",
    "\n",
    "# 시각화\n",
    "plt.figure(figsize=(10, 3))\n",
    "plt.title(\"<Feature importance of coeffiencts with Lasso(alpha=1)>\", fontsize=15)\n",
    "plt.bar(coef.index, coef.values, align='center' )\n",
    "plt.xticks(coef.index, rotation=30, fontsize=11)\n",
    "plt.show()"
   ]
  },
  {
   "cell_type": "code",
   "execution_count": 62,
   "metadata": {},
   "outputs": [
    {
     "data": {
      "text/html": [
       "<div>\n",
       "<style scoped>\n",
       "    .dataframe tbody tr th:only-of-type {\n",
       "        vertical-align: middle;\n",
       "    }\n",
       "\n",
       "    .dataframe tbody tr th {\n",
       "        vertical-align: top;\n",
       "    }\n",
       "\n",
       "    .dataframe thead th {\n",
       "        text-align: right;\n",
       "    }\n",
       "</style>\n",
       "<table border=\"1\" class=\"dataframe\">\n",
       "  <thead>\n",
       "    <tr style=\"text-align: right;\">\n",
       "      <th></th>\n",
       "      <th>LR</th>\n",
       "      <th>Ridge(alpha=0.01)</th>\n",
       "      <th>Ridge(alpha=1.00)</th>\n",
       "      <th>Ridge(alpha=10.00)</th>\n",
       "      <th>Ridge(alpha=100.00)</th>\n",
       "      <th>Lasso(alpha=0.01)</th>\n",
       "      <th>Lasso(alpha=1.00)</th>\n",
       "      <th>Lasso(alpha=10.00)</th>\n",
       "      <th>Lasso(alpha=100.00)</th>\n",
       "    </tr>\n",
       "  </thead>\n",
       "  <tbody>\n",
       "    <tr>\n",
       "      <th>age</th>\n",
       "      <td>29.25035</td>\n",
       "      <td>34.16460</td>\n",
       "      <td>45.05377</td>\n",
       "      <td>16.23087</td>\n",
       "      <td>2.07285</td>\n",
       "      <td>28.24351</td>\n",
       "      <td>0.00000</td>\n",
       "      <td>0.00000</td>\n",
       "      <td>0.00000</td>\n",
       "    </tr>\n",
       "    <tr>\n",
       "      <th>sex</th>\n",
       "      <td>-261.70768</td>\n",
       "      <td>-254.04432</td>\n",
       "      <td>-71.94755</td>\n",
       "      <td>-2.96137</td>\n",
       "      <td>-0.00381</td>\n",
       "      <td>-250.82019</td>\n",
       "      <td>-0.00000</td>\n",
       "      <td>0.00000</td>\n",
       "      <td>0.00000</td>\n",
       "    </tr>\n",
       "    <tr>\n",
       "      <th>bmi</th>\n",
       "      <td>546.29737</td>\n",
       "      <td>550.84240</td>\n",
       "      <td>280.71588</td>\n",
       "      <td>59.52415</td>\n",
       "      <td>6.89991</td>\n",
       "      <td>556.21350</td>\n",
       "      <td>443.70216</td>\n",
       "      <td>0.00000</td>\n",
       "      <td>0.00000</td>\n",
       "    </tr>\n",
       "    <tr>\n",
       "      <th>bp</th>\n",
       "      <td>388.40077</td>\n",
       "      <td>379.13025</td>\n",
       "      <td>195.21370</td>\n",
       "      <td>43.42150</td>\n",
       "      <td>5.08512</td>\n",
       "      <td>380.66291</td>\n",
       "      <td>51.60340</td>\n",
       "      <td>0.00000</td>\n",
       "      <td>0.00000</td>\n",
       "    </tr>\n",
       "    <tr>\n",
       "      <th>s1</th>\n",
       "      <td>-901.95339</td>\n",
       "      <td>-404.24680</td>\n",
       "      <td>-2.22943</td>\n",
       "      <td>13.87507</td>\n",
       "      <td>2.06966</td>\n",
       "      <td>-468.72483</td>\n",
       "      <td>0.00000</td>\n",
       "      <td>0.00000</td>\n",
       "      <td>0.00000</td>\n",
       "    </tr>\n",
       "    <tr>\n",
       "      <th>s2</th>\n",
       "      <td>506.76115</td>\n",
       "      <td>123.02427</td>\n",
       "      <td>-17.54116</td>\n",
       "      <td>10.86525</td>\n",
       "      <td>1.74375</td>\n",
       "      <td>166.98261</td>\n",
       "      <td>0.00000</td>\n",
       "      <td>0.00000</td>\n",
       "      <td>0.00000</td>\n",
       "    </tr>\n",
       "    <tr>\n",
       "      <th>s3</th>\n",
       "      <td>121.14846</td>\n",
       "      <td>-99.04672</td>\n",
       "      <td>-148.68899</td>\n",
       "      <td>-37.49585</td>\n",
       "      <td>-4.50888</td>\n",
       "      <td>-60.22857</td>\n",
       "      <td>-0.00000</td>\n",
       "      <td>-0.00000</td>\n",
       "      <td>-0.00000</td>\n",
       "    </tr>\n",
       "    <tr>\n",
       "      <th>s4</th>\n",
       "      <td>288.02932</td>\n",
       "      <td>215.02921</td>\n",
       "      <td>120.46709</td>\n",
       "      <td>38.72853</td>\n",
       "      <td>4.90242</td>\n",
       "      <td>230.91091</td>\n",
       "      <td>0.00000</td>\n",
       "      <td>0.00000</td>\n",
       "      <td>0.00000</td>\n",
       "    </tr>\n",
       "    <tr>\n",
       "      <th>s5</th>\n",
       "      <td>659.27134</td>\n",
       "      <td>463.84322</td>\n",
       "      <td>198.61486</td>\n",
       "      <td>49.22477</td>\n",
       "      <td>5.92650</td>\n",
       "      <td>492.63215</td>\n",
       "      <td>201.96713</td>\n",
       "      <td>0.00000</td>\n",
       "      <td>0.00000</td>\n",
       "    </tr>\n",
       "    <tr>\n",
       "      <th>s6</th>\n",
       "      <td>41.37537</td>\n",
       "      <td>50.35055</td>\n",
       "      <td>106.93453</td>\n",
       "      <td>34.73798</td>\n",
       "      <td>4.32870</td>\n",
       "      <td>43.96840</td>\n",
       "      <td>0.00000</td>\n",
       "      <td>0.00000</td>\n",
       "      <td>0.00000</td>\n",
       "    </tr>\n",
       "    <tr>\n",
       "      <th>R2 score</th>\n",
       "      <td>0.47729</td>\n",
       "      <td>0.47767</td>\n",
       "      <td>0.42334</td>\n",
       "      <td>0.15157</td>\n",
       "      <td>0.01477</td>\n",
       "      <td>0.47872</td>\n",
       "      <td>0.36190</td>\n",
       "      <td>-0.00641</td>\n",
       "      <td>-0.00641</td>\n",
       "    </tr>\n",
       "  </tbody>\n",
       "</table>\n",
       "</div>"
      ],
      "text/plain": [
       "                 LR  Ridge(alpha=0.01)  Ridge(alpha=1.00)  Ridge(alpha=10.00)  \\\n",
       "age        29.25035           34.16460           45.05377            16.23087   \n",
       "sex      -261.70768         -254.04432          -71.94755            -2.96137   \n",
       "bmi       546.29737          550.84240          280.71588            59.52415   \n",
       "bp        388.40077          379.13025          195.21370            43.42150   \n",
       "s1       -901.95339         -404.24680           -2.22943            13.87507   \n",
       "s2        506.76115          123.02427          -17.54116            10.86525   \n",
       "s3        121.14846          -99.04672         -148.68899           -37.49585   \n",
       "s4        288.02932          215.02921          120.46709            38.72853   \n",
       "s5        659.27134          463.84322          198.61486            49.22477   \n",
       "s6         41.37537           50.35055          106.93453            34.73798   \n",
       "R2 score    0.47729            0.47767            0.42334             0.15157   \n",
       "\n",
       "          Ridge(alpha=100.00)  Lasso(alpha=0.01)  Lasso(alpha=1.00)  \\\n",
       "age                   2.07285           28.24351            0.00000   \n",
       "sex                  -0.00381         -250.82019           -0.00000   \n",
       "bmi                   6.89991          556.21350          443.70216   \n",
       "bp                    5.08512          380.66291           51.60340   \n",
       "s1                    2.06966         -468.72483            0.00000   \n",
       "s2                    1.74375          166.98261            0.00000   \n",
       "s3                   -4.50888          -60.22857           -0.00000   \n",
       "s4                    4.90242          230.91091            0.00000   \n",
       "s5                    5.92650          492.63215          201.96713   \n",
       "s6                    4.32870           43.96840            0.00000   \n",
       "R2 score              0.01477            0.47872            0.36190   \n",
       "\n",
       "          Lasso(alpha=10.00)  Lasso(alpha=100.00)  \n",
       "age                  0.00000              0.00000  \n",
       "sex                  0.00000              0.00000  \n",
       "bmi                  0.00000              0.00000  \n",
       "bp                   0.00000              0.00000  \n",
       "s1                   0.00000              0.00000  \n",
       "s2                   0.00000              0.00000  \n",
       "s3                  -0.00000             -0.00000  \n",
       "s4                   0.00000              0.00000  \n",
       "s5                   0.00000              0.00000  \n",
       "s6                   0.00000              0.00000  \n",
       "R2 score            -0.00641             -0.00641  "
      ]
     },
     "execution_count": 62,
     "metadata": {},
     "output_type": "execute_result"
    }
   ],
   "source": [
    "# alpha_list=[0.01, 1, 10, 100]인 경우\n",
    "\n",
    "alpha_list=[0.01, 1, 10, 100]\n",
    "for alpha in alpha_list:\n",
    "    model_Lasso = Lasso(alpha = alpha)\n",
    "    model_Lasso.fit(X_train, y_train)\n",
    "    \n",
    "    y_pred = model_Lasso.predict(X_test)\n",
    "    r2 = r2_score(y_test, y_pred)\n",
    "    \n",
    "    col_name = 'Lasso(alpha={:.2f})'.format(alpha)\n",
    "    comp_df[col_name] = np.append(model_Lasso.coef_, r2)\n",
    "\n",
    "comp_df"
   ]
  },
  {
   "cell_type": "markdown",
   "metadata": {},
   "source": [
    "# 3. 엘라스틱넷 모델"
   ]
  },
  {
   "cell_type": "code",
   "execution_count": 63,
   "metadata": {},
   "outputs": [
    {
     "data": {
      "text/plain": [
       "ElasticNet(alpha=1)"
      ]
     },
     "execution_count": 63,
     "metadata": {},
     "output_type": "execute_result"
    }
   ],
   "source": [
    "from sklearn.linear_model import ElasticNet\n",
    "\n",
    "\n",
    "# 모델 구축 및 학습(alpha=1, l1_ratio=0.5)\n",
    "model_ElasticNet1 = ElasticNet(alpha=1, l1_ratio=0.5)\n",
    "model_ElasticNet1.fit(X_train, y_train)\n"
   ]
  },
  {
   "cell_type": "code",
   "execution_count": 64,
   "metadata": {},
   "outputs": [
    {
     "name": "stdout",
     "output_type": "stream",
     "text": [
      "r2  0.003107048190759798\n"
     ]
    },
    {
     "data": {
      "text/plain": [
       "age    0.36757\n",
       "sex    0.00000\n",
       "bmi    3.51205\n",
       "bp     2.32866\n",
       "s1     0.38019\n",
       "s2     0.16834\n",
       "s3    -1.95596\n",
       "s4     2.22813\n",
       "s5     2.88743\n",
       "s6     1.84622\n",
       "dtype: float64"
      ]
     },
     "execution_count": 64,
     "metadata": {},
     "output_type": "execute_result"
    }
   ],
   "source": [
    "#모델 평가 및 회귀 계수 확인\n",
    "y_pred = model_ElasticNet1.predict(X_test)\n",
    "r2 = r2_score(y_test, y_pred)\n",
    "print('r2 ', r2)\n",
    "\n",
    "#alpha = 1 엘라스틱넷 모델 회귀 계수\n",
    "ElasticNet_coef = pd.Series(model_ElasticNet1.coef_, index=diab.feature_names)\n",
    "ElasticNet_coef\n"
   ]
  },
  {
   "cell_type": "markdown",
   "metadata": {},
   "source": [
    "- 계수 시각화"
   ]
  },
  {
   "cell_type": "code",
   "execution_count": 65,
   "metadata": {},
   "outputs": [
    {
     "data": {
      "image/png": "[encoded data removed]",
      "text/plain": [
       "<Figure size 720x216 with 1 Axes>"
      ]
     },
     "metadata": {
      "needs_background": "light"
     },
     "output_type": "display_data"
    }
   ],
   "source": [
    "# 시각화\n",
    "coef = pd.Series(np.abs(model_ElasticNet1.coef_), index=diab.feature_names).sort_values(ascending=False)\n",
    "\n",
    "# 시각화\n",
    "plt.figure(figsize=(10, 3))\n",
    "plt.title(\"<Feature importance of coeffiencts with ElasticNet(alpha=1)>\", fontsize=15)\n",
    "plt.bar(coef.index, coef.values, align='center' )\n",
    "plt.xticks(coef.index, rotation=30, fontsize=11)\n",
    "plt.show()"
   ]
  },
  {
   "cell_type": "code",
   "execution_count": 66,
   "metadata": {},
   "outputs": [
    {
     "data": {
      "text/html": [
       "<div>\n",
       "<style scoped>\n",
       "    .dataframe tbody tr th:only-of-type {\n",
       "        vertical-align: middle;\n",
       "    }\n",
       "\n",
       "    .dataframe tbody tr th {\n",
       "        vertical-align: top;\n",
       "    }\n",
       "\n",
       "    .dataframe thead th {\n",
       "        text-align: right;\n",
       "    }\n",
       "</style>\n",
       "<table border=\"1\" class=\"dataframe\">\n",
       "  <thead>\n",
       "    <tr style=\"text-align: right;\">\n",
       "      <th></th>\n",
       "      <th>LR</th>\n",
       "      <th>Ridge(alpha=0.01)</th>\n",
       "      <th>Ridge(alpha=1.00)</th>\n",
       "      <th>Ridge(alpha=10.00)</th>\n",
       "      <th>Ridge(alpha=100.00)</th>\n",
       "      <th>Lasso(alpha=0.01)</th>\n",
       "      <th>Lasso(alpha=1.00)</th>\n",
       "      <th>Lasso(alpha=10.00)</th>\n",
       "      <th>Lasso(alpha=100.00)</th>\n",
       "      <th>ElasticNet(alpha=0.01)</th>\n",
       "      <th>ElasticNet(alpha=1.00)</th>\n",
       "      <th>ElasticNet(alpha=10.00)</th>\n",
       "      <th>ElasticNet(alpha=100.00)</th>\n",
       "    </tr>\n",
       "  </thead>\n",
       "  <tbody>\n",
       "    <tr>\n",
       "      <th>age</th>\n",
       "      <td>29.25035</td>\n",
       "      <td>34.16460</td>\n",
       "      <td>45.05377</td>\n",
       "      <td>16.23087</td>\n",
       "      <td>2.07285</td>\n",
       "      <td>28.24351</td>\n",
       "      <td>0.00000</td>\n",
       "      <td>0.00000</td>\n",
       "      <td>0.00000</td>\n",
       "      <td>41.41772</td>\n",
       "      <td>0.36757</td>\n",
       "      <td>0.00000</td>\n",
       "      <td>0.00000</td>\n",
       "    </tr>\n",
       "    <tr>\n",
       "      <th>sex</th>\n",
       "      <td>-261.70768</td>\n",
       "      <td>-254.04432</td>\n",
       "      <td>-71.94755</td>\n",
       "      <td>-2.96137</td>\n",
       "      <td>-0.00381</td>\n",
       "      <td>-250.82019</td>\n",
       "      <td>-0.00000</td>\n",
       "      <td>0.00000</td>\n",
       "      <td>0.00000</td>\n",
       "      <td>-45.93511</td>\n",
       "      <td>0.00000</td>\n",
       "      <td>0.00000</td>\n",
       "      <td>0.00000</td>\n",
       "    </tr>\n",
       "    <tr>\n",
       "      <th>bmi</th>\n",
       "      <td>546.29737</td>\n",
       "      <td>550.84240</td>\n",
       "      <td>280.71588</td>\n",
       "      <td>59.52415</td>\n",
       "      <td>6.89991</td>\n",
       "      <td>556.21350</td>\n",
       "      <td>443.70216</td>\n",
       "      <td>0.00000</td>\n",
       "      <td>0.00000</td>\n",
       "      <td>225.05324</td>\n",
       "      <td>3.51205</td>\n",
       "      <td>0.00000</td>\n",
       "      <td>0.00000</td>\n",
       "    </tr>\n",
       "    <tr>\n",
       "      <th>bp</th>\n",
       "      <td>388.40077</td>\n",
       "      <td>379.13025</td>\n",
       "      <td>195.21370</td>\n",
       "      <td>43.42150</td>\n",
       "      <td>5.08512</td>\n",
       "      <td>380.66291</td>\n",
       "      <td>51.60340</td>\n",
       "      <td>0.00000</td>\n",
       "      <td>0.00000</td>\n",
       "      <td>158.16399</td>\n",
       "      <td>2.32866</td>\n",
       "      <td>0.00000</td>\n",
       "      <td>0.00000</td>\n",
       "    </tr>\n",
       "    <tr>\n",
       "      <th>s1</th>\n",
       "      <td>-901.95339</td>\n",
       "      <td>-404.24680</td>\n",
       "      <td>-2.22943</td>\n",
       "      <td>13.87507</td>\n",
       "      <td>2.06966</td>\n",
       "      <td>-468.72483</td>\n",
       "      <td>0.00000</td>\n",
       "      <td>0.00000</td>\n",
       "      <td>0.00000</td>\n",
       "      <td>9.02097</td>\n",
       "      <td>0.38019</td>\n",
       "      <td>0.00000</td>\n",
       "      <td>0.00000</td>\n",
       "    </tr>\n",
       "    <tr>\n",
       "      <th>s2</th>\n",
       "      <td>506.76115</td>\n",
       "      <td>123.02427</td>\n",
       "      <td>-17.54116</td>\n",
       "      <td>10.86525</td>\n",
       "      <td>1.74375</td>\n",
       "      <td>166.98261</td>\n",
       "      <td>0.00000</td>\n",
       "      <td>0.00000</td>\n",
       "      <td>0.00000</td>\n",
       "      <td>-1.76225</td>\n",
       "      <td>0.16834</td>\n",
       "      <td>0.00000</td>\n",
       "      <td>0.00000</td>\n",
       "    </tr>\n",
       "    <tr>\n",
       "      <th>s3</th>\n",
       "      <td>121.14846</td>\n",
       "      <td>-99.04672</td>\n",
       "      <td>-148.68899</td>\n",
       "      <td>-37.49585</td>\n",
       "      <td>-4.50888</td>\n",
       "      <td>-60.22857</td>\n",
       "      <td>-0.00000</td>\n",
       "      <td>-0.00000</td>\n",
       "      <td>-0.00000</td>\n",
       "      <td>-124.24009</td>\n",
       "      <td>-1.95596</td>\n",
       "      <td>-0.00000</td>\n",
       "      <td>-0.00000</td>\n",
       "    </tr>\n",
       "    <tr>\n",
       "      <th>s4</th>\n",
       "      <td>288.02932</td>\n",
       "      <td>215.02921</td>\n",
       "      <td>120.46709</td>\n",
       "      <td>38.72853</td>\n",
       "      <td>4.90242</td>\n",
       "      <td>230.91091</td>\n",
       "      <td>0.00000</td>\n",
       "      <td>0.00000</td>\n",
       "      <td>0.00000</td>\n",
       "      <td>106.91002</td>\n",
       "      <td>2.22813</td>\n",
       "      <td>0.00000</td>\n",
       "      <td>0.00000</td>\n",
       "    </tr>\n",
       "    <tr>\n",
       "      <th>s5</th>\n",
       "      <td>659.27134</td>\n",
       "      <td>463.84322</td>\n",
       "      <td>198.61486</td>\n",
       "      <td>49.22477</td>\n",
       "      <td>5.92650</td>\n",
       "      <td>492.63215</td>\n",
       "      <td>201.96713</td>\n",
       "      <td>0.00000</td>\n",
       "      <td>0.00000</td>\n",
       "      <td>165.00639</td>\n",
       "      <td>2.88743</td>\n",
       "      <td>0.00000</td>\n",
       "      <td>0.00000</td>\n",
       "    </tr>\n",
       "    <tr>\n",
       "      <th>s6</th>\n",
       "      <td>41.37537</td>\n",
       "      <td>50.35055</td>\n",
       "      <td>106.93453</td>\n",
       "      <td>34.73798</td>\n",
       "      <td>4.32870</td>\n",
       "      <td>43.96840</td>\n",
       "      <td>0.00000</td>\n",
       "      <td>0.00000</td>\n",
       "      <td>0.00000</td>\n",
       "      <td>97.21337</td>\n",
       "      <td>1.84622</td>\n",
       "      <td>0.00000</td>\n",
       "      <td>0.00000</td>\n",
       "    </tr>\n",
       "    <tr>\n",
       "      <th>R2 score</th>\n",
       "      <td>0.47729</td>\n",
       "      <td>0.47767</td>\n",
       "      <td>0.42334</td>\n",
       "      <td>0.15157</td>\n",
       "      <td>0.01477</td>\n",
       "      <td>0.47872</td>\n",
       "      <td>0.36190</td>\n",
       "      <td>-0.00641</td>\n",
       "      <td>-0.00641</td>\n",
       "      <td>0.38444</td>\n",
       "      <td>0.00311</td>\n",
       "      <td>-0.00641</td>\n",
       "      <td>-0.00641</td>\n",
       "    </tr>\n",
       "  </tbody>\n",
       "</table>\n",
       "</div>"
      ],
      "text/plain": [
       "                 LR  Ridge(alpha=0.01)  Ridge(alpha=1.00)  Ridge(alpha=10.00)  \\\n",
       "age        29.25035           34.16460           45.05377            16.23087   \n",
       "sex      -261.70768         -254.04432          -71.94755            -2.96137   \n",
       "bmi       546.29737          550.84240          280.71588            59.52415   \n",
       "bp        388.40077          379.13025          195.21370            43.42150   \n",
       "s1       -901.95339         -404.24680           -2.22943            13.87507   \n",
       "s2        506.76115          123.02427          -17.54116            10.86525   \n",
       "s3        121.14846          -99.04672         -148.68899           -37.49585   \n",
       "s4        288.02932          215.02921          120.46709            38.72853   \n",
       "s5        659.27134          463.84322          198.61486            49.22477   \n",
       "s6         41.37537           50.35055          106.93453            34.73798   \n",
       "R2 score    0.47729            0.47767            0.42334             0.15157   \n",
       "\n",
       "          Ridge(alpha=100.00)  Lasso(alpha=0.01)  Lasso(alpha=1.00)  \\\n",
       "age                   2.07285           28.24351            0.00000   \n",
       "sex                  -0.00381         -250.82019           -0.00000   \n",
       "bmi                   6.89991          556.21350          443.70216   \n",
       "bp                    5.08512          380.66291           51.60340   \n",
       "s1                    2.06966         -468.72483            0.00000   \n",
       "s2                    1.74375          166.98261            0.00000   \n",
       "s3                   -4.50888          -60.22857           -0.00000   \n",
       "s4                    4.90242          230.91091            0.00000   \n",
       "s5                    5.92650          492.63215          201.96713   \n",
       "s6                    4.32870           43.96840            0.00000   \n",
       "R2 score              0.01477            0.47872            0.36190   \n",
       "\n",
       "          Lasso(alpha=10.00)  Lasso(alpha=100.00)  ElasticNet(alpha=0.01)  \\\n",
       "age                  0.00000              0.00000                41.41772   \n",
       "sex                  0.00000              0.00000               -45.93511   \n",
       "bmi                  0.00000              0.00000               225.05324   \n",
       "bp                   0.00000              0.00000               158.16399   \n",
       "s1                   0.00000              0.00000                 9.02097   \n",
       "s2                   0.00000              0.00000                -1.76225   \n",
       "s3                  -0.00000             -0.00000              -124.24009   \n",
       "s4                   0.00000              0.00000               106.91002   \n",
       "s5                   0.00000              0.00000               165.00639   \n",
       "s6                   0.00000              0.00000                97.21337   \n",
       "R2 score            -0.00641             -0.00641                 0.38444   \n",
       "\n",
       "          ElasticNet(alpha=1.00)  ElasticNet(alpha=10.00)  \\\n",
       "age                      0.36757                  0.00000   \n",
       "sex                      0.00000                  0.00000   \n",
       "bmi                      3.51205                  0.00000   \n",
       "bp                       2.32866                  0.00000   \n",
       "s1                       0.38019                  0.00000   \n",
       "s2                       0.16834                  0.00000   \n",
       "s3                      -1.95596                 -0.00000   \n",
       "s4                       2.22813                  0.00000   \n",
       "s5                       2.88743                  0.00000   \n",
       "s6                       1.84622                  0.00000   \n",
       "R2 score                 0.00311                 -0.00641   \n",
       "\n",
       "          ElasticNet(alpha=100.00)  \n",
       "age                        0.00000  \n",
       "sex                        0.00000  \n",
       "bmi                        0.00000  \n",
       "bp                         0.00000  \n",
       "s1                         0.00000  \n",
       "s2                         0.00000  \n",
       "s3                        -0.00000  \n",
       "s4                         0.00000  \n",
       "s5                         0.00000  \n",
       "s6                         0.00000  \n",
       "R2 score                  -0.00641  "
      ]
     },
     "execution_count": 66,
     "metadata": {},
     "output_type": "execute_result"
    }
   ],
   "source": [
    "# alpha_list=[0.01, 1, 10, 100]인 경우, l1_ratio=0.5 \n",
    "\n",
    "alpha_list=[0.01, 1, 10, 100]\n",
    "for alpha in alpha_list:\n",
    "    model_ElasticNet = ElasticNet(alpha = alpha, l1_ratio=0.5)\n",
    "    model_ElasticNet.fit(X_train, y_train)\n",
    "    \n",
    "    y_pred = model_ElasticNet.predict(X_test)\n",
    "    r2 = r2_score(y_test, y_pred)\n",
    "    \n",
    "    col_name = 'ElasticNet(alpha={:.2f})'.format(alpha)\n",
    "    comp_df[col_name] = np.append(model_ElasticNet.coef_, r2)\n",
    "\n",
    "comp_df\n"
   ]
  },
  {
   "cell_type": "code",
   "execution_count": 67,
   "metadata": {},
   "outputs": [
    {
     "name": "stdout",
     "output_type": "stream",
     "text": [
      "<class 'pandas.core.frame.DataFrame'>\n",
      "Index: 11 entries, age to R2 score\n",
      "Data columns (total 13 columns):\n",
      " #   Column                    Non-Null Count  Dtype  \n",
      "---  ------                    --------------  -----  \n",
      " 0   LR                        11 non-null     float64\n",
      " 1   Ridge(alpha=0.01)         11 non-null     float64\n",
      " 2   Ridge(alpha=1.00)         11 non-null     float64\n",
      " 3   Ridge(alpha=10.00)        11 non-null     float64\n",
      " 4   Ridge(alpha=100.00)       11 non-null     float64\n",
      " 5   Lasso(alpha=0.01)         11 non-null     float64\n",
      " 6   Lasso(alpha=1.00)         11 non-null     float64\n",
      " 7   Lasso(alpha=10.00)        11 non-null     float64\n",
      " 8   Lasso(alpha=100.00)       11 non-null     float64\n",
      " 9   ElasticNet(alpha=0.01)    11 non-null     float64\n",
      " 10  ElasticNet(alpha=1.00)    11 non-null     float64\n",
      " 11  ElasticNet(alpha=10.00)   11 non-null     float64\n",
      " 12  ElasticNet(alpha=100.00)  11 non-null     float64\n",
      "dtypes: float64(13)\n",
      "memory usage: 1.2+ KB\n"
     ]
    }
   ],
   "source": [
    "comp_df.info()"
   ]
  },
  {
   "cell_type": "code",
   "execution_count": null,
   "metadata": {},
   "outputs": [],
   "source": []
  },
  {
   "cell_type": "markdown",
   "metadata": {},
   "source": [
    "### LassoCV() : k-폴드 교차 검증으로 최적의 Lasso 모델 하이퍼파라미터 alpha 찾기"
   ]
  },
  {
   "cell_type": "code",
   "execution_count": 68,
   "metadata": {},
   "outputs": [],
   "source": [
    "#alpha_list=[0.01, 1, 10, 100]\n",
    "alpha_list = np.arange(0.01, 10, 0.01)\n",
    "cv=5\n",
    "max_iter = 5000"
   ]
  },
  {
   "cell_type": "code",
   "execution_count": 69,
   "metadata": {},
   "outputs": [],
   "source": [
    "from sklearn.linear_model import LassoCV\n",
    "\n",
    "#LassoCV()에 필요한 매개변수 설정\n",
    "model_LassoCV = LassoCV(alphas=alpha_list, cv=cv, max_iter = max_iter, n_jobs=-1, random_state=42)\n",
    "# n_jobs=-1 : 최대 코어수를 다 씀"
   ]
  },
  {
   "cell_type": "markdown",
   "metadata": {},
   "source": [
    "- 모델 학습"
   ]
  },
  {
   "cell_type": "code",
   "execution_count": 71,
   "metadata": {},
   "outputs": [
    {
     "data": {
      "text/plain": [
       "LassoCV(alphas=array([0.01, 0.02, 0.03, 0.04, 0.05, 0.06, 0.07, 0.08, 0.09, 0.1 , 0.11,\n",
       "       0.12, 0.13, 0.14, 0.15, 0.16, 0.17, 0.18, 0.19, 0.2 , 0.21, 0.22,\n",
       "       0.23, 0.24, 0.25, 0.26, 0.27, 0.28, 0.29, 0.3 , 0.31, 0.32, 0.33,\n",
       "       0.34, 0.35, 0.36, 0.37, 0.38, 0.39, 0.4 , 0.41, 0.42, 0.43, 0.44,\n",
       "       0.45, 0.46, 0.47, 0.48, 0.49, 0.5 , 0.51, 0.52, 0.53, 0.54, 0.55,\n",
       "       0.56, 0.57, 0.58, 0.59, 0.6 , 0.61, 0.62, 0.63, 0.64, 0.65, 0.66,\n",
       "       0.67...\n",
       "       9.36, 9.37, 9.38, 9.39, 9.4 , 9.41, 9.42, 9.43, 9.44, 9.45, 9.46,\n",
       "       9.47, 9.48, 9.49, 9.5 , 9.51, 9.52, 9.53, 9.54, 9.55, 9.56, 9.57,\n",
       "       9.58, 9.59, 9.6 , 9.61, 9.62, 9.63, 9.64, 9.65, 9.66, 9.67, 9.68,\n",
       "       9.69, 9.7 , 9.71, 9.72, 9.73, 9.74, 9.75, 9.76, 9.77, 9.78, 9.79,\n",
       "       9.8 , 9.81, 9.82, 9.83, 9.84, 9.85, 9.86, 9.87, 9.88, 9.89, 9.9 ,\n",
       "       9.91, 9.92, 9.93, 9.94, 9.95, 9.96, 9.97, 9.98, 9.99]),\n",
       "        cv=5, max_iter=5000, n_jobs=-1, random_state=42)"
      ]
     },
     "execution_count": 71,
     "metadata": {},
     "output_type": "execute_result"
    }
   ],
   "source": [
    "model_LassoCV.fit(X_train,y_train)"
   ]
  },
  {
   "cell_type": "code",
   "execution_count": 72,
   "metadata": {},
   "outputs": [
    {
     "data": {
      "text/plain": [
       "0.01"
      ]
     },
     "execution_count": 72,
     "metadata": {},
     "output_type": "execute_result"
    }
   ],
   "source": [
    "model_LassoCV.alpha_"
   ]
  },
  {
   "cell_type": "code",
   "execution_count": 73,
   "metadata": {},
   "outputs": [],
   "source": [
    "y_pred = model_LassoCV.predict(X_test)"
   ]
  },
  {
   "cell_type": "code",
   "execution_count": 74,
   "metadata": {},
   "outputs": [
    {
     "data": {
      "text/plain": [
       "0.4787160211806071"
      ]
     },
     "execution_count": 74,
     "metadata": {},
     "output_type": "execute_result"
    }
   ],
   "source": [
    "r2_score(y_test,y_pred)"
   ]
  },
  {
   "cell_type": "markdown",
   "metadata": {},
   "source": [
    "# [응용] 보스턴 주택가격 데이터를 활용하여, 규제가 없을때, 리지, 라쏘, 엘라스틱넷 선형회귀를 수행하고 각각의 회귀계수 및  예측 성능을 비교하라\n",
    "- 테스트 사이즈:0.3\n",
    "- random_state=42"
   ]
  },
  {
   "cell_type": "code",
   "execution_count": 75,
   "metadata": {},
   "outputs": [],
   "source": [
    "from sklearn.datasets import load_boston\n",
    "\n",
    "boston = load_boston()\n",
    "\n",
    "X = boston.data\n",
    "y = boston.target"
   ]
  },
  {
   "cell_type": "code",
   "execution_count": 76,
   "metadata": {},
   "outputs": [],
   "source": [
    "import pandas as pd\n",
    "from sklearn.linear_model import LinearRegression\n",
    "from sklearn.linear_model import Ridge\n",
    "from sklearn.linear_model import Lasso\n",
    "from sklearn.linear_model import ElasticNet\n",
    "from sklearn.linear_model import RidgeCV\n",
    "from sklearn.linear_model import LassoCV\n",
    "\n",
    "from sklearn.metrics import mean_squared_error, mean_absolute_error, r2_score\n",
    "\n"
   ]
  },
  {
   "cell_type": "code",
   "execution_count": 77,
   "metadata": {},
   "outputs": [],
   "source": [
    "# train, test 분할\n",
    "from sklearn.model_selection import train_test_split\n",
    "X_train, X_test, y_train, y_test = train_test_split(X, y, test_size=0.3, random_state=42)"
   ]
  },
  {
   "cell_type": "code",
   "execution_count": 78,
   "metadata": {},
   "outputs": [],
   "source": [
    "# 다중회귀, 리지회귀, 라쏘 회귀, 엘라스틱넷 회귀 수행"
   ]
  },
  {
   "cell_type": "code",
   "execution_count": 79,
   "metadata": {},
   "outputs": [],
   "source": [
    "from sklearn.linear_model import LinearRegression\n",
    "\n",
    "def get_r2_coef(model, X_train, y_train, X_test, y_test):\n",
    "    model.fit(X_train, y_train)\n",
    "    y_pred = model.predict(X_test)\n",
    "    \n",
    "    r2 = r2_score(y_test, y_pred)\n",
    "    print('model; ', model)\n",
    "    print('r2: ', r2)\n",
    "    print()\n",
    "    \n",
    "    coef = pd.Series(model.coef_, index=boston.feature_names)\n",
    "    print(coef)\n",
    "    print('-'*50)\n",
    "    return\n"
   ]
  },
  {
   "cell_type": "code",
   "execution_count": 80,
   "metadata": {},
   "outputs": [
    {
     "name": "stdout",
     "output_type": "stream",
     "text": [
      "model;  LinearRegression()\n",
      "r2:  0.7112260057484887\n",
      "\n",
      "CRIM       -0.13347\n",
      "ZN          0.03581\n",
      "INDUS       0.04952\n",
      "CHAS        3.11984\n",
      "NOX       -15.41706\n",
      "RM          4.05720\n",
      "AGE        -0.01082\n",
      "DIS        -1.38600\n",
      "RAD         0.24273\n",
      "TAX        -0.00870\n",
      "PTRATIO    -0.91069\n",
      "B           0.01179\n",
      "LSTAT      -0.54711\n",
      "dtype: float64\n",
      "--------------------------------------------------\n"
     ]
    }
   ],
   "source": [
    "# 다중회귀\n",
    "\n",
    "LR = LinearRegression()\n",
    "get_r2_coef(LR, X_train, y_train, X_test, y_test)"
   ]
  },
  {
   "cell_type": "code",
   "execution_count": 81,
   "metadata": {},
   "outputs": [
    {
     "name": "stdout",
     "output_type": "stream",
     "text": [
      "model;  Ridge(alpha=0.01)\n",
      "r2:  0.7111351633163315\n",
      "\n",
      "CRIM       -0.13337\n",
      "ZN          0.03583\n",
      "INDUS       0.04891\n",
      "CHAS        3.11732\n",
      "NOX       -15.27000\n",
      "RM          4.05768\n",
      "AGE        -0.01095\n",
      "DIS        -1.38377\n",
      "RAD         0.24237\n",
      "TAX        -0.00871\n",
      "PTRATIO    -0.90904\n",
      "B           0.01180\n",
      "LSTAT      -0.54740\n",
      "dtype: float64\n",
      "--------------------------------------------------\n",
      "model;  Ridge(alpha=1)\n",
      "r2:  0.7041586727559441\n",
      "\n",
      "CRIM      -0.12843\n",
      "ZN         0.03695\n",
      "INDUS      0.01791\n",
      "CHAS       2.93269\n",
      "NOX       -7.84806\n",
      "RM         4.06357\n",
      "AGE       -0.01724\n",
      "DIS       -1.27176\n",
      "RAD        0.22549\n",
      "TAX       -0.00938\n",
      "PTRATIO   -0.82710\n",
      "B          0.01199\n",
      "LSTAT     -0.56347\n",
      "dtype: float64\n",
      "--------------------------------------------------\n",
      "model;  Ridge(alpha=10)\n",
      "r2:  0.6954181695183631\n",
      "\n",
      "CRIM      -0.12655\n",
      "ZN         0.03950\n",
      "INDUS     -0.00876\n",
      "CHAS       2.10758\n",
      "NOX       -1.43399\n",
      "RM         3.78285\n",
      "AGE       -0.01985\n",
      "DIS       -1.17825\n",
      "RAD        0.22528\n",
      "TAX       -0.01046\n",
      "PTRATIO   -0.77353\n",
      "B          0.01217\n",
      "LSTAT     -0.60103\n",
      "dtype: float64\n",
      "--------------------------------------------------\n",
      "model;  Ridge(alpha=100)\n",
      "r2:  0.6850436955094985\n",
      "\n",
      "CRIM      -0.13028\n",
      "ZN         0.04488\n",
      "INDUS     -0.02655\n",
      "CHAS       0.61111\n",
      "NOX       -0.14154\n",
      "RM         2.13342\n",
      "AGE       -0.00420\n",
      "DIS       -1.06661\n",
      "RAD        0.27142\n",
      "TAX       -0.01212\n",
      "PTRATIO   -0.81233\n",
      "B          0.01162\n",
      "LSTAT     -0.72159\n",
      "dtype: float64\n",
      "--------------------------------------------------\n"
     ]
    }
   ],
   "source": [
    "# 리지 회귀\n",
    "\n",
    "alpha_list=[0.01, 1, 10, 100]\n",
    "\n",
    "for alpha in alpha_list:\n",
    "    model_Ridge = Ridge(alpha=alpha)\n",
    "    get_r2_coef(model_Ridge, X_train, y_train, X_test, y_test)"
   ]
  },
  {
   "cell_type": "code",
   "execution_count": 82,
   "metadata": {},
   "outputs": [
    {
     "name": "stdout",
     "output_type": "stream",
     "text": [
      "model;  Lasso(alpha=0.01)\n",
      "r2:  0.708826451969222\n",
      "\n",
      "CRIM       -0.13100\n",
      "ZN          0.03626\n",
      "INDUS       0.03471\n",
      "CHAS        2.94331\n",
      "NOX       -11.90127\n",
      "RM          4.05058\n",
      "AGE        -0.01345\n",
      "DIS        -1.32916\n",
      "RAD         0.23458\n",
      "TAX        -0.00900\n",
      "PTRATIO    -0.87148\n",
      "B           0.01190\n",
      "LSTAT      -0.55591\n",
      "dtype: float64\n",
      "--------------------------------------------------\n",
      "model;  Lasso(alpha=1)\n",
      "r2:  0.6559060829154337\n",
      "\n",
      "CRIM      -0.09192\n",
      "ZN         0.03467\n",
      "INDUS     -0.00000\n",
      "CHAS       0.00000\n",
      "NOX       -0.00000\n",
      "RM         1.28132\n",
      "AGE        0.01144\n",
      "DIS       -0.61602\n",
      "RAD        0.19150\n",
      "TAX       -0.00954\n",
      "PTRATIO   -0.70335\n",
      "B          0.01083\n",
      "LSTAT     -0.77992\n",
      "dtype: float64\n",
      "--------------------------------------------------\n",
      "model;  Lasso(alpha=10)\n",
      "r2:  0.5030666675993392\n",
      "\n",
      "CRIM      -0.00000\n",
      "ZN         0.01406\n",
      "INDUS     -0.00000\n",
      "CHAS       0.00000\n",
      "NOX        0.00000\n",
      "RM         0.00000\n",
      "AGE        0.00000\n",
      "DIS       -0.00000\n",
      "RAD        0.00000\n",
      "TAX       -0.00834\n",
      "PTRATIO   -0.00000\n",
      "B          0.00995\n",
      "LSTAT     -0.62837\n",
      "dtype: float64\n",
      "--------------------------------------------------\n",
      "model;  Lasso(alpha=100)\n",
      "r2:  0.23829405268014792\n",
      "\n",
      "CRIM      -0.00000\n",
      "ZN         0.00000\n",
      "INDUS     -0.00000\n",
      "CHAS       0.00000\n",
      "NOX       -0.00000\n",
      "RM         0.00000\n",
      "AGE       -0.00000\n",
      "DIS        0.00000\n",
      "RAD       -0.00000\n",
      "TAX       -0.02068\n",
      "PTRATIO   -0.00000\n",
      "B          0.00567\n",
      "LSTAT     -0.00000\n",
      "dtype: float64\n",
      "--------------------------------------------------\n"
     ]
    }
   ],
   "source": [
    "# 라쏘 회귀\n",
    "alpha_list=[0.01, 1, 10, 100]\n",
    "\n",
    "for alpha in alpha_list:\n",
    "    model_Lasso = Lasso(alpha=alpha)\n",
    "    get_r2_coef(model_Lasso, X_train, y_train, X_test, y_test)"
   ]
  },
  {
   "cell_type": "code",
   "execution_count": 83,
   "metadata": {},
   "outputs": [
    {
     "name": "stdout",
     "output_type": "stream",
     "text": [
      "model;  ElasticNet(alpha=0.01, l1_ratio=0.1)\n",
      "r2:  0.6985088203463852\n",
      "\n",
      "CRIM      -0.12626\n",
      "ZN         0.03795\n",
      "INDUS      0.00077\n",
      "CHAS       2.64746\n",
      "NOX       -3.69049\n",
      "RM         4.00395\n",
      "AGE       -0.02010\n",
      "DIS       -1.20996\n",
      "RAD        0.21950\n",
      "TAX       -0.00988\n",
      "PTRATIO   -0.78528\n",
      "B          0.01211\n",
      "LSTAT     -0.57795\n",
      "dtype: float64\n",
      "--------------------------------------------------\n",
      "model;  ElasticNet(alpha=0.01, l1_ratio=0.3)\n",
      "r2:  0.6992945156236627\n",
      "\n",
      "CRIM      -0.12640\n",
      "ZN         0.03773\n",
      "INDUS      0.00293\n",
      "CHAS       2.69748\n",
      "NOX       -4.22976\n",
      "RM         4.02145\n",
      "AGE       -0.01977\n",
      "DIS       -1.21695\n",
      "RAD        0.21960\n",
      "TAX       -0.00979\n",
      "PTRATIO   -0.78985\n",
      "B          0.01209\n",
      "LSTAT     -0.57531\n",
      "dtype: float64\n",
      "--------------------------------------------------\n",
      "model;  ElasticNet(alpha=0.01, l1_ratio=0.6)\n",
      "r2:  0.701311989607996\n",
      "\n",
      "CRIM      -0.12702\n",
      "ZN         0.03733\n",
      "INDUS      0.00859\n",
      "CHAS       2.78247\n",
      "NOX       -5.62182\n",
      "RM         4.04472\n",
      "AGE       -0.01876\n",
      "DIS       -1.23622\n",
      "RAD        0.22118\n",
      "TAX       -0.00960\n",
      "PTRATIO   -0.80329\n",
      "B          0.01206\n",
      "LSTAT     -0.57030\n",
      "dtype: float64\n",
      "--------------------------------------------------\n",
      "model;  ElasticNet(alpha=0.01, l1_ratio=0.9)\n",
      "r2:  0.7059030151307579\n",
      "\n",
      "CRIM      -0.12915\n",
      "ZN         0.03667\n",
      "INDUS      0.02315\n",
      "CHAS       2.89193\n",
      "NOX       -9.13545\n",
      "RM         4.05606\n",
      "AGE       -0.01585\n",
      "DIS       -1.28771\n",
      "RAD        0.22815\n",
      "TAX       -0.00924\n",
      "PTRATIO   -0.84081\n",
      "B          0.01197\n",
      "LSTAT     -0.56157\n",
      "dtype: float64\n",
      "--------------------------------------------------\n",
      "model;  ElasticNet(alpha=1, l1_ratio=0.1)\n",
      "r2:  0.662441513522235\n",
      "\n",
      "CRIM      -0.12300\n",
      "ZN         0.04417\n",
      "INDUS     -0.02358\n",
      "CHAS       0.14570\n",
      "NOX       -0.00000\n",
      "RM         1.00865\n",
      "AGE        0.01271\n",
      "DIS       -0.78274\n",
      "RAD        0.27137\n",
      "TAX       -0.01230\n",
      "PTRATIO   -0.75516\n",
      "B          0.01093\n",
      "LSTAT     -0.79208\n",
      "dtype: float64\n",
      "--------------------------------------------------\n",
      "model;  ElasticNet(alpha=1, l1_ratio=0.3)\n",
      "r2:  0.6607351233659924\n",
      "\n",
      "CRIM      -0.11683\n",
      "ZN         0.04318\n",
      "INDUS     -0.01137\n",
      "CHAS       0.00000\n",
      "NOX       -0.00000\n",
      "RM         1.02771\n",
      "AGE        0.01217\n",
      "DIS       -0.75649\n",
      "RAD        0.25920\n",
      "TAX       -0.01207\n",
      "PTRATIO   -0.74698\n",
      "B          0.01094\n",
      "LSTAT     -0.79358\n",
      "dtype: float64\n",
      "--------------------------------------------------\n",
      "model;  ElasticNet(alpha=1, l1_ratio=0.6)\n",
      "r2:  0.6582961340573337\n",
      "\n",
      "CRIM      -0.10661\n",
      "ZN         0.04073\n",
      "INDUS     -0.00000\n",
      "CHAS       0.00000\n",
      "NOX       -0.00000\n",
      "RM         1.07351\n",
      "AGE        0.01158\n",
      "DIS       -0.70683\n",
      "RAD        0.23531\n",
      "TAX       -0.01136\n",
      "PTRATIO   -0.73126\n",
      "B          0.01088\n",
      "LSTAT     -0.79258\n",
      "dtype: float64\n",
      "--------------------------------------------------\n",
      "model;  ElasticNet(alpha=1, l1_ratio=0.9)\n",
      "r2:  0.6561507369662358\n",
      "\n",
      "CRIM      -0.09582\n",
      "ZN         0.03659\n",
      "INDUS     -0.00000\n",
      "CHAS       0.00000\n",
      "NOX       -0.00000\n",
      "RM         1.18708\n",
      "AGE        0.01155\n",
      "DIS       -0.64437\n",
      "RAD        0.20415\n",
      "TAX       -0.01008\n",
      "PTRATIO   -0.71211\n",
      "B          0.01083\n",
      "LSTAT     -0.78589\n",
      "dtype: float64\n",
      "--------------------------------------------------\n",
      "model;  ElasticNet(alpha=10, l1_ratio=0.1)\n",
      "r2:  0.5736064854982778\n",
      "\n",
      "CRIM      -0.07811\n",
      "ZN         0.04180\n",
      "INDUS     -0.00555\n",
      "CHAS       0.00000\n",
      "NOX        0.00000\n",
      "RM         0.10053\n",
      "AGE        0.02614\n",
      "DIS       -0.11642\n",
      "RAD        0.10548\n",
      "TAX       -0.00971\n",
      "PTRATIO   -0.25127\n",
      "B          0.01069\n",
      "LSTAT     -0.68730\n",
      "dtype: float64\n",
      "--------------------------------------------------\n",
      "model;  ElasticNet(alpha=10, l1_ratio=0.3)\n",
      "r2:  0.5338087490559709\n",
      "\n",
      "CRIM      -0.02974\n",
      "ZN         0.03267\n",
      "INDUS     -0.00000\n",
      "CHAS       0.00000\n",
      "NOX        0.00000\n",
      "RM         0.00000\n",
      "AGE        0.02187\n",
      "DIS       -0.00000\n",
      "RAD        0.00000\n",
      "TAX       -0.00652\n",
      "PTRATIO   -0.12118\n",
      "B          0.01020\n",
      "LSTAT     -0.68850\n",
      "dtype: float64\n",
      "--------------------------------------------------\n",
      "model;  ElasticNet(alpha=10, l1_ratio=0.6)\n",
      "r2:  0.5152713728069435\n",
      "\n",
      "CRIM      -0.00000\n",
      "ZN         0.02492\n",
      "INDUS     -0.00000\n",
      "CHAS       0.00000\n",
      "NOX        0.00000\n",
      "RM         0.00000\n",
      "AGE        0.01003\n",
      "DIS       -0.00000\n",
      "RAD        0.00000\n",
      "TAX       -0.00793\n",
      "PTRATIO   -0.00000\n",
      "B          0.01008\n",
      "LSTAT     -0.66728\n",
      "dtype: float64\n",
      "--------------------------------------------------\n",
      "model;  ElasticNet(alpha=10, l1_ratio=0.9)\n",
      "r2:  0.5043667405857284\n",
      "\n",
      "CRIM      -0.00000\n",
      "ZN         0.01547\n",
      "INDUS     -0.00000\n",
      "CHAS       0.00000\n",
      "NOX        0.00000\n",
      "RM         0.00000\n",
      "AGE        0.00000\n",
      "DIS       -0.00000\n",
      "RAD        0.00000\n",
      "TAX       -0.00814\n",
      "PTRATIO   -0.00000\n",
      "B          0.00997\n",
      "LSTAT     -0.63625\n",
      "dtype: float64\n",
      "--------------------------------------------------\n",
      "model;  ElasticNet(alpha=100, l1_ratio=0.1)\n",
      "r2:  0.3887687235130216\n",
      "\n",
      "CRIM      -0.00000\n",
      "ZN         0.03976\n",
      "INDUS     -0.00000\n",
      "CHAS       0.00000\n",
      "NOX       -0.00000\n",
      "RM         0.00000\n",
      "AGE       -0.00484\n",
      "DIS       -0.00000\n",
      "RAD        0.00000\n",
      "TAX       -0.01621\n",
      "PTRATIO   -0.00000\n",
      "B          0.01427\n",
      "LSTAT     -0.16956\n",
      "dtype: float64\n",
      "--------------------------------------------------\n",
      "model;  ElasticNet(alpha=100, l1_ratio=0.3)\n",
      "r2:  0.2896883419530788\n",
      "\n",
      "CRIM      -0.00000\n",
      "ZN         0.01766\n",
      "INDUS     -0.00000\n",
      "CHAS       0.00000\n",
      "NOX       -0.00000\n",
      "RM         0.00000\n",
      "AGE       -0.00000\n",
      "DIS       -0.00000\n",
      "RAD        0.00000\n",
      "TAX       -0.02006\n",
      "PTRATIO   -0.00000\n",
      "B          0.01377\n",
      "LSTAT     -0.02861\n",
      "dtype: float64\n",
      "--------------------------------------------------\n",
      "model;  ElasticNet(alpha=100, l1_ratio=0.6)\n",
      "r2:  0.24581097293309528\n",
      "\n",
      "CRIM      -0.00000\n",
      "ZN         0.00000\n",
      "INDUS     -0.00000\n",
      "CHAS       0.00000\n",
      "NOX       -0.00000\n",
      "RM         0.00000\n",
      "AGE       -0.00000\n",
      "DIS        0.00000\n",
      "RAD       -0.00000\n",
      "TAX       -0.02104\n",
      "PTRATIO   -0.00000\n",
      "B          0.01064\n",
      "LSTAT     -0.00000\n",
      "dtype: float64\n",
      "--------------------------------------------------\n",
      "model;  ElasticNet(alpha=100, l1_ratio=0.9)\n",
      "r2:  0.24090283120621314\n",
      "\n",
      "CRIM      -0.00000\n",
      "ZN         0.00000\n",
      "INDUS     -0.00000\n",
      "CHAS       0.00000\n",
      "NOX       -0.00000\n",
      "RM         0.00000\n",
      "AGE       -0.00000\n",
      "DIS        0.00000\n",
      "RAD       -0.00000\n",
      "TAX       -0.02077\n",
      "PTRATIO   -0.00000\n",
      "B          0.00692\n",
      "LSTAT     -0.00000\n",
      "dtype: float64\n",
      "--------------------------------------------------\n"
     ]
    }
   ],
   "source": [
    "# 엘라스틱넷 회귀\n",
    "alpha_list=[0.01, 1, 10, 100]\n",
    "l1_ratio= [ 0.1, 0.3, 0.6, 0.9]\n",
    "for alpha in alpha_list:\n",
    "    for l1 in l1_ratio:\n",
    "        model_ElasticNet = ElasticNet(alpha=alpha, l1_ratio=l1)\n",
    "        get_r2_coef(model_ElasticNet, X_train, y_train, X_test, y_test)"
   ]
  },
  {
   "cell_type": "code",
   "execution_count": 84,
   "metadata": {},
   "outputs": [
    {
     "data": {
      "text/plain": [
       "{'mean_fit_time': array([1.44497554e-03, 6.66618347e-04, 6.84897105e-04, 9.98258591e-04,\n",
       "        8.06331635e-04, 3.33468119e-04, 6.68207804e-04, 1.00223223e-03,\n",
       "        1.03831291e-03, 7.21931458e-04, 1.77621841e-04, 4.97500102e-05,\n",
       "        8.11974208e-04, 8.11258952e-04, 9.54945882e-04, 6.33637110e-04]),\n",
       " 'std_fit_time': array([4.15797141e-04, 4.71370394e-04, 4.84803582e-04, 1.52040533e-06,\n",
       "        1.50523652e-04, 4.71595137e-04, 4.72495713e-04, 4.89903609e-07,\n",
       "        1.76692779e-04, 5.14932508e-04, 2.51195217e-04, 7.03571391e-05,\n",
       "        2.04669108e-04, 2.65132418e-04, 6.26048430e-05, 4.49629726e-04]),\n",
       " 'mean_score_time': array([0.0005912 , 0.00033259, 0.0003678 , 0.        , 0.00040436,\n",
       "        0.0003322 , 0.00033474, 0.        , 0.00033442, 0.00033498,\n",
       "        0.        , 0.        , 0.00063388, 0.0001893 , 0.00033704,\n",
       "        0.00033212]),\n",
       " 'std_score_time': array([0.00051043, 0.00047036, 0.00044533, 0.        , 0.00042945,\n",
       "        0.0004698 , 0.00047339, 0.        , 0.00047294, 0.00047373,\n",
       "        0.        , 0.        , 0.00044959, 0.00026772, 0.00047665,\n",
       "        0.00046968]),\n",
       " 'param_alpha': masked_array(data=[0.01, 0.01, 0.01, 0.01, 1, 1, 1, 1, 10, 10, 10, 10,\n",
       "                    100, 100, 100, 100],\n",
       "              mask=[False, False, False, False, False, False, False, False,\n",
       "                    False, False, False, False, False, False, False, False],\n",
       "        fill_value='?',\n",
       "             dtype=object),\n",
       " 'param_l1_ratio': masked_array(data=[0.1, 0.3, 0.6, 0.9, 0.1, 0.3, 0.6, 0.9, 0.1, 0.3, 0.6,\n",
       "                    0.9, 0.1, 0.3, 0.6, 0.9],\n",
       "              mask=[False, False, False, False, False, False, False, False,\n",
       "                    False, False, False, False, False, False, False, False],\n",
       "        fill_value='?',\n",
       "             dtype=object),\n",
       " 'params': [{'alpha': 0.01, 'l1_ratio': 0.1},\n",
       "  {'alpha': 0.01, 'l1_ratio': 0.3},\n",
       "  {'alpha': 0.01, 'l1_ratio': 0.6},\n",
       "  {'alpha': 0.01, 'l1_ratio': 0.9},\n",
       "  {'alpha': 1, 'l1_ratio': 0.1},\n",
       "  {'alpha': 1, 'l1_ratio': 0.3},\n",
       "  {'alpha': 1, 'l1_ratio': 0.6},\n",
       "  {'alpha': 1, 'l1_ratio': 0.9},\n",
       "  {'alpha': 10, 'l1_ratio': 0.1},\n",
       "  {'alpha': 10, 'l1_ratio': 0.3},\n",
       "  {'alpha': 10, 'l1_ratio': 0.6},\n",
       "  {'alpha': 10, 'l1_ratio': 0.9},\n",
       "  {'alpha': 100, 'l1_ratio': 0.1},\n",
       "  {'alpha': 100, 'l1_ratio': 0.3},\n",
       "  {'alpha': 100, 'l1_ratio': 0.6},\n",
       "  {'alpha': 100, 'l1_ratio': 0.9}],\n",
       " 'split0_test_score': array([0.68218302, 0.68192379, 0.68181673, 0.68240005, 0.68082502,\n",
       "        0.68149052, 0.68340523, 0.68724409, 0.61929888, 0.59381002,\n",
       "        0.5725952 , 0.56215921, 0.35574754, 0.22935477, 0.20720883,\n",
       "        0.20380483]),\n",
       " 'split1_test_score': array([0.77799819, 0.77852473, 0.77953818, 0.78093092, 0.70024339,\n",
       "        0.69709183, 0.69039407, 0.67565031, 0.59213279, 0.57026326,\n",
       "        0.55183353, 0.54470894, 0.37963072, 0.28836795, 0.25044051,\n",
       "        0.22961504]),\n",
       " 'split2_test_score': array([0.67137441, 0.67218394, 0.67396978, 0.67744395, 0.61458187,\n",
       "        0.6144267 , 0.61570514, 0.61858141, 0.52619771, 0.49340049,\n",
       "        0.47427816, 0.46248591, 0.29861492, 0.19588994, 0.14246563,\n",
       "        0.1418321 ]),\n",
       " 'mean_test_score': array([0.71051854, 0.71087749, 0.7117749 , 0.71359164, 0.66521676,\n",
       "        0.66433635, 0.66316814, 0.66049194, 0.5792098 , 0.55249126,\n",
       "        0.5329023 , 0.52311802, 0.34466439, 0.23787089, 0.20003833,\n",
       "        0.19175066]),\n",
       " 'std_test_score': array([0.04791892, 0.04799881, 0.04802285, 0.04765903, 0.0366714 ,\n",
       "        0.03586159, 0.03368248, 0.03001081, 0.03909143, 0.04287502,\n",
       "        0.04231118, 0.04346123, 0.03399036, 0.03823122, 0.04437121,\n",
       "        0.03683692]),\n",
       " 'rank_test_score': array([ 4,  3,  2,  1,  5,  6,  7,  8,  9, 10, 11, 12, 13, 14, 15, 16])}"
      ]
     },
     "execution_count": 84,
     "metadata": {},
     "output_type": "execute_result"
    }
   ],
   "source": [
    "# GridSearchCV\n",
    "\n",
    "from sklearn.model_selection import GridSearchCV\n",
    "\n",
    "params = {\n",
    "    'alpha':[0.01, 1, 10, 100],\n",
    "    'l1_ratio':[ 0.1, 0.3, 0.6, 0.9]\n",
    "}\n",
    "\n",
    "model_ElasticNet = ElasticNet()\n",
    "grid_reg = GridSearchCV(model_ElasticNet, param_grid=params, cv=3)\n",
    "\n",
    "grid_reg.fit(X_train, y_train)\n",
    "y_pred = grid_reg.predict(X_test)\n",
    "r2_score(y_test ,y_pred)\n",
    "\n",
    "grid_reg.best_params_\n",
    "\n",
    "grid_reg.best_score_\n",
    "\n",
    "grid_reg.cv_results_"
   ]
  },
  {
   "cell_type": "code",
   "execution_count": null,
   "metadata": {},
   "outputs": [],
   "source": []
  },
  {
   "cell_type": "code",
   "execution_count": null,
   "metadata": {},
   "outputs": [],
   "source": []
  }
 ],
 "metadata": {
  "kernelspec": {
   "display_name": "Python 3",
   "language": "python",
   "name": "python3"
  },
  "language_info": {
   "codemirror_mode": {
    "name": "ipython",
    "version": 3
   },
   "file_extension": ".py",
   "mimetype": "text/x-python",
   "name": "python",
   "nbconvert_exporter": "python",
   "pygments_lexer": "ipython3",
   "version": "3.8.5"
  }
 },
 "nbformat": 4,
 "nbformat_minor": 4
}
