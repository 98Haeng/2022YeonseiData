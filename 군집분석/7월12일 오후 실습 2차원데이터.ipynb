{
 "cells": [
  {
   "cell_type": "code",
   "execution_count": 1,
   "metadata": {
    "collapsed": true
   },
   "outputs": [
    {
     "data": {
      "image/png": "[encoded data removed]",
      "text/plain": [
       "<Figure size 432x288 with 1 Axes>"
      ]
     },
     "metadata": {
      "needs_background": "light"
     },
     "output_type": "display_data"
    }
   ],
   "source": [
    "from sklearn.datasets import make_blobs\n",
    "from sklearn.cluster import KMeans\n",
    "from sklearn.metrics import silhouette_samples, silhouette_score\n",
    "\n",
    "import matplotlib.pyplot as plt\n",
    "import matplotlib.cm as cm\n",
    "import numpy as np\n",
    "import pandas as pd\n",
    "\n",
    "X = np.array([[7, 5], [5, 7], [7, 7], [4, 4], [4, 6], [1, 4],\n",
    "              [0, 0], [2, 2], [8, 7], [6, 8], [5, 5], [3, 7]])\n",
    "plt.scatter(X[:, 0], X[:, 1], s=100)\n",
    "plt.show()"
   ]
  },
  {
   "cell_type": "code",
   "execution_count": 6,
   "metadata": {},
   "outputs": [
    {
     "data": {
      "text/plain": [
       "(array([1., 2.]), array([5.44444444, 6.22222222]))"
      ]
     },
     "execution_count": 6,
     "metadata": {},
     "output_type": "execute_result"
    }
   ],
   "source": [
    "model2 = KMeans(n_clusters=2, init=\"random\", n_init=100, max_iter=10000, random_state=1).fit(X)\n",
    "c0, c1 = model2.cluster_centers_\n",
    "c0, c1"
   ]
  },
  {
   "cell_type": "code",
   "execution_count": 7,
   "metadata": {},
   "outputs": [],
   "source": [
    "def plot_cluster(model, c0, c1):\n",
    "    plt.scatter(X[model.labels_ == 0, 0],\n",
    "                X[model.labels_ == 0, 1], s=100, marker='v', c='r')\n",
    "    plt.scatter(X[model.labels_ == 1, 0],\n",
    "                X[model.labels_ == 1, 1], s=100, marker='^', c='b')\n",
    "    plt.scatter(c0[0], c0[1], s=200, c=\"r\")\n",
    "    plt.scatter(c1[0], c1[1], s=200, c=\"b\")\n",
    "    plt.show()"
   ]
  },
  {
   "cell_type": "code",
   "execution_count": 8,
   "metadata": {},
   "outputs": [
    {
     "data": {
      "image/png": "[encoded data removed]",
      "text/plain": [
       "<Figure size 432x288 with 1 Axes>"
      ]
     },
     "metadata": {
      "needs_background": "light"
     },
     "output_type": "display_data"
    }
   ],
   "source": [
    "plot_cluster(model2,c0,c1)"
   ]
  },
  {
   "cell_type": "code",
   "execution_count": 10,
   "metadata": {},
   "outputs": [
    {
     "data": {
      "text/plain": [
       "(array([7.  , 6.75]), array([4.2, 5.8]), array([1., 2.]))"
      ]
     },
     "execution_count": 10,
     "metadata": {},
     "output_type": "execute_result"
    }
   ],
   "source": [
    "model3 = KMeans(n_clusters=3, init=\"random\", n_init=100, max_iter=10000, random_state=1).fit(X)\n",
    "c0, c1, c2 = model3.cluster_centers_\n",
    "c0, c1, c2"
   ]
  },
  {
   "cell_type": "code",
   "execution_count": 12,
   "metadata": {},
   "outputs": [],
   "source": [
    "def plot_cluster3(model, c0, c1,c2):\n",
    "    plt.scatter(X[model.labels_ == 0, 0],\n",
    "                X[model.labels_ == 0, 1], s=100, marker='v', c='r')\n",
    "    plt.scatter(X[model.labels_ == 1, 0],\n",
    "                X[model.labels_ == 1, 1], s=100, marker='^', c='b')\n",
    "    plt.scatter(X[model.labels_ == 2, 0],\n",
    "                X[model.labels_ == 2, 1], s=100, marker='^', c='g')\n",
    "    plt.scatter(c0[0], c0[1], s=200, c=\"r\")\n",
    "    plt.scatter(c1[0], c1[1], s=200, c=\"b\")\n",
    "    plt.scatter(c2[0], c2[1], s=200, c=\"g\")\n",
    "    plt.show()"
   ]
  },
  {
   "cell_type": "code",
   "execution_count": 13,
   "metadata": {},
   "outputs": [
    {
     "data": {
      "image/png": "[encoded data removed]",
      "text/plain": [
       "<Figure size 432x288 with 1 Axes>"
      ]
     },
     "metadata": {
      "needs_background": "light"
     },
     "output_type": "display_data"
    }
   ],
   "source": [
    "plot_cluster3(model3,c0,c1,c2)"
   ]
  },
  {
   "cell_type": "code",
   "execution_count": 20,
   "metadata": {},
   "outputs": [
    {
     "data": {
      "text/plain": [
       "(array([4.2, 5.8]), array([7.  , 6.75]), array([0., 0.]), array([1.5, 3. ]))"
      ]
     },
     "execution_count": 20,
     "metadata": {},
     "output_type": "execute_result"
    }
   ],
   "source": [
    "model4 = KMeans(n_clusters=4, init=\"random\", n_init=100, max_iter=10000, random_state=1).fit(X)\n",
    "c0, c1, c2, c3 = model4.cluster_centers_\n",
    "c0, c1, c2, c3"
   ]
  },
  {
   "cell_type": "code",
   "execution_count": 21,
   "metadata": {},
   "outputs": [],
   "source": [
    "def plot_cluster4(model, c0, c1,c2, c3):\n",
    "    plt.scatter(X[model.labels_ == 0, 0],\n",
    "                X[model.labels_ == 0, 1], s=100, marker='v', c='r')\n",
    "    plt.scatter(X[model.labels_ == 1, 0],\n",
    "                X[model.labels_ == 1, 1], s=100, marker='^', c='b')\n",
    "    plt.scatter(X[model.labels_ == 2, 0],\n",
    "                X[model.labels_ == 2, 1], s=100, marker='^', c='g')\n",
    "    plt.scatter(X[model.labels_ == 3, 0],\n",
    "                X[model.labels_ == 3, 1], s=100, marker='v', c='y')\n",
    "    plt.scatter(c0[0], c0[1], s=200, c=\"r\")\n",
    "    plt.scatter(c1[0], c1[1], s=200, c=\"b\")\n",
    "    plt.scatter(c2[0], c2[1], s=200, c=\"g\")\n",
    "    plt.scatter(c3[0], c3[1], s=200, c=\"y\")\n",
    "    plt.show()"
   ]
  },
  {
   "cell_type": "code",
   "execution_count": 22,
   "metadata": {},
   "outputs": [
    {
     "data": {
      "image/png": "[encoded data removed]",
      "text/plain": [
       "<Figure size 432x288 with 1 Axes>"
      ]
     },
     "metadata": {
      "needs_background": "light"
     },
     "output_type": "display_data"
    }
   ],
   "source": [
    "plot_cluster4(model4,c0,c1,c2,c3)"
   ]
  },
  {
   "cell_type": "code",
   "execution_count": 23,
   "metadata": {},
   "outputs": [
    {
     "data": {
      "text/plain": [
       "[130.33333333333334,\n",
       " 45.777777777777786,\n",
       " 26.349999999999998,\n",
       " 18.849999999999998,\n",
       " 12.916666666666666,\n",
       " 9.666666666666666,\n",
       " 7.0,\n",
       " 3.5,\n",
       " 2.5]"
      ]
     },
     "execution_count": 23,
     "metadata": {},
     "output_type": "execute_result"
    }
   ],
   "source": [
    "ks = range(1,10)\n",
    "SSE = []\n",
    "\n",
    "for k in ks:\n",
    "    model=KMeans(n_clusters=k)\n",
    "    model.fit(X)\n",
    "    SSE.append(model.inertia_)\n",
    "    \n",
    "SSE"
   ]
  },
  {
   "cell_type": "code",
   "execution_count": 24,
   "metadata": {
    "collapsed": true
   },
   "outputs": [
    {
     "data": {
      "image/png": "[encoded data removed]",
      "text/plain": [
       "<Figure size 432x288 with 1 Axes>"
      ]
     },
     "metadata": {
      "needs_background": "light"
     },
     "output_type": "display_data"
    }
   ],
   "source": [
    "plt.plot(ks, SSE, '-o')\n",
    "plt.xlabel('number of clusters, k')\n",
    "plt.ylabel('SSE')\n",
    "plt.xticks(ks)\n",
    "plt.show()"
   ]
  },
  {
   "cell_type": "code",
   "execution_count": 33,
   "metadata": {},
   "outputs": [],
   "source": [
    "def separation2(model1, c0, c1):\n",
    "    total_mean=np.mean(X[:,0])\n",
    "    m1=np.mean(X[model1.labels_==0,0])\n",
    "    m2=np.mean(X[model1.labels_==1,0])\n",
    "    count1=np.count_nonzero(model1.labels_== 0)\n",
    "    count2=np.count_nonzero(model1.labels_== 1)\n",
    "    separation=count1*(total_mean-m1)**2+count2*(m2-total_mean)**2\n",
    "    print(separation)"
   ]
  },
  {
   "cell_type": "code",
   "execution_count": 30,
   "metadata": {},
   "outputs": [],
   "source": [
    "def separation3(model1, c0, c1):\n",
    "    total_mean=np.mean(X[:,0])\n",
    "    m1=np.mean(X[model1.labels_==0,0])\n",
    "    m2=np.mean(X[model1.labels_==1,0])\n",
    "    m3=np.mean(X[model1.labels_==2,0])\n",
    "    count1=np.count_nonzero(model1.labels_==0)\n",
    "    count2=np.count_nonzero(model1.labels_==1)\n",
    "    count3=np.count_nonzero(model1.labels_==2)\n",
    "    separation=count1*(total_mean-m1)**2+count2*(m2-total_mean)**2+count3*(m3-total_mean)**2\n",
    "    print(separation)"
   ]
  },
  {
   "cell_type": "code",
   "execution_count": 31,
   "metadata": {},
   "outputs": [],
   "source": [
    "def separation4(model1, c0, c1):\n",
    "    total_mean=np.mean(X[:,0])\n",
    "    m1=np.mean(X[model1.labels_==0,0])\n",
    "    m2=np.mean(X[model1.labels_==1,0])\n",
    "    m3=np.mean(X[model1.labels_==2,0])\n",
    "    m4=np.mean(X[model1.labels_==3,0])\n",
    "    count1=np.count_nonzero(model1.labels_== 0)\n",
    "    count2=np.count_nonzero(model1.labels_== 1)\n",
    "    count3=np.count_nonzero(model1.labels_== 2)\n",
    "    count4=np.count_nonzero(model1.labels_== 3)\n",
    "    separation=count1*(total_mean-m1)**2+count2*(m2-total_mean)**2+count3*(m3-total_mean)**2+count4*(m4-total_mean)**2\n",
    "    print(separation)"
   ]
  },
  {
   "cell_type": "code",
   "execution_count": 34,
   "metadata": {},
   "outputs": [
    {
     "name": "stdout",
     "output_type": "stream",
     "text": [
      "44.44444444444445\n",
      "61.86666666666667\n",
      "63.366666666666674\n"
     ]
    },
    {
     "data": {
      "text/plain": [
       "(None, None, None)"
      ]
     },
     "execution_count": 34,
     "metadata": {},
     "output_type": "execute_result"
    }
   ],
   "source": [
    "separation2(model2,c0,c1),separation3(model3,c0,c1), separation4(model4,c0,c1)"
   ]
  },
  {
   "cell_type": "code",
   "execution_count": 36,
   "metadata": {},
   "outputs": [],
   "source": [
    "def s_matrix(model1):\n",
    "    for i in range(0,len(X)):\n",
    "        list1.append([])\n",
    "        for j in range(0,len(X)):\n",
    "            if model1.labels_[i]==model1.labels_[j]:\n",
    "                list1[i].append(1)\n",
    "            else :\n",
    "                list1[i].append(0)"
   ]
  },
  {
   "cell_type": "code",
   "execution_count": 37,
   "metadata": {},
   "outputs": [
    {
     "data": {
      "text/plain": [
       "[[1, 1, 1, 1, 1, 0, 0, 0, 1, 1, 1, 1],\n",
       " [1, 1, 1, 1, 1, 0, 0, 0, 1, 1, 1, 1],\n",
       " [1, 1, 1, 1, 1, 0, 0, 0, 1, 1, 1, 1],\n",
       " [1, 1, 1, 1, 1, 0, 0, 0, 1, 1, 1, 1],\n",
       " [1, 1, 1, 1, 1, 0, 0, 0, 1, 1, 1, 1],\n",
       " [0, 0, 0, 0, 0, 1, 1, 1, 0, 0, 0, 0],\n",
       " [0, 0, 0, 0, 0, 1, 1, 1, 0, 0, 0, 0],\n",
       " [0, 0, 0, 0, 0, 1, 1, 1, 0, 0, 0, 0],\n",
       " [1, 1, 1, 1, 1, 0, 0, 0, 1, 1, 1, 1],\n",
       " [1, 1, 1, 1, 1, 0, 0, 0, 1, 1, 1, 1],\n",
       " [1, 1, 1, 1, 1, 0, 0, 0, 1, 1, 1, 1],\n",
       " [1, 1, 1, 1, 1, 0, 0, 0, 1, 1, 1, 1]]"
      ]
     },
     "execution_count": 37,
     "metadata": {},
     "output_type": "execute_result"
    }
   ],
   "source": [
    "list1=[]\n",
    "s_matrix(model2)\n",
    "list1"
   ]
  },
  {
   "cell_type": "code",
   "execution_count": 38,
   "metadata": {},
   "outputs": [
    {
     "data": {
      "text/plain": [
       "[[1, 0, 1, 0, 0, 0, 0, 0, 1, 1, 0, 0],\n",
       " [0, 1, 0, 1, 1, 0, 0, 0, 0, 0, 1, 1],\n",
       " [1, 0, 1, 0, 0, 0, 0, 0, 1, 1, 0, 0],\n",
       " [0, 1, 0, 1, 1, 0, 0, 0, 0, 0, 1, 1],\n",
       " [0, 1, 0, 1, 1, 0, 0, 0, 0, 0, 1, 1],\n",
       " [0, 0, 0, 0, 0, 1, 1, 1, 0, 0, 0, 0],\n",
       " [0, 0, 0, 0, 0, 1, 1, 1, 0, 0, 0, 0],\n",
       " [0, 0, 0, 0, 0, 1, 1, 1, 0, 0, 0, 0],\n",
       " [1, 0, 1, 0, 0, 0, 0, 0, 1, 1, 0, 0],\n",
       " [1, 0, 1, 0, 0, 0, 0, 0, 1, 1, 0, 0],\n",
       " [0, 1, 0, 1, 1, 0, 0, 0, 0, 0, 1, 1],\n",
       " [0, 1, 0, 1, 1, 0, 0, 0, 0, 0, 1, 1]]"
      ]
     },
     "execution_count": 38,
     "metadata": {},
     "output_type": "execute_result"
    }
   ],
   "source": [
    "list1=[]\n",
    "s_matrix(model3)\n",
    "list1"
   ]
  },
  {
   "cell_type": "code",
   "execution_count": 39,
   "metadata": {},
   "outputs": [
    {
     "data": {
      "text/plain": [
       "[[1, 0, 1, 0, 0, 0, 0, 0, 1, 1, 0, 0],\n",
       " [0, 1, 0, 1, 1, 0, 0, 0, 0, 0, 1, 1],\n",
       " [1, 0, 1, 0, 0, 0, 0, 0, 1, 1, 0, 0],\n",
       " [0, 1, 0, 1, 1, 0, 0, 0, 0, 0, 1, 1],\n",
       " [0, 1, 0, 1, 1, 0, 0, 0, 0, 0, 1, 1],\n",
       " [0, 0, 0, 0, 0, 1, 0, 1, 0, 0, 0, 0],\n",
       " [0, 0, 0, 0, 0, 0, 1, 0, 0, 0, 0, 0],\n",
       " [0, 0, 0, 0, 0, 1, 0, 1, 0, 0, 0, 0],\n",
       " [1, 0, 1, 0, 0, 0, 0, 0, 1, 1, 0, 0],\n",
       " [1, 0, 1, 0, 0, 0, 0, 0, 1, 1, 0, 0],\n",
       " [0, 1, 0, 1, 1, 0, 0, 0, 0, 0, 1, 1],\n",
       " [0, 1, 0, 1, 1, 0, 0, 0, 0, 0, 1, 1]]"
      ]
     },
     "execution_count": 39,
     "metadata": {},
     "output_type": "execute_result"
    }
   ],
   "source": [
    "list1=[]\n",
    "s_matrix(model4)\n",
    "list1"
   ]
  },
  {
   "cell_type": "code",
   "execution_count": 40,
   "metadata": {},
   "outputs": [],
   "source": [
    "def entropy(labels):\n",
    "    \n",
    "    n_labels = len(labels)\n",
    "\n",
    "    counts = np.bincount(labels)\n",
    "    probs = counts[np.nonzero(counts)] / n_labels\n",
    "    n_classes = len(probs)\n",
    "\n",
    "    return - np.sum(probs * np.log(probs)) / np.log(n_classes)"
   ]
  },
  {
   "cell_type": "code",
   "execution_count": null,
   "metadata": {},
   "outputs": [],
   "source": []
  }
 ],
 "metadata": {
  "kernelspec": {
   "display_name": "Python 3",
   "language": "python",
   "name": "python3"
  },
  "language_info": {
   "codemirror_mode": {
    "name": "ipython",
    "version": 3
   },
   "file_extension": ".py",
   "mimetype": "text/x-python",
   "name": "python",
   "nbconvert_exporter": "python",
   "pygments_lexer": "ipython3",
   "version": "3.8.5"
  }
 },
 "nbformat": 4,
 "nbformat_minor": 4
}
