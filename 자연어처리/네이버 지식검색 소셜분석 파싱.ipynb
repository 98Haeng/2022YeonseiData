{
 "cells": [
  {
   "cell_type": "code",
   "execution_count": 1,
   "id": "db9dff72",
   "metadata": {},
   "outputs": [],
   "source": [
    "import pandas as pd\n",
    "import numpy as np\n",
    "\n",
    "import platform\n",
    "import matplotlib.pyplot as plt\n",
    "\n",
    "%matplotlib inline\n",
    "\n",
    "path = \"c:/Windows/Fonts/malgun.ttf\"\n",
    "from matplotlib import font_manager, rc\n",
    "if platform.system() == 'Darwin':\n",
    "    rc('font', family='AppleGothic')\n",
    "elif platform.system() == 'Windows':\n",
    "    font_name = font_manager.FontProperties(fname=path).get_name()\n",
    "    rc('font', family=font_name)\n",
    "else:\n",
    "    print('Unknown system... sorry~~~~')    \n",
    "\n",
    "plt.rcParams['axes.unicode_minus'] = False\n",
    "\n",
    "from bs4 import BeautifulSoup \n",
    "from urllib.request import urlopen\n",
    "import urllib\n",
    "import time"
   ]
  },
  {
   "cell_type": "code",
   "execution_count": 2,
   "id": "dc45d5ab",
   "metadata": {},
   "outputs": [],
   "source": [
    "tmp1 = 'https://search.naver.com/search.naver?where=kin'\n",
    "html = tmp1 + '&sm=tab_jum&ie=utf8&query={key_word}&start={num}'\n",
    "\n",
    "response = urlopen(html.format(num=1, key_word=urllib.parse.quote('크리스마스')))\n",
    "\n",
    "soup = BeautifulSoup(response, \"html.parser\")\n",
    "\n",
    "tmp = soup.find_all('ul') "
   ]
  },
  {
   "cell_type": "code",
   "execution_count": 3,
   "id": "43f02c8c",
   "metadata": {},
   "outputs": [
    {
     "data": {
      "text/plain": [
       "['   @txt@   @date@. 삭제   ',\n",
       " '   @txt@   추가     @txt@   @date@. 추가   ',\n",
       " ' 통합이미지어학사전VIEW지식iN인플루언서동영상쇼핑뉴스지도 ',\n",
       " ' 책뮤직지식백과오디오클립학술정보 ',\n",
       " '  공유  ',\n",
       " '   기간  전체1시간1일1주1개월3개월6개월1년 직접입력옵션펼치기접기     기간 설정시작       기간 설정끝      년(Year)           월(Month)           일(Day)            적용       답변  전체eXpert전문가변호사변리사법무사노무사회계사세무사의사한의사수의사약사영양사운동전문가손해사정사경영지도사기술지도사기술사관세사지식파트너분야별 지식인지존이상       옵션 초기화 검색옵션 가이드    ',\n",
       " ' ',\n",
       " ' ',\n",
       " ' ',\n",
       " '    Q  문서 저장하기  Keep에 저장 Keep 바로가기    크리스마스에 친구 생일인데 ... 친구들이 크리스마스에 파티를 하자고 얘기가 오가는 상황인데 생일인 친구랑 다른 무리 친구들이랑 크리스마스 파티를 하면 안 되는 건가요?... 생일인 친구가 서운할 수 있다는 건 이해하지만 그 친구 생일이라고 해서 제가크리스마스에 다른 친구들이랑 놀지 않아야 한다는 건 조금 이해할 수...      1:1  A     우주신아동, 미성년 상담  여성가족부.한국청소년상담복...      ... 반가워요~~*^^* 친구의 생일 축하와 크리스마스 파티를... 친구들과 크리스마스 파티도 할 겸, 같이 하고 싶은 마음이... 함께 크리스마스 파티를 하면 좋겠지만, 만약, 모든... 크리스마스 축하 자리를 따로 분리하는 것이 어떨까 싶어요. 생일인 친구에게도 최선을 다하고, 크리스마스를...  2021.12.21.          Q크리스마스장식 종류별 선택 안녕하세요. 크리스마스장식 알아보고 있습니다. 코로나 때문에 가족들과 조촐하게 파티 할껀데, 겨울이다 보니 크리스마스장식으로 이쁘게 만들려고요. 가격대비 가성비가 좋은 크리스마스장식 종류별로 비교하고 구매가능한곳 부탁드립니다.  2021.12.08.      이전 다음     관련 파티        Q  문서 저장하기  Keep에 저장 Keep 바로가기    크리스마스 추천 영화 좀 알려 주세요. (초4입니다,그래서 전체 이용가 영화 부탁드립니다!!!        1:1  A     수호신  영화학생      크리스마스 영화 추천 드립니다! 패밀리 맨 감독 브렛... 재개봉 라스트 크리스마스 감독 폴 페이그 출연... 크리스마스에 기적이 찾아온다면 감독 게리 예이츠... 크리스마스에 기적을 만날 확률 감독 곤 사토시 출연... 크리스마스 캐롤 감독 로버트 저메키스 출연 짐 캐리, 콜린...  2021.12.25.         Q  문서 저장하기  Keep에 저장 Keep 바로가기    올해 크리스마스 시급은?! ... (시급제) 계약서에는 평일 근무가 원칙이지만 사업장 특성상 변경될 수도 있다고 써져있고 실제로 스케줄 근무 중입니다! 올해 크리스마스가 토요일이라서 1.5배를 받을 수 없다는것 같은데 맞나요?! 그럼 같은 의미로 2022년 1월 1일도 1.5배가 아닌가요.?!      expert와 상담   A     노무사노무사  최우정       근로계약, 임금체불 등 노동사건 상담 별점4.5상담 218 평균 1분 내 응답    ... 올해 크리스마스가 토요일이라서 1.5배를 받을 수 없다는것 같은데 맞나요?!... 경우 크리스마스 토요일에 월-금요일까지 근무만근하고, 추가로 토요일에 출근하여 크리스마스 근무를 하게 되는... 5배로서 연장근무수당 산정 적용의 크리스마스 근무날 근무시간에 해당합니다. 참고되셨기를...  2021.12.02.         Q  문서 저장하기  Keep에 저장 Keep 바로가기    1930년대 일본의 크리스마스 1930년대 일본을 크리스마스를 어떻게 보냈나요? 크리스마스 트리를 장식하는 등 요즘과 비슷하였나요?     1:1  A     우주신  777      ... 대형 크리스마스 트리에, 선물에, 춤추고...북적북적했다고 합니다. 광란의 크리스마스라고나 할까.. 사진 참고 https://withnews.jp/article/f0161224001qq000000000000000G00110101qq000014474A https://radonna.biz/blog/japanese-christmas/ https://youtu.be/oc6eUxnqqnA  2022.05.10.          Q크리스마스 오르골 하나 식탁에 두려고요. 원래 트리만들려다가 그냥 밥 먹을 때 분위기나 내볼까 해서요^^ 예전에 비싼 거 하나 샀는데 생각보다 기분이 좋았거든요. 그 정도 품질을 바라는 건 아니고 성탄절 느낌 낼만한 크리스마스 오르골 찾아주세요. 사진도 같이 첨부해주세요~  2021.12.02.      이전 다음     관련 트리        Q  문서 저장하기  Keep에 저장 Keep 바로가기    크리스마스 아이랑 크리스마스때 와이프랑 아이랑 에버랜드 가려고하는데 사람많을까요 .. 많겠죠 그냥 주말에도 많은데 ㅠ 아니면 크리스마스때 사람도 많이없는곳이지만 할게많은게 뭐가있을까요 ㅠ 제가 글을쓰고도 이상하네요 할게많으면 사람도많을텐데.. 자기만 아는 비밀스러운곳 아는분있을까요 ㅠㅠ     1:1  A     바람신놀이공원, 워터파크  더주말      네 에버랜드는 크리스마스때 사람 엄청 많아요 ㅠㅠ 차라리 외곽으로 빠지시는게 나아보입니다 ㅜ  2021.12.08.          Q크리스마스 동화 만들기 제가 학교에서 동화를 만들어서 발표를 하는데 제목이 크리스마스의 비밀 이거든요? 근데 도저히 내용을 어떻게 만들어야 할지 생각이 안나요 ㅜㅜ내용 좀 알려주세요  2021.12.12.      이전 다음     관련 비밀        Q  문서 저장하기  Keep에 저장 Keep 바로가기    유럽의 크리스마스 기간 유럽 국가들의 크리스마스 연휴기간이 길다고 알고있는데 대부분의 유럽국가들은 대략 며칠 간의 크리스마스 연휴를 즐기나요?     1:1  A     절대신  고고싱싱      명확한 기준은 없으나 보통 크리스마스 휴가 기간은 12월 중순부터 1월 중순으로 보고요. 이 기간 중 보통 1~2주 전후로 여행을 많이들 다닙니다. 중요한 것은 크리스마스 & 연말 그리고 년초는 항상 가족과 함께~  2021.12.15.         Q  문서 저장하기  Keep에 저장 Keep 바로가기    크리스마스때 크리스마스는 원래 예수님 탄생일을 기념하기위한날이지 옛날엔 크리스마스가 놀면서 분위기 내는 그런날로 인식되진 않았죠? 크리스마스분위기 내는건 현대에와서 현대사람들이 만든 거죠?     1:1  A      다시 시작      예수님도 맞지만 선물은 예수님이 아닌 다른사람이 생각해냈습니다. 로마의 왕이 가난한 가족을 위해 아궁이에 선물을 넣고 갔는데 그때 크리스마스에 선물을 받는다는 문화의 시작이 됩니다. 채택부탁드립니다 감사합니다.  2022.07.03.          Q크리스마스 지키면 안되나요? 최근에 하나님의 교회 다니는 친구가 크리스마스가 예수님 탄생한 날이 아니라고 지키면 안된다고 자기교회는 안지킨다고 하더라구요. 예수님 탄생일 아니라고해도 그냥 축제일로 생각하고 기념행사로 보면될것같은데 지키면 안된다고해서 좀 이해가 안되서요  2021.12.27.      이전 다음     관련 탄생일 기념 예수님        Q  문서 저장하기  Keep에 저장 Keep 바로가기    크리스마스 데이트 보통 크리스마스 이브에 데이트 하짆아요 근데 하필 그날 할아버지 제사가 있는 날이라서… 크리스마스 이브가 아니라 크리스마스에 데이트 하는 경우도 있나요??ㅜ 그리고 데이트 할때 뭐 할지도 좀 추천해주세요…미안해서 제가 데이트 코스 다 짜려고요…        1:1  A    공연기획사 파릇      ... 크리스마스 데이트를 어떻게 할지 고민 중이시군요. 보통 크리스마스 이브에도 데이트 많이 하지만 많은 사람들이 크리스마스 당일날에 선물도 주고 받으며 기념일을 챙기시거든요! 그래서 작성자분이 말씀하신 것처럼 크리스마스 이브가 아니라 크리스마스 날밖에 데이트를 못한다고 걱정하지...  2021.11.19.          Q크리스마스 데이트 크리스마스에 여자친구랑 데이트 할려고 하는데 어디를 가야 될지 모르겠어요. 코스좀 추천해 주세요  2021.12.24.        Q크리스마스에 썸남이랑 데이트 하는데 데이트 코스를 어떻게 해야 할까여 ㅠㅠ 겨울이라 추워서 최대한 실내에서 놀거리 츄ㅜ천 해주세요  2021.12.06.      이전 다음     관련 데이트 코스        Q  문서 저장하기  Keep에 저장 Keep 바로가기    인천 크리스마스 갈만한 곳 ㅈㄱㄴ!! 친구랑 크리스마스에 만날건데 크리스마스 분위기 나는 갈만한 곳 추천해주세요 인천이여     1:1  A     우주신  이 정 현      연수구 송도에 있는 센트럴파크 가보세요 대형 크리스마스 츄리를 설치해서 야간에 가면 아주 멋있구요 그앞 포스코타워 주변에도 츄리를 아주 화려하게 설치해 놓아서 사진찍기에도 좋아요... ^^  2021.12.07.          Q크리스마스 제주도 안녕하세요 서울주민인데 매번 크리스마스를 서울에서만 보내다가 이번에 25 26 27 제주도로놀러가보려합니다 크리스마스 느낄만한 장소나 맛집... 제주도 예전에 계절별로 가봐서 볼거리 놀거리는 다해봐서 뻔한 관광지명소는 사양하겟습니다 크리스마스분위기나는 카페나 맛집 ,볼거리...  2021.12.15.        Q크리스마스때 놀 곳 명동 인사동 홍대 중에 어디가 제일 크리스마스 분위기 많이 나나요? 아니면 다른 갈곳 추천해주세요  2021.11.28.        Q크리스마스때 놀러갈곳 친구들이랑 크리스마스때 놀러가기로 했는데 저녁에 짧게 만날거고 서울안에 있는곳으로 추천해주세요 크리스마스 분위기나고 산책할 수 있는데로요  2021.12.15.      이전 다음     관련 분위기 추천        Q  문서 저장하기  Keep에 저장 Keep 바로가기    크리스마스 데이트는 언제 해요 크리스마스 데이트하면 보통 크리스마스 이브 때 하나요? 아니면 크리스마스 당일날 하나요?        1:1  A      timp****      ... 크리스마스 데이트에 관해 문의해주셨는데요! 아무래도 크리스마스 데이트는 크리스마스 당일에 하는 경우가 많다고 할 수 있어요! 하지만 크리스마스에 가족과함께 보내고자 하는분들도 꽤 있어 크리스마스 전날에 데이트를 하는 경우도 꽤 있고요! 크리스마스의 혼잡한...  2021.12.04.          Q크리스마스 이브날 크리스마스 이브 몇시 몇분에 영화 틀면 25일 0시 0분에 해피 크리스마스 이런거 하는 영화들 알려주세요!!ㅜ  2021.12.23.      이전 다음     관련 이브     ',\n",
       " '   올데이크리스마스     크리스마스리조트     크리스마스 성형외과     크리스마스 영화     크리스마스의원     신갈 크리스마스 성형외과     크리스마스치과     제주 크리스마스박물관     크리스마스 100일     호주 크리스마스   ',\n",
       " '\\n\\n\\n\\n크리스마스,마켓컬리천만이 사랑한 장보기알뜰쇼핑 매일 ~50%할인\\n\\n\\n\\n\\n\\n\\n\\n\\n광고\\n\\n\\n\\nn페이\\n\\n\\n\\n네이버 아이디 하나로 간편구매\\nNaver Pay 서비스 보기\\n\\n\\n\\n\\n\\nwww.kurly.com\\n\\n\\n\\n크리스마스도 깐깐하게 고른 컬리! 내일 아침 새벽배송으로 받아보세요.\\n              \\n\\n\\n\\n\\n\\n\\n\\n화과자의 명가 수예당정성을 가득담아 드립니다!\\n\\n\\n\\n\\n\\n\\n\\n\\n광고\\nwww.suyedang.com\\n\\n\\n\\n크리스마스, 믿음과 정성을 다하는 고품격 화과자전문 수예당! 연말, 감사선물세트\\n              \\n\\n\\n\\n화과자/만주\\n\\n\\n종합/선물용\\n\\n\\n제과\\n\\n\\n기획상품\\n\\n\\n\\n\\n\\n\\n\\n\\n크리스마스 프라그란스 인센스\\n\\n\\n\\n\\n\\n\\n\\n\\n광고\\n\\n\\n\\nn페이\\n\\n\\n\\n네이버 아이디 하나로 간편구매\\nNaver Pay 서비스 보기\\n\\n\\n\\n\\n\\nwww.dearon.co.kr\\n\\n\\n\\n                \\n                향기로운 하루의 시작, 크리스마스, 룸스프레이, 인센스스틱 브랜드 디아론!\\n              \\n\\n\\n할인\\n              최대 30%% 할인\\n            \\n\\n\\n\\n\\n\\n\\n100%수제요리 유앤나홈파티수제요리 100% 당일조리!\\n\\n\\n\\n\\n\\n\\n\\n\\n광고\\n\\n\\n\\nn페이\\n\\n\\n\\n네이버 아이디 하나로 간편구매\\nNaver Pay 서비스 보기\\n\\n\\n\\n\\n\\n\\n톡톡\\n\\n\\n\\n네이버톡톡으로 상담이 가능한 사이트입니다.\\n톡톡 서비스 보기\\n\\n\\n\\n\\n\\nsmartstore.naver.com/youandna\\n\\n\\n\\n                \\n                기업 및 홈파티음식, 맛과 품격을 더한 You&na 홈파티, 고객만족 Review\\n              \\n\\n\\n\\n\\n\\n\\n\\n크리스마스 예인디자인\\n\\n\\n\\n\\n\\n\\n\\n\\n광고\\nblog.naver.com/wxywxy000\\n\\n\\n\\n                \\n                대형 크리스마스트리, 호텔, 기업체, 관공서, 크리스마스트리 대여 및 렌탈 가능!\\n              \\n\\n\\n\\n\\n',\n",
       " '\\n\\n화과자/만주\\n\\n\\n종합/선물용\\n\\n\\n제과\\n\\n\\n기획상품\\n\\n']"
      ]
     },
     "execution_count": 3,
     "metadata": {},
     "output_type": "execute_result"
    }
   ],
   "source": [
    "tmp_list = []\n",
    "for line in tmp:\n",
    "    tmp_list.append(line.text)\n",
    "    \n",
    "tmp_list"
   ]
  },
  {
   "cell_type": "code",
   "execution_count": 4,
   "id": "7b49b22b",
   "metadata": {},
   "outputs": [
    {
     "name": "stderr",
     "output_type": "stream",
     "text": [
      "C:\\Users\\LeeSH\\AppData\\Local\\Temp\\ipykernel_6980\\3718156600.py:5: TqdmDeprecationWarning: This function will be removed in tqdm==5.0.0\n",
      "Please use `tqdm.notebook.tqdm` instead of `tqdm.tqdm_notebook`\n",
      "  for n in tqdm_notebook(range(1, 10000, 10)):\n"
     ]
    },
    {
     "data": {
      "application/vnd.jupyter.widget-view+json": {
       "model_id": "25338fec2f304f4b8ce20c4b5fa7107a",
       "version_major": 2,
       "version_minor": 0
      },
      "text/plain": [
       "  0%|          | 0/1000 [00:00<?, ?it/s]"
      ]
     },
     "metadata": {},
     "output_type": "display_data"
    }
   ],
   "source": [
    "from tqdm import tqdm_notebook\n",
    "\n",
    "present_candi_text = []\n",
    "\n",
    "for n in tqdm_notebook(range(1, 10000, 10)):\n",
    "    response = urlopen(html.format(num=n, key_word=urllib.parse.quote('여자 친구 선물')))\n",
    "\n",
    "    soup = BeautifulSoup(response, \"html.parser\")\n",
    "\n",
    "    tmp = soup.find_all('dl')\n",
    "\n",
    "    for line in tmp:\n",
    "        present_candi_text.append(line.text)\n",
    "        \n",
    "    time.sleep(0.5)"
   ]
  },
  {
   "cell_type": "code",
   "execution_count": 5,
   "id": "e2108aff",
   "metadata": {},
   "outputs": [
    {
     "data": {
      "text/plain": [
       "[]"
      ]
     },
     "execution_count": 5,
     "metadata": {},
     "output_type": "execute_result"
    }
   ],
   "source": [
    "present_candi_text"
   ]
  },
  {
   "cell_type": "code",
   "execution_count": 6,
   "id": "515b7796",
   "metadata": {},
   "outputs": [
    {
     "name": "stderr",
     "output_type": "stream",
     "text": [
      "C:\\Users\\LeeSH\\anaconda3\\lib\\site-packages\\konlpy\\tag\\_okt.py:17: UserWarning: \"Twitter\" has changed to \"Okt\" since KoNLPy v0.4.5.\n",
      "  warn('\"Twitter\" has changed to \"Okt\" since KoNLPy v0.4.5.')\n"
     ]
    },
    {
     "data": {
      "text/plain": [
       "''"
      ]
     },
     "execution_count": 6,
     "metadata": {},
     "output_type": "execute_result"
    }
   ],
   "source": [
    "import nltk\n",
    "from konlpy.tag import Twitter; t = Twitter()\n",
    "\n",
    "present_text = ''\n",
    "\n",
    "for each_line in present_candi_text[:10000]:\n",
    "    present_text = present_text + each_line + '\\n'\n",
    "present_text"
   ]
  },
  {
   "cell_type": "code",
   "execution_count": 7,
   "id": "a76caa15",
   "metadata": {},
   "outputs": [
    {
     "data": {
      "text/plain": [
       "[]"
      ]
     },
     "execution_count": 7,
     "metadata": {},
     "output_type": "execute_result"
    }
   ],
   "source": [
    "tokens_ko = t.morphs(present_text)\n",
    "tokens_ko"
   ]
  },
  {
   "cell_type": "code",
   "execution_count": 8,
   "id": "f1ffc0c1",
   "metadata": {},
   "outputs": [
    {
     "data": {
      "text/plain": [
       "[]"
      ]
     },
     "execution_count": 8,
     "metadata": {},
     "output_type": "execute_result"
    }
   ],
   "source": [
    "ko = nltk.Text(tokens_ko, name='여자 친구 선물')\n",
    "ko.vocab().most_common(100)"
   ]
  },
  {
   "cell_type": "code",
   "execution_count": 9,
   "id": "f6779a54",
   "metadata": {},
   "outputs": [
    {
     "data": {
      "text/plain": [
       "[]"
      ]
     },
     "execution_count": 9,
     "metadata": {},
     "output_type": "execute_result"
    }
   ],
   "source": [
    "stop_words = ['.','가','요','답변','...','을','수','에','질문','제','를','이','도',\n",
    "                      '좋','1','는','로','으로','2','것','은','다',',','니다','대','들',\n",
    "                      '2017','들','데','..','의','때','겠','고','게','네요','한','일','할',\n",
    "                      '10','?','하는','06','주','려고','인데','거','좀','는데','~','ㅎㅎ',\n",
    "                      '하나','이상','20','뭐','까','있는','잘','습니다','다면','했','주려',\n",
    "                      '지','있','못','후','중','줄','6','과','어떤','기본','!!',\n",
    "                      '단어','선물해','라고','중요한','합','가요','....','보이','네','무지']\n",
    "\n",
    "tokens_ko = [each_word for each_word in tokens_ko if each_word not in stop_words]\n",
    "ko = nltk.Text(tokens_ko, name='여자 친구 선물')\n",
    "ko.vocab().most_common(100)"
   ]
  },
  {
   "cell_type": "code",
   "execution_count": 10,
   "id": "9b029942",
   "metadata": {},
   "outputs": [
    {
     "data": {
      "image/png": "[encoded data removed]",
      "text/plain": [
       "<Figure size 1080x432 with 1 Axes>"
      ]
     },
     "metadata": {
      "needs_background": "light"
     },
     "output_type": "display_data"
    }
   ],
   "source": [
    "plt.figure(figsize=(15,6))\n",
    "ko.plot(100) \n",
    "plt.show()"
   ]
  },
  {
   "cell_type": "code",
   "execution_count": 11,
   "id": "bbfceb00",
   "metadata": {},
   "outputs": [
    {
     "ename": "ValueError",
     "evalue": "We need at least 1 word to plot a word cloud, got 0.",
     "output_type": "error",
     "traceback": [
      "\u001b[1;31m---------------------------------------------------------------------------\u001b[0m",
      "\u001b[1;31mValueError\u001b[0m                                Traceback (most recent call last)",
      "Input \u001b[1;32mIn [11]\u001b[0m, in \u001b[0;36m<cell line: 6>\u001b[1;34m()\u001b[0m\n\u001b[0;32m      2\u001b[0m \u001b[38;5;28;01mfrom\u001b[39;00m \u001b[38;5;21;01mPIL\u001b[39;00m \u001b[38;5;28;01mimport\u001b[39;00m Image\n\u001b[0;32m      4\u001b[0m data \u001b[38;5;241m=\u001b[39m ko\u001b[38;5;241m.\u001b[39mvocab()\u001b[38;5;241m.\u001b[39mmost_common(\u001b[38;5;241m300\u001b[39m)\n\u001b[1;32m----> 6\u001b[0m wordcloud \u001b[38;5;241m=\u001b[39m \u001b[43mWordCloud\u001b[49m\u001b[43m(\u001b[49m\u001b[43mfont_path\u001b[49m\u001b[38;5;241;43m=\u001b[39;49m\u001b[38;5;124;43m'\u001b[39;49m\u001b[38;5;124;43mc:/Windows/Fonts/malgun.ttf\u001b[39;49m\u001b[38;5;124;43m'\u001b[39;49m\u001b[43m,\u001b[49m\n\u001b[0;32m      7\u001b[0m \u001b[43m                      \u001b[49m\u001b[43mrelative_scaling\u001b[49m\u001b[43m \u001b[49m\u001b[38;5;241;43m=\u001b[39;49m\u001b[43m \u001b[49m\u001b[38;5;241;43m0.2\u001b[39;49m\u001b[43m,\u001b[49m\n\u001b[0;32m      8\u001b[0m \u001b[43m                      \u001b[49m\u001b[43mbackground_color\u001b[49m\u001b[38;5;241;43m=\u001b[39;49m\u001b[38;5;124;43m'\u001b[39;49m\u001b[38;5;124;43mwhite\u001b[39;49m\u001b[38;5;124;43m'\u001b[39;49m\u001b[43m,\u001b[49m\n\u001b[0;32m      9\u001b[0m \u001b[43m                      \u001b[49m\u001b[43m)\u001b[49m\u001b[38;5;241;43m.\u001b[39;49m\u001b[43mgenerate_from_frequencies\u001b[49m\u001b[43m(\u001b[49m\u001b[38;5;28;43mdict\u001b[39;49m\u001b[43m(\u001b[49m\u001b[43mdata\u001b[49m\u001b[43m)\u001b[49m\u001b[43m)\u001b[49m\n\u001b[0;32m     10\u001b[0m plt\u001b[38;5;241m.\u001b[39mfigure(figsize\u001b[38;5;241m=\u001b[39m(\u001b[38;5;241m16\u001b[39m,\u001b[38;5;241m8\u001b[39m))\n\u001b[0;32m     11\u001b[0m plt\u001b[38;5;241m.\u001b[39mimshow(wordcloud)\n",
      "File \u001b[1;32m~\\anaconda3\\lib\\site-packages\\wordcloud\\wordcloud.py:410\u001b[0m, in \u001b[0;36mWordCloud.generate_from_frequencies\u001b[1;34m(self, frequencies, max_font_size)\u001b[0m\n\u001b[0;32m    408\u001b[0m frequencies \u001b[38;5;241m=\u001b[39m \u001b[38;5;28msorted\u001b[39m(frequencies\u001b[38;5;241m.\u001b[39mitems(), key\u001b[38;5;241m=\u001b[39mitemgetter(\u001b[38;5;241m1\u001b[39m), reverse\u001b[38;5;241m=\u001b[39m\u001b[38;5;28;01mTrue\u001b[39;00m)\n\u001b[0;32m    409\u001b[0m \u001b[38;5;28;01mif\u001b[39;00m \u001b[38;5;28mlen\u001b[39m(frequencies) \u001b[38;5;241m<\u001b[39m\u001b[38;5;241m=\u001b[39m \u001b[38;5;241m0\u001b[39m:\n\u001b[1;32m--> 410\u001b[0m     \u001b[38;5;28;01mraise\u001b[39;00m \u001b[38;5;167;01mValueError\u001b[39;00m(\u001b[38;5;124m\"\u001b[39m\u001b[38;5;124mWe need at least 1 word to plot a word cloud, \u001b[39m\u001b[38;5;124m\"\u001b[39m\n\u001b[0;32m    411\u001b[0m                      \u001b[38;5;124m\"\u001b[39m\u001b[38;5;124mgot \u001b[39m\u001b[38;5;132;01m%d\u001b[39;00m\u001b[38;5;124m.\u001b[39m\u001b[38;5;124m\"\u001b[39m \u001b[38;5;241m%\u001b[39m \u001b[38;5;28mlen\u001b[39m(frequencies))\n\u001b[0;32m    412\u001b[0m frequencies \u001b[38;5;241m=\u001b[39m frequencies[:\u001b[38;5;28mself\u001b[39m\u001b[38;5;241m.\u001b[39mmax_words]\n\u001b[0;32m    414\u001b[0m \u001b[38;5;66;03m# largest entry will be 1\u001b[39;00m\n",
      "\u001b[1;31mValueError\u001b[0m: We need at least 1 word to plot a word cloud, got 0."
     ]
    }
   ],
   "source": [
    "from wordcloud import WordCloud, STOPWORDS\n",
    "from PIL import Image\n",
    "\n",
    "data = ko.vocab().most_common(300)\n",
    "\n",
    "wordcloud = WordCloud(font_path='c:/Windows/Fonts/malgun.ttf',\n",
    "                      relative_scaling = 0.2,\n",
    "                      background_color='white',\n",
    "                      ).generate_from_frequencies(dict(data))\n",
    "plt.figure(figsize=(16,8))\n",
    "plt.imshow(wordcloud)\n",
    "plt.axis(\"off\")\n",
    "plt.show()"
   ]
  },
  {
   "cell_type": "code",
   "execution_count": null,
   "id": "c1737f9b",
   "metadata": {},
   "outputs": [],
   "source": []
  }
 ],
 "metadata": {
  "kernelspec": {
   "display_name": "Python 3 (ipykernel)",
   "language": "python",
   "name": "python3"
  },
  "language_info": {
   "codemirror_mode": {
    "name": "ipython",
    "version": 3
   },
   "file_extension": ".py",
   "mimetype": "text/x-python",
   "name": "python",
   "nbconvert_exporter": "python",
   "pygments_lexer": "ipython3",
   "version": "3.8.5"
  }
 },
 "nbformat": 4,
 "nbformat_minor": 5
}
